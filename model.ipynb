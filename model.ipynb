{
 "cells": [
  {
   "cell_type": "code",
   "execution_count": 53,
   "id": "1d620094",
   "metadata": {},
   "outputs": [],
   "source": [
    "from langchain.llms import GooglePalm"
   ]
  },
  {
   "cell_type": "code",
   "execution_count": 54,
   "id": "e4beac4c",
   "metadata": {},
   "outputs": [],
   "source": [
    "import os\n",
    "import streamlit as st\n",
    "import pickle\n",
    "import time\n",
    "import langchain\n",
    "from langchain import OpenAI\n",
    "from langchain.chains import RetrievalQAWithSourcesChain\n",
    "from langchain.chains.qa_with_sources.loading import load_qa_with_sources_chain\n",
    "from langchain.text_splitter import RecursiveCharacterTextSplitter\n",
    "from langchain.document_loaders import UnstructuredURLLoader\n",
    "from langchain.embeddings import OpenAIEmbeddings\n",
    "from langchain.vectorstores import FAISS\n",
    "import requests\n",
    "from bs4 import BeautifulSoup"
   ]
  },
  {
   "cell_type": "code",
   "execution_count": 55,
   "id": "7268ed08",
   "metadata": {},
   "outputs": [],
   "source": [
    "import pandas as pd"
   ]
  },
  {
   "cell_type": "code",
   "execution_count": 56,
   "id": "e1b585c1",
   "metadata": {},
   "outputs": [],
   "source": [
    "with open(\"google_key.txt\", \"r\") as f:\n",
    "    api_key=f.read()"
   ]
  },
  {
   "cell_type": "code",
   "execution_count": 57,
   "id": "becadc11",
   "metadata": {},
   "outputs": [],
   "source": [
    "llm=GooglePalm(google_api_key=api_key, temperature=0.7)"
   ]
  },
  {
   "cell_type": "code",
   "execution_count": 58,
   "id": "8520f779",
   "metadata": {},
   "outputs": [],
   "source": [
    "urls=[\"https://www.livemint.com/news/india/uttarkashi-tunnel-collapse-silkyara-ndrf-deploys-team-rescue-mission-41-workers-top-10-updates-pushkar-singh-dhami-11700703183514.html\",\n",
    "     \"https://timesofindia.indiatimes.com/city/kochi/centre-calls-health-meet-as-covid-rises-in-kerala-10-deaths-this-month/articleshow/106106851.cms\"]\n",
    "responses=[]\n",
    "\n",
    "for url in urls:\n",
    "    response=requests.get(url)\n",
    "    if response.status_code==200:\n",
    "        soup = BeautifulSoup(response.text, 'html.parser')\n",
    "        text = soup.get_text()\n",
    "        responses.append((text, response.url))\n",
    "        \n",
    "    else:\n",
    "        print(f\"Failed to retrieve the URL. Url={url} Status_code :{response.status_code}\")"
   ]
  },
  {
   "cell_type": "code",
   "execution_count": 59,
   "id": "e160d5f1",
   "metadata": {},
   "outputs": [
    {
     "data": {
      "text/plain": [
       "2"
      ]
     },
     "execution_count": 59,
     "metadata": {},
     "output_type": "execute_result"
    }
   ],
   "source": [
    "len(responses)"
   ]
  },
  {
   "cell_type": "code",
   "execution_count": 60,
   "id": "b44c0ab8",
   "metadata": {},
   "outputs": [],
   "source": [
    "import string \n",
    "punct=string.punctuation\n",
    "seps=[]\n",
    "for i in punct:\n",
    "    seps.append(i)"
   ]
  },
  {
   "cell_type": "code",
   "execution_count": 61,
   "id": "98c16083",
   "metadata": {},
   "outputs": [],
   "source": [
    "text_splitter=RecursiveCharacterTextSplitter(\n",
    "    separators=[\"\\n\\n\", \"\\n\", \"?\",\".\" ]+seps+[\" \"],\n",
    "    chunk_size=1000,\n",
    "    chunk_overlap=200\n",
    ")"
   ]
  },
  {
   "cell_type": "code",
   "execution_count": 62,
   "id": "b4d6034d",
   "metadata": {},
   "outputs": [],
   "source": [
    "splitted_tuple=[]\n",
    "for i in responses:\n",
    "    splitted_text= text_splitter.split_text(i[0])\n",
    "    for j in splitted_text:\n",
    "        splitted_tuple.append((j, i[1]))"
   ]
  },
  {
   "cell_type": "code",
   "execution_count": 63,
   "id": "97f4c571",
   "metadata": {},
   "outputs": [],
   "source": [
    "data_dict=[{\"chunks\": content, \"url\": url} for content, url in splitted_tuple]"
   ]
  },
  {
   "cell_type": "code",
   "execution_count": 64,
   "id": "1b0505d0",
   "metadata": {},
   "outputs": [],
   "source": [
    "df = pd.DataFrame(data_dict)"
   ]
  },
  {
   "cell_type": "code",
   "execution_count": 65,
   "id": "d7027e08",
   "metadata": {},
   "outputs": [],
   "source": [
    "def filter_chunks(text):\n",
    "    text=text.lower().strip()\n",
    "    text=text.split()\n",
    "    words=[]\n",
    "    for i in text:\n",
    "        if i not in seps:\n",
    "            word=\"\".join([j for j in i if j.isalnum()])\n",
    "            words.append(word)\n",
    "    sentence=\" \".join(words)\n",
    "    if(len(sentence)>0):\n",
    "        return sentence  "
   ]
  },
  {
   "cell_type": "code",
   "execution_count": 66,
   "id": "ab57f97b",
   "metadata": {},
   "outputs": [
    {
     "data": {
      "text/plain": [
       "'add'"
      ]
     },
     "execution_count": 66,
     "metadata": {},
     "output_type": "execute_result"
    }
   ],
   "source": [
    "filter_chunks(\"add! .\")"
   ]
  },
  {
   "cell_type": "code",
   "execution_count": 67,
   "id": "60829772",
   "metadata": {},
   "outputs": [],
   "source": [
    "df[\"chunks\"]=df[\"chunks\"].apply(filter_chunks)"
   ]
  },
  {
   "cell_type": "code",
   "execution_count": 68,
   "id": "ed472ef5",
   "metadata": {},
   "outputs": [],
   "source": [
    "csv_path='dataset.csv'\n",
    "if os.path.exists(csv_path):\n",
    "    os.remove(csv_path)"
   ]
  },
  {
   "cell_type": "code",
   "execution_count": 69,
   "id": "e733d987",
   "metadata": {},
   "outputs": [],
   "source": [
    "df.to_csv(csv_path, index=False)"
   ]
  },
  {
   "cell_type": "code",
   "execution_count": 70,
   "id": "7ded49c9",
   "metadata": {},
   "outputs": [],
   "source": [
    "csv_data=pd.read_csv(\"dataset.csv\",encoding='latin1')"
   ]
  },
  {
   "cell_type": "code",
   "execution_count": 71,
   "id": "f44c776f",
   "metadata": {},
   "outputs": [
    {
     "data": {
      "text/html": [
       "<div>\n",
       "<style scoped>\n",
       "    .dataframe tbody tr th:only-of-type {\n",
       "        vertical-align: middle;\n",
       "    }\n",
       "\n",
       "    .dataframe tbody tr th {\n",
       "        vertical-align: top;\n",
       "    }\n",
       "\n",
       "    .dataframe thead th {\n",
       "        text-align: right;\n",
       "    }\n",
       "</style>\n",
       "<table border=\"1\" class=\"dataframe\">\n",
       "  <thead>\n",
       "    <tr style=\"text-align: right;\">\n",
       "      <th></th>\n",
       "      <th>chunks</th>\n",
       "      <th>url</th>\n",
       "    </tr>\n",
       "  </thead>\n",
       "  <tbody>\n",
       "    <tr>\n",
       "      <th>0</th>\n",
       "      <td>uttarkashi tunnel collapse ndrf team enters tu...</td>\n",
       "      <td>https://www.livemint.com/news/india/uttarkashi...</td>\n",
       "    </tr>\n",
       "    <tr>\n",
       "      <th>1</th>\n",
       "      <td>explore sign in epaper subscribe tuesday 2 jan...</td>\n",
       "      <td>https://www.livemint.com/news/india/uttarkashi...</td>\n",
       "    </tr>\n",
       "    <tr>\n",
       "      <th>2</th>\n",
       "      <td>top sections news india news world news econom...</td>\n",
       "      <td>https://www.livemint.com/news/india/uttarkashi...</td>\n",
       "    </tr>\n",
       "    <tr>\n",
       "      <th>3</th>\n",
       "      <td>a opinion markets stock markets commodity news...</td>\n",
       "      <td>https://www.livemint.com/news/india/uttarkashi...</td>\n",
       "    </tr>\n",
       "    <tr>\n",
       "      <th>4</th>\n",
       "      <td>multimedia collections videos webstories photo...</td>\n",
       "      <td>https://www.livemint.com/news/india/uttarkashi...</td>\n",
       "    </tr>\n",
       "    <tr>\n",
       "      <th>6</th>\n",
       "      <td>gainers losers top gainers top losers sun phar...</td>\n",
       "      <td>https://www.livemint.com/news/india/uttarkashi...</td>\n",
       "    </tr>\n",
       "    <tr>\n",
       "      <th>7</th>\n",
       "      <td>business news news india uttarkashi tunnel col...</td>\n",
       "      <td>https://www.livemint.com/news/india/uttarkashi...</td>\n",
       "    </tr>\n",
       "    <tr>\n",
       "      <th>8</th>\n",
       "      <td>a 15member ndrf team led by a commandant has b...</td>\n",
       "      <td>https://www.livemint.com/news/india/uttarkashi...</td>\n",
       "    </tr>\n",
       "    <tr>\n",
       "      <th>9</th>\n",
       "      <td>2 medical professionals have been stationed wi...</td>\n",
       "      <td>https://www.livemint.com/news/india/uttarkashi...</td>\n",
       "    </tr>\n",
       "    <tr>\n",
       "      <th>10</th>\n",
       "      <td>3 the dedicated freight corridor corporation o...</td>\n",
       "      <td>https://www.livemint.com/news/india/uttarkashi...</td>\n",
       "    </tr>\n",
       "    <tr>\n",
       "      <th>11</th>\n",
       "      <td>5 after conversing with the workers their fami...</td>\n",
       "      <td>https://www.livemint.com/news/india/uttarkashi...</td>\n",
       "    </tr>\n",
       "    <tr>\n",
       "      <th>12</th>\n",
       "      <td>the incident is not the first in uttarakhand s...</td>\n",
       "      <td>https://www.livemint.com/news/india/uttarkashi...</td>\n",
       "    </tr>\n",
       "    <tr>\n",
       "      <th>13</th>\n",
       "      <td>jharkhand labour minister satyanand bhokta sta...</td>\n",
       "      <td>https://www.livemint.com/news/india/uttarkashi...</td>\n",
       "    </tr>\n",
       "    <tr>\n",
       "      <th>14</th>\n",
       "      <td>milestone alert livemint tops charts as the fa...</td>\n",
       "      <td>https://www.livemint.com/news/india/uttarkashi...</td>\n",
       "    </tr>\n",
       "    <tr>\n",
       "      <th>15</th>\n",
       "      <td>unlock a world of benefits from insightful new...</td>\n",
       "      <td>https://www.livemint.com/news/india/uttarkashi...</td>\n",
       "    </tr>\n",
       "    <tr>\n",
       "      <th>16</th>\n",
       "      <td>catch all the business news market news breaki...</td>\n",
       "      <td>https://www.livemint.com/news/india/uttarkashi...</td>\n",
       "    </tr>\n",
       "    <tr>\n",
       "      <th>17</th>\n",
       "      <td>connect with us trending stories sensex today ...</td>\n",
       "      <td>https://www.livemint.com/news/india/uttarkashi...</td>\n",
       "    </tr>\n",
       "    <tr>\n",
       "      <th>18</th>\n",
       "      <td>000 best asus gaming laptop dhong for justice ...</td>\n",
       "      <td>https://www.livemint.com/news/india/uttarkashi...</td>\n",
       "    </tr>\n",
       "    <tr>\n",
       "      <th>19</th>\n",
       "      <td>oil share price spicejet share price tcs share...</td>\n",
       "      <td>https://www.livemint.com/news/india/uttarkashi...</td>\n",
       "    </tr>\n",
       "    <tr>\n",
       "      <th>20</th>\n",
       "      <td>toubro share price tata consumer share price g...</td>\n",
       "      <td>https://www.livemint.com/news/india/uttarkashi...</td>\n",
       "    </tr>\n",
       "    <tr>\n",
       "      <th>21</th>\n",
       "      <td>19 pandemic manipur cm suspects foreign mercen...</td>\n",
       "      <td>https://www.livemint.com/news/india/uttarkashi...</td>\n",
       "    </tr>\n",
       "    <tr>\n",
       "      <th>22</th>\n",
       "      <td>s brics chairmanship begins putin shares key p...</td>\n",
       "      <td>https://www.livemint.com/news/india/uttarkashi...</td>\n",
       "    </tr>\n",
       "    <tr>\n",
       "      <th>23</th>\n",
       "      <td>18 crore itrs a record number of income tax re...</td>\n",
       "      <td>https://www.livemint.com/news/india/uttarkashi...</td>\n",
       "    </tr>\n",
       "    <tr>\n",
       "      <th>24</th>\n",
       "      <td>australias steve waugh warns icc bcci stock m...</td>\n",
       "      <td>https://www.livemint.com/news/india/uttarkashi...</td>\n",
       "    </tr>\n",
       "    <tr>\n",
       "      <th>25</th>\n",
       "      <td>tourbo share price mahindra mahindra share pri...</td>\n",
       "      <td>https://www.livemint.com/news/india/uttarkashi...</td>\n",
       "    </tr>\n",
       "    <tr>\n",
       "      <th>26</th>\n",
       "      <td>no networkserver issueinternet not availablewa...</td>\n",
       "      <td>https://www.livemint.com/news/india/uttarkashi...</td>\n",
       "    </tr>\n",
       "    <tr>\n",
       "      <th>27</th>\n",
       "      <td>covid cases in kerala centre calls health meet...</td>\n",
       "      <td>https://timesofindia.indiatimes.com/city/kochi...</td>\n",
       "    </tr>\n",
       "    <tr>\n",
       "      <th>28</th>\n",
       "      <td>10 deaths this monthtrendingcovid cases in ind...</td>\n",
       "      <td>https://timesofindia.indiatimes.com/city/kochi...</td>\n",
       "    </tr>\n",
       "    <tr>\n",
       "      <th>29</th>\n",
       "      <td>text sizesmallmediumlargefollow us image used ...</td>\n",
       "      <td>https://timesofindia.indiatimes.com/city/kochi...</td>\n",
       "    </tr>\n",
       "    <tr>\n",
       "      <th>30</th>\n",
       "      <td>kerala is witnessing a rise in covid cases as ...</td>\n",
       "      <td>https://timesofindia.indiatimes.com/city/kochi...</td>\n",
       "    </tr>\n",
       "    <tr>\n",
       "      <th>31</th>\n",
       "      <td>covid states told to increase rtpcr teststhe h...</td>\n",
       "      <td>https://timesofindia.indiatimes.com/city/kochi...</td>\n",
       "    </tr>\n",
       "    <tr>\n",
       "      <th>32</th>\n",
       "      <td>jn1 variant has also been reported in the usa ...</td>\n",
       "      <td>https://timesofindia.indiatimes.com/city/kochi...</td>\n",
       "    </tr>\n",
       "    <tr>\n",
       "      <th>33</th>\n",
       "      <td>according to the government there is no indica...</td>\n",
       "      <td>https://timesofindia.indiatimes.com/city/kochi...</td>\n",
       "    </tr>\n",
       "    <tr>\n",
       "      <th>34</th>\n",
       "      <td>follow us on social media visual stories previ...</td>\n",
       "      <td>https://timesofindia.indiatimes.com/city/kochi...</td>\n",
       "    </tr>\n",
       "    <tr>\n",
       "      <th>35</th>\n",
       "      <td>development says pm after poll resultstgana po...</td>\n",
       "      <td>https://timesofindia.indiatimes.com/city/kochi...</td>\n",
       "    </tr>\n",
       "    <tr>\n",
       "      <th>36</th>\n",
       "      <td>karnataka on high alert after zika virus found...</td>\n",
       "      <td>https://timesofindia.indiatimes.com/city/kochi...</td>\n",
       "    </tr>\n",
       "    <tr>\n",
       "      <th>37</th>\n",
       "      <td>5 upi payment rules changing in january 20245 ...</td>\n",
       "      <td>https://timesofindia.indiatimes.com/city/kochi...</td>\n",
       "    </tr>\n",
       "    <tr>\n",
       "      <th>38</th>\n",
       "      <td>fitness tipsindian tv showscelebrity photoshot...</td>\n",
       "      <td>https://timesofindia.indiatimes.com/city/kochi...</td>\n",
       "    </tr>\n",
       "    <tr>\n",
       "      <th>39</th>\n",
       "      <td>comfilmfaretvlifestylelongwalks appnewspaper s...</td>\n",
       "      <td>https://timesofindia.indiatimes.com/city/kochi...</td>\n",
       "    </tr>\n",
       "  </tbody>\n",
       "</table>\n",
       "</div>"
      ],
      "text/plain": [
       "                                               chunks  \\\n",
       "0   uttarkashi tunnel collapse ndrf team enters tu...   \n",
       "1   explore sign in epaper subscribe tuesday 2 jan...   \n",
       "2   top sections news india news world news econom...   \n",
       "3   a opinion markets stock markets commodity news...   \n",
       "4   multimedia collections videos webstories photo...   \n",
       "6   gainers losers top gainers top losers sun phar...   \n",
       "7   business news news india uttarkashi tunnel col...   \n",
       "8   a 15member ndrf team led by a commandant has b...   \n",
       "9   2 medical professionals have been stationed wi...   \n",
       "10  3 the dedicated freight corridor corporation o...   \n",
       "11  5 after conversing with the workers their fami...   \n",
       "12  the incident is not the first in uttarakhand s...   \n",
       "13  jharkhand labour minister satyanand bhokta sta...   \n",
       "14  milestone alert livemint tops charts as the fa...   \n",
       "15  unlock a world of benefits from insightful new...   \n",
       "16  catch all the business news market news breaki...   \n",
       "17  connect with us trending stories sensex today ...   \n",
       "18  000 best asus gaming laptop dhong for justice ...   \n",
       "19  oil share price spicejet share price tcs share...   \n",
       "20  toubro share price tata consumer share price g...   \n",
       "21  19 pandemic manipur cm suspects foreign mercen...   \n",
       "22  s brics chairmanship begins putin shares key p...   \n",
       "23  18 crore itrs a record number of income tax re...   \n",
       "24   australias steve waugh warns icc bcci stock m...   \n",
       "25  tourbo share price mahindra mahindra share pri...   \n",
       "26  no networkserver issueinternet not availablewa...   \n",
       "27  covid cases in kerala centre calls health meet...   \n",
       "28  10 deaths this monthtrendingcovid cases in ind...   \n",
       "29  text sizesmallmediumlargefollow us image used ...   \n",
       "30  kerala is witnessing a rise in covid cases as ...   \n",
       "31  covid states told to increase rtpcr teststhe h...   \n",
       "32  jn1 variant has also been reported in the usa ...   \n",
       "33  according to the government there is no indica...   \n",
       "34  follow us on social media visual stories previ...   \n",
       "35  development says pm after poll resultstgana po...   \n",
       "36  karnataka on high alert after zika virus found...   \n",
       "37  5 upi payment rules changing in january 20245 ...   \n",
       "38  fitness tipsindian tv showscelebrity photoshot...   \n",
       "39  comfilmfaretvlifestylelongwalks appnewspaper s...   \n",
       "\n",
       "                                                  url  \n",
       "0   https://www.livemint.com/news/india/uttarkashi...  \n",
       "1   https://www.livemint.com/news/india/uttarkashi...  \n",
       "2   https://www.livemint.com/news/india/uttarkashi...  \n",
       "3   https://www.livemint.com/news/india/uttarkashi...  \n",
       "4   https://www.livemint.com/news/india/uttarkashi...  \n",
       "6   https://www.livemint.com/news/india/uttarkashi...  \n",
       "7   https://www.livemint.com/news/india/uttarkashi...  \n",
       "8   https://www.livemint.com/news/india/uttarkashi...  \n",
       "9   https://www.livemint.com/news/india/uttarkashi...  \n",
       "10  https://www.livemint.com/news/india/uttarkashi...  \n",
       "11  https://www.livemint.com/news/india/uttarkashi...  \n",
       "12  https://www.livemint.com/news/india/uttarkashi...  \n",
       "13  https://www.livemint.com/news/india/uttarkashi...  \n",
       "14  https://www.livemint.com/news/india/uttarkashi...  \n",
       "15  https://www.livemint.com/news/india/uttarkashi...  \n",
       "16  https://www.livemint.com/news/india/uttarkashi...  \n",
       "17  https://www.livemint.com/news/india/uttarkashi...  \n",
       "18  https://www.livemint.com/news/india/uttarkashi...  \n",
       "19  https://www.livemint.com/news/india/uttarkashi...  \n",
       "20  https://www.livemint.com/news/india/uttarkashi...  \n",
       "21  https://www.livemint.com/news/india/uttarkashi...  \n",
       "22  https://www.livemint.com/news/india/uttarkashi...  \n",
       "23  https://www.livemint.com/news/india/uttarkashi...  \n",
       "24  https://www.livemint.com/news/india/uttarkashi...  \n",
       "25  https://www.livemint.com/news/india/uttarkashi...  \n",
       "26  https://www.livemint.com/news/india/uttarkashi...  \n",
       "27  https://timesofindia.indiatimes.com/city/kochi...  \n",
       "28  https://timesofindia.indiatimes.com/city/kochi...  \n",
       "29  https://timesofindia.indiatimes.com/city/kochi...  \n",
       "30  https://timesofindia.indiatimes.com/city/kochi...  \n",
       "31  https://timesofindia.indiatimes.com/city/kochi...  \n",
       "32  https://timesofindia.indiatimes.com/city/kochi...  \n",
       "33  https://timesofindia.indiatimes.com/city/kochi...  \n",
       "34  https://timesofindia.indiatimes.com/city/kochi...  \n",
       "35  https://timesofindia.indiatimes.com/city/kochi...  \n",
       "36  https://timesofindia.indiatimes.com/city/kochi...  \n",
       "37  https://timesofindia.indiatimes.com/city/kochi...  \n",
       "38  https://timesofindia.indiatimes.com/city/kochi...  \n",
       "39  https://timesofindia.indiatimes.com/city/kochi...  "
      ]
     },
     "execution_count": 71,
     "metadata": {},
     "output_type": "execute_result"
    }
   ],
   "source": [
    "csv_data.dropna()"
   ]
  },
  {
   "cell_type": "code",
   "execution_count": 72,
   "id": "a5d902ee",
   "metadata": {},
   "outputs": [],
   "source": [
    "from langchain.document_loaders.csv_loader import CSVLoader"
   ]
  },
  {
   "cell_type": "code",
   "execution_count": 73,
   "id": "845a8388",
   "metadata": {},
   "outputs": [],
   "source": [
    "loader=CSVLoader(file_path=csv_path, source_column='chunks')"
   ]
  },
  {
   "cell_type": "code",
   "execution_count": 74,
   "id": "673493e7",
   "metadata": {},
   "outputs": [],
   "source": [
    "data=loader.load()"
   ]
  },
  {
   "cell_type": "code",
   "execution_count": 75,
   "id": "62953b5f",
   "metadata": {},
   "outputs": [
    {
     "data": {
      "text/plain": [
       "[Document(page_content='chunks: uttarkashi tunnel collapse ndrf team enters tunnel to save 41 trapped workers with ambulances on standby 10 updates mint\\nurl: https://www.livemint.com/news/india/uttarkashi-tunnel-collapse-silkyara-ndrf-deploys-team-rescue-mission-41-workers-top-10-updates-pushkar-singh-dhami-11700703183514.html', metadata={'source': 'uttarkashi tunnel collapse ndrf team enters tunnel to save 41 trapped workers with ambulances on standby 10 updates mint', 'row': 0}),\n",
       " Document(page_content='chunks: explore sign in epaper subscribe tuesday 2 january 2024 stocks mutual funds news home latest news markets premium money mutual fund industry companies technology web stories opinion videos all companies technology markets money mutual funds insurance auto industry personal finance hello user sign in sign out my account my account subscribe my watchlist newsletters notifications my reads for you view less view more data insights market dashboard bullion gold silver fuel petrol diesel commodities gold goldm aluminum menthaoil silver silvermic goldpetal natural gas copper zinc silverm crudeoil goldginuea lead cryptocurrencies view less view more\\nurl: https://www.livemint.com/news/india/uttarkashi-tunnel-collapse-silkyara-ndrf-deploys-team-rescue-mission-41-workers-top-10-updates-pushkar-singh-dhami-11700703183514.html', metadata={'source': 'explore sign in epaper subscribe tuesday 2 january 2024 stocks mutual funds news home latest news markets premium money mutual fund industry companies technology web stories opinion videos all companies technology markets money mutual funds insurance auto industry personal finance hello user sign in sign out my account my account subscribe my watchlist newsletters notifications my reads for you view less view more data insights market dashboard bullion gold silver fuel petrol diesel commodities gold goldm aluminum menthaoil silver silvermic goldpetal natural gas copper zinc silverm crudeoil goldginuea lead cryptocurrencies view less view more', 'row': 1}),\n",
       " Document(page_content='chunks: top sections news india news world news economy companies ipo news startups company results top company leader money personal finance q\\nurl: https://www.livemint.com/news/india/uttarkashi-tunnel-collapse-silkyara-ndrf-deploys-team-rescue-mission-41-workers-top-10-updates-pushkar-singh-dhami-11700703183514.html', metadata={'source': 'top sections news india news world news economy companies ipo news startups company results top company leader money personal finance q', 'row': 2}),\n",
       " Document(page_content='chunks: a opinion markets stock markets commodity news mark to market ipo news live blog elections 2024 assembly elections 2023 industry banking news infotech news infrastructure agriculture manufacturing energy news retail news auto news sports opinion views columns technology gadgets tech reviews app news lounge politics education sports view less view more premium offerings epaper wsj economist mint premium view less view more tools and calculators ifsc code finder income tax calculator sip calculator emi calculator home loan emi calculator car loan emi nps calculator view less view more multimedia collections videos webstories photo gallery podcasts view less view more\\nurl: https://www.livemint.com/news/india/uttarkashi-tunnel-collapse-silkyara-ndrf-deploys-team-rescue-mission-41-workers-top-10-updates-pushkar-singh-dhami-11700703183514.html', metadata={'source': 'a opinion markets stock markets commodity news mark to market ipo news live blog elections 2024 assembly elections 2023 industry banking news infotech news infrastructure agriculture manufacturing energy news retail news auto news sports opinion views columns technology gadgets tech reviews app news lounge politics education sports view less view more premium offerings epaper wsj economist mint premium view less view more tools and calculators ifsc code finder income tax calculator sip calculator emi calculator home loan emi calculator car loan emi nps calculator view less view more multimedia collections videos webstories photo gallery podcasts view less view more', 'row': 3}),\n",
       " Document(page_content='chunks: multimedia collections videos webstories photo gallery podcasts view less view more more from mint mint genie explore mint about us print subscription mint authors terms of use disclaimer mint code code of ethics cookie policy privacy policy subscriber terms of use sitemap contact us mint apps view less view more copyright  ht digital streams limited all rights reserved\\nurl: https://www.livemint.com/news/india/uttarkashi-tunnel-collapse-silkyara-ndrf-deploys-team-rescue-mission-41-workers-top-10-updates-pushkar-singh-dhami-11700703183514.html', metadata={'source': 'multimedia collections videos webstories photo gallery podcasts view less view more more from mint mint genie explore mint about us print subscription mint authors terms of use disclaimer mint code code of ethics cookie policy privacy policy subscriber terms of use sitemap contact us mint apps view less view more copyright  ht digital streams limited all rights reserved', 'row': 4}),\n",
       " Document(page_content='chunks: \\nurl: https://www.livemint.com/news/india/uttarkashi-tunnel-collapse-silkyara-ndrf-deploys-team-rescue-mission-41-workers-top-10-updates-pushkar-singh-dhami-11700703183514.html', metadata={'source': '', 'row': 5}),\n",
       " Document(page_content='chunks: gainers losers top gainers top losers sun pharmaceutical industries share price 129575285 bajaj finance share price 742720176 bharti airtel share price 102375106 reliance industries share price 261090081 bajaj finserve share price 168600070 mahindra mahindra share price 165630278 ultratech cement share price 1020375246 kotak mahindra bank share price 186490241 larsen toubro share price 343910236 icici bank share price 98210191 active stocks tue jan 02 2024 155956 tata steel share price 13955 025 hdfc bank share price 169925 008 state bank of india share price 63905 045 wipro share price 46915 171 icici bank share price 98210 191 business news news india uttarkashi tunnel collapse ndrf team enters tunnel to save 41 trapped workers with ambulances on standby 10 updates back\\nurl: https://www.livemint.com/news/india/uttarkashi-tunnel-collapse-silkyara-ndrf-deploys-team-rescue-mission-41-workers-top-10-updates-pushkar-singh-dhami-11700703183514.html', metadata={'source': 'gainers losers top gainers top losers sun pharmaceutical industries share price 129575285 bajaj finance share price 742720176 bharti airtel share price 102375106 reliance industries share price 261090081 bajaj finserve share price 168600070 mahindra mahindra share price 165630278 ultratech cement share price 1020375246 kotak mahindra bank share price 186490241 larsen toubro share price 343910236 icici bank share price 98210191 active stocks tue jan 02 2024 155956 tata steel share price 13955 025 hdfc bank share price 169925 008 state bank of india share price 63905 045 wipro share price 46915 171 icici bank share price 98210 191 business news news india uttarkashi tunnel collapse ndrf team enters tunnel to save 41 trapped workers with ambulances on standby 10 updates back', 'row': 6}),\n",
       " Document(page_content='chunks: business news news india uttarkashi tunnel collapse ndrf team enters tunnel to save 41 trapped workers with ambulances on standby 10 updates back share via uttarkashi tunnel collapse ndrf team enters tunnel to save 41 trapped workers with ambulances on standby 10 updates 3 min read 23 nov 2023 0743 am ist join us livemint jharkhand cm voices concern over delayed evacuation of workers in the collapsed tunnel citing previous incidents in uttarakhand premium uttarkashi nov 22 ani ndrf personnel at the site to enter the silkyara tunnel during the operation to rescue 41 trapped workers in uttarkashi on wednesday ani photo cmo uttarakhand x read full story a 15member ndrf team led by a commandant has been assigned the mission of rescuing 41 labourers trapped for the past 10 days in the collapsed silkyara tunnel in uttarkashi\\nurl: https://www.livemint.com/news/india/uttarkashi-tunnel-collapse-silkyara-ndrf-deploys-team-rescue-mission-41-workers-top-10-updates-pushkar-singh-dhami-11700703183514.html', metadata={'source': 'business news news india uttarkashi tunnel collapse ndrf team enters tunnel to save 41 trapped workers with ambulances on standby 10 updates back share via uttarkashi tunnel collapse ndrf team enters tunnel to save 41 trapped workers with ambulances on standby 10 updates 3 min read 23 nov 2023 0743 am ist join us livemint jharkhand cm voices concern over delayed evacuation of workers in the collapsed tunnel citing previous incidents in uttarakhand premium uttarkashi nov 22 ani ndrf personnel at the site to enter the silkyara tunnel during the operation to rescue 41 trapped workers in uttarkashi on wednesday ani photo cmo uttarakhand x read full story a 15member ndrf team led by a commandant has been assigned the mission of rescuing 41 labourers trapped for the past 10 days in the collapsed silkyara tunnel in uttarkashi', 'row': 7}),\n",
       " Document(page_content='chunks: a 15member ndrf team led by a commandant has been assigned the mission of rescuing 41 labourers trapped for the past 10 days in the collapsed silkyara tunnel in uttarkashi here are the top ten updates on the uttarkashi tunnel collapse 1 the evacuation process utilizing a series of 800 mm diameter steel pipes has presented a significant challenge for the rescue efforts ndrf personnel have simulated a drill to demonstrate their approach for traversing through the pipes to reach the other side of the debris where the trapped labourers are located ndrf secondincommand 2 ic ravi shankar badhani told pti also read uttarkashi tunnel collapse news live update silkyara rescue operation now in final stages says official\\nurl: https://www.livemint.com/news/india/uttarkashi-tunnel-collapse-silkyara-ndrf-deploys-team-rescue-mission-41-workers-top-10-updates-pushkar-singh-dhami-11700703183514.html', metadata={'source': 'a 15member ndrf team led by a commandant has been assigned the mission of rescuing 41 labourers trapped for the past 10 days in the collapsed silkyara tunnel in uttarkashi here are the top ten updates on the uttarkashi tunnel collapse 1 the evacuation process utilizing a series of 800 mm diameter steel pipes has presented a significant challenge for the rescue efforts ndrf personnel have simulated a drill to demonstrate their approach for traversing through the pipes to reach the other side of the debris where the trapped labourers are located ndrf secondincommand 2 ic ravi shankar badhani told pti also read uttarkashi tunnel collapse news live update silkyara rescue operation now in final stages says official', 'row': 8}),\n",
       " Document(page_content='chunks: 2 medical professionals have been stationed within the tunnel and ambulances are positioned outside to ensure the safe transfer of the rescued individuals the ambulances will convey the workers to a hospital established in chinyalisaur approximately 30 kilometres from the tunnel location\\nurl: https://www.livemint.com/news/india/uttarkashi-tunnel-collapse-silkyara-ndrf-deploys-team-rescue-mission-41-workers-top-10-updates-pushkar-singh-dhami-11700703183514.html', metadata={'source': '2 medical professionals have been stationed within the tunnel and ambulances are positioned outside to ensure the safe transfer of the rescued individuals the ambulances will convey the workers to a hospital established in chinyalisaur approximately 30 kilometres from the tunnel location', 'row': 9}),\n",
       " Document(page_content='chunks: 3 the dedicated freight corridor corporation of india limited dfccil and indian railways ir have collaborated to operate a special train transporting equipment from karambeli in gujarat to rishikesh in uttarakhand covering a distance of 1605 km this initiative aims to support the rescue efforts for the trapped workers in the uttarkashi tunnel collapse incident also read after the collapse of the uttarkashi tunnel nhai to inspect all underconstruction tunnels across india 4 on wednesday a 41bed hospital was established at the chinyalisaur community health centre in the district to provide medical care for the 41 trapped laborers once they are rescued from the silkyara tunnel additionally a temporary hospital with eight beds has been arranged at the location to offer immediate medical attention to the trapped workers if necessary pti reported\\nurl: https://www.livemint.com/news/india/uttarkashi-tunnel-collapse-silkyara-ndrf-deploys-team-rescue-mission-41-workers-top-10-updates-pushkar-singh-dhami-11700703183514.html', metadata={'source': '3 the dedicated freight corridor corporation of india limited dfccil and indian railways ir have collaborated to operate a special train transporting equipment from karambeli in gujarat to rishikesh in uttarakhand covering a distance of 1605 km this initiative aims to support the rescue efforts for the trapped workers in the uttarkashi tunnel collapse incident also read after the collapse of the uttarkashi tunnel nhai to inspect all underconstruction tunnels across india 4 on wednesday a 41bed hospital was established at the chinyalisaur community health centre in the district to provide medical care for the 41 trapped laborers once they are rescued from the silkyara tunnel additionally a temporary hospital with eight beds has been arranged at the location to offer immediate medical attention to the trapped workers if necessary pti reported', 'row': 10}),\n",
       " Document(page_content='chunks: 5 after conversing with the workers their family members expressed optimism anticipating that the anxious wait would ultimately lead to a heartwarming reunion with their loved ones we called him on diwali but could not reach him his colleagues told us that his mobile phone had been damaged later we saw his name in the newspaper and learnt that he was trapped inside the tunnel he told pti also read uttarkashi tunnel collapse good news in next 40 hrs if say officials 6 jharkhand chief minister hemant soren voiced concern on wednesday regarding the delayed evacuation of workers from the underconstruction silkyara tunnel in uttarakhand 7 ten days have passed since the collapse in the tunnel but there is no surety when the workers who are trapped will come out soren said the incident is not the first in uttarakhand such occurrences had taken place in previous years too and several workers from jharkhand had lost their lives jharkhand cm added\\nurl: https://www.livemint.com/news/india/uttarkashi-tunnel-collapse-silkyara-ndrf-deploys-team-rescue-mission-41-workers-top-10-updates-pushkar-singh-dhami-11700703183514.html', metadata={'source': '5 after conversing with the workers their family members expressed optimism anticipating that the anxious wait would ultimately lead to a heartwarming reunion with their loved ones we called him on diwali but could not reach him his colleagues told us that his mobile phone had been damaged later we saw his name in the newspaper and learnt that he was trapped inside the tunnel he told pti also read uttarkashi tunnel collapse good news in next 40 hrs if say officials 6 jharkhand chief minister hemant soren voiced concern on wednesday regarding the delayed evacuation of workers from the underconstruction silkyara tunnel in uttarakhand 7 ten days have passed since the collapse in the tunnel but there is no surety when the workers who are trapped will come out soren said the incident is not the first in uttarakhand such occurrences had taken place in previous years too and several workers from jharkhand had lost their lives jharkhand cm added', 'row': 11}),\n",
       " Document(page_content='chunks: the incident is not the first in uttarakhand such occurrences had taken place in previous years too and several workers from jharkhand had lost their lives jharkhand cm added also read watch first visuals of uttarkashi tunnel rescue come up 8 the jharkhand government is making arrangements to airlift all 15 workers hailing from the state who are currently trapped in the silkyara tunnel in uttarkashi uttarakhand among the total of 41 workers stuck inside the collapsed tunnel 15 individuals are from giridih ranchi east singhbhum and khunti districts of jharkhand also read uttarkashi tunnel collapse highlights 6inch pipe pushed through rubble iaf airlifts another 36 tonne of equipment 9 jharkhand labour minister satyanand bhokta stated that the department is actively communicating with the families of the 15 labourers from jharkhand who are stuck at the collapse site\\nurl: https://www.livemint.com/news/india/uttarkashi-tunnel-collapse-silkyara-ndrf-deploys-team-rescue-mission-41-workers-top-10-updates-pushkar-singh-dhami-11700703183514.html', metadata={'source': 'the incident is not the first in uttarakhand such occurrences had taken place in previous years too and several workers from jharkhand had lost their lives jharkhand cm added also read watch first visuals of uttarkashi tunnel rescue come up 8 the jharkhand government is making arrangements to airlift all 15 workers hailing from the state who are currently trapped in the silkyara tunnel in uttarkashi uttarakhand among the total of 41 workers stuck inside the collapsed tunnel 15 individuals are from giridih ranchi east singhbhum and khunti districts of jharkhand also read uttarkashi tunnel collapse highlights 6inch pipe pushed through rubble iaf airlifts another 36 tonne of equipment 9 jharkhand labour minister satyanand bhokta stated that the department is actively communicating with the families of the 15 labourers from jharkhand who are stuck at the collapse site', 'row': 12}),\n",
       " Document(page_content='chunks: jharkhand labour minister satyanand bhokta stated that the department is actively communicating with the families of the 15 labourers from jharkhand who are stuck at the collapse site the jharkhand government is willing to bear the entire expense of bringing the workers to jharkhand from uttarkashi after they are rescued he told reporters 10 bhaskar khulbe former advisor to the prime ministers office announced on wednesday that activities for the upcoming phase will commence in the next two hours as reported by ani khulbe who is also the special executive officer in the uttarakhand tourism department said i am very happy to tell you that with the work we were doing for the last hour we have drilled another 6meter length with an american oger machine i am hopeful that in the next 2 hours work will start for the next phase with inputs from agencies\\nurl: https://www.livemint.com/news/india/uttarkashi-tunnel-collapse-silkyara-ndrf-deploys-team-rescue-mission-41-workers-top-10-updates-pushkar-singh-dhami-11700703183514.html', metadata={'source': 'jharkhand labour minister satyanand bhokta stated that the department is actively communicating with the families of the 15 labourers from jharkhand who are stuck at the collapse site the jharkhand government is willing to bear the entire expense of bringing the workers to jharkhand from uttarkashi after they are rescued he told reporters 10 bhaskar khulbe former advisor to the prime ministers office announced on wednesday that activities for the upcoming phase will commence in the next two hours as reported by ani khulbe who is also the special executive officer in the uttarakhand tourism department said i am very happy to tell you that with the work we were doing for the last hour we have drilled another 6meter length with an american oger machine i am hopeful that in the next 2 hours work will start for the next phase with inputs from agencies', 'row': 13}),\n",
       " Document(page_content='chunks: milestone alert livemint tops charts as the fastest growing news website in the world  click here to know more\\nurl: https://www.livemint.com/news/india/uttarkashi-tunnel-collapse-silkyara-ndrf-deploys-team-rescue-mission-41-workers-top-10-updates-pushkar-singh-dhami-11700703183514.html', metadata={'source': 'milestone alert livemint tops charts as the fastest growing news website in the world  click here to know more', 'row': 14}),\n",
       " Document(page_content='chunks: unlock a world of benefits from insightful newsletters to realtime stock tracking breaking news and a personalized newsfeed  its all here just a click away login now related premium stories what to expect from the sixteenth finance commission mint explainer why has sri lanka banned chinese research vessels the battles we won a former ukrainian prime minister writes the three scenarios ahead for multilateralism in 2024 why domestic tailed international in 2023 air traffic growth india plans linkage to bangladeshs matarbari port in regional connectivity push snake bites to bonesetting folk doctors to get a quality stamp why indias auto pli is yet to pick up after two years a win for fuel blending as govt weighs molasses export levy mint primer will retail trade policy boost ease of doing business explore premium\\nurl: https://www.livemint.com/news/india/uttarkashi-tunnel-collapse-silkyara-ndrf-deploys-team-rescue-mission-41-workers-top-10-updates-pushkar-singh-dhami-11700703183514.html', metadata={'source': 'unlock a world of benefits from insightful newsletters to realtime stock tracking breaking news and a personalized newsfeed  its all here just a click away login now related premium stories what to expect from the sixteenth finance commission mint explainer why has sri lanka banned chinese research vessels the battles we won a former ukrainian prime minister writes the three scenarios ahead for multilateralism in 2024 why domestic tailed international in 2023 air traffic growth india plans linkage to bangladeshs matarbari port in regional connectivity push snake bites to bonesetting folk doctors to get a quality stamp why indias auto pli is yet to pick up after two years a win for fuel blending as govt weighs molasses export levy mint primer will retail trade policy boost ease of doing business explore premium', 'row': 15}),\n",
       " Document(page_content='chunks: catch all the business news market news breaking news events and latest news updates on live mint download the mint news app to get daily market updates more less published 23 nov 2023 0743 am ist topics you may be interested in uttarkashi tunnel collapse jharkhand cm hemant soren trapped workers families silkyara news ranchi east singhbhum uttarkashi biha uttarakhand tourism department prime ministers office satyanand bhokta open in app next story recommended for you feedback select your category query suggestion your message\\nurl: https://www.livemint.com/news/india/uttarkashi-tunnel-collapse-silkyara-ndrf-deploys-team-rescue-mission-41-workers-top-10-updates-pushkar-singh-dhami-11700703183514.html', metadata={'source': 'catch all the business news market news breaking news events and latest news updates on live mint download the mint news app to get daily market updates more less published 23 nov 2023 0743 am ist topics you may be interested in uttarkashi tunnel collapse jharkhand cm hemant soren trapped workers families silkyara news ranchi east singhbhum uttarkashi biha uttarakhand tourism department prime ministers office satyanand bhokta open in app next story recommended for you feedback select your category query suggestion your message', 'row': 16}),\n",
       " Document(page_content='chunks: connect with us trending stories sensex today windfall tax on crude oil delhi temperature record electric vehicles rules japan earthquake live israelhamas war weather update covid cases in india live delhi aqi day trading guide best air purifier best water purifier best gaming monitor best mini dehumidifiers best room heater best geyser in india best dyson air purifier budget 2024 nifty 50 dunki box office collection best laptop under 60\\nurl: https://www.livemint.com/news/india/uttarkashi-tunnel-collapse-silkyara-ndrf-deploys-team-rescue-mission-41-workers-top-10-updates-pushkar-singh-dhami-11700703183514.html', metadata={'source': 'connect with us trending stories sensex today windfall tax on crude oil delhi temperature record electric vehicles rules japan earthquake live israelhamas war weather update covid cases in india live delhi aqi day trading guide best air purifier best water purifier best gaming monitor best mini dehumidifiers best room heater best geyser in india best dyson air purifier budget 2024 nifty 50 dunki box office collection best laptop under 60', 'row': 17}),\n",
       " Document(page_content='chunks: 000 best asus gaming laptop dhong for justice market changes overnight salaar box office collection poco x6 series ghaziabad suicide case shooting in los angeles arun yogiraj sculptor andhra pradesh cm vodafone idea stock outlook 2024 bitcoin price data pages quarterly results calendar petrol prices diesel prices mcx gold price election results 2023 assembly election results 2023 mcx silver price gold price silver price nse top gainers nse top losers bse top gainers bse top losers popular stocks jsw infrastructure share price manoj vaibhav gems jewellers share price ems share price r r kabel share price concord biotech share price idbi bank share price yes bank share price infosys share price patanjali share price adani power share price tata steel share price hul share price indian oil share price spicejet share price tcs share price asian paints share price hdfc bank share price zaggle share price samhi hotels share price tata power share price reliance share price adani\\nurl: https://www.livemint.com/news/india/uttarkashi-tunnel-collapse-silkyara-ndrf-deploys-team-rescue-mission-41-workers-top-10-updates-pushkar-singh-dhami-11700703183514.html', metadata={'source': '000 best asus gaming laptop dhong for justice market changes overnight salaar box office collection poco x6 series ghaziabad suicide case shooting in los angeles arun yogiraj sculptor andhra pradesh cm vodafone idea stock outlook 2024 bitcoin price data pages quarterly results calendar petrol prices diesel prices mcx gold price election results 2023 assembly election results 2023 mcx silver price gold price silver price nse top gainers nse top losers bse top gainers bse top losers popular stocks jsw infrastructure share price manoj vaibhav gems jewellers share price ems share price r r kabel share price concord biotech share price idbi bank share price yes bank share price infosys share price patanjali share price adani power share price tata steel share price hul share price indian oil share price spicejet share price tcs share price asian paints share price hdfc bank share price zaggle share price samhi hotels share price tata power share price reliance share price adani', 'row': 18}),\n",
       " Document(page_content='chunks: oil share price spicejet share price tcs share price asian paints share price hdfc bank share price zaggle share price samhi hotels share price tata power share price reliance share price adani enterprises share price itc share price icici bank share price vedanta share price jio financial services share price jsw steel share price nhpc share price paytm share price kotak mahindra share price torrent pharmaceuticals share price tech mahindra share price axis bank share price punjab national bank share price canara bank share price vodafone idea share price acc share price adani green energy share price tvs motor share price larsen\\nurl: https://www.livemint.com/news/india/uttarkashi-tunnel-collapse-silkyara-ndrf-deploys-team-rescue-mission-41-workers-top-10-updates-pushkar-singh-dhami-11700703183514.html', metadata={'source': 'oil share price spicejet share price tcs share price asian paints share price hdfc bank share price zaggle share price samhi hotels share price tata power share price reliance share price adani enterprises share price itc share price icici bank share price vedanta share price jio financial services share price jsw steel share price nhpc share price paytm share price kotak mahindra share price torrent pharmaceuticals share price tech mahindra share price axis bank share price punjab national bank share price canara bank share price vodafone idea share price acc share price adani green energy share price tvs motor share price larsen', 'row': 19}),\n",
       " Document(page_content='chunks: toubro share price tata consumer share price gail india share price ambuja cements share price sun pharmaceutical industries share price hero motocorp share price tata motors share price indian railway finance corporation share price suzlon energy share price zomato share price idfc first bank share price nhpc share price ireda share price gandhar oil share price fedbank financial services share price tata technologies share price flair writing share price accent microcell share price doms industries share price india shelter share price inox india share price suraj estate developers share price motisons jewellers share price muthoot microfin share price rbz jewellers share price happy forgings share price credo brands share price azad engineering share price innova captab share price latest stories 2024 portfolio reboot 3 essential investment insights from covid19 pandemic manipur cm suspects foreign mercenaries hand in attack on security forces nifty pharma hits all\\nurl: https://www.livemint.com/news/india/uttarkashi-tunnel-collapse-silkyara-ndrf-deploys-team-rescue-mission-41-workers-top-10-updates-pushkar-singh-dhami-11700703183514.html', metadata={'source': 'toubro share price tata consumer share price gail india share price ambuja cements share price sun pharmaceutical industries share price hero motocorp share price tata motors share price indian railway finance corporation share price suzlon energy share price zomato share price idfc first bank share price nhpc share price ireda share price gandhar oil share price fedbank financial services share price tata technologies share price flair writing share price accent microcell share price doms industries share price india shelter share price inox india share price suraj estate developers share price motisons jewellers share price muthoot microfin share price rbz jewellers share price happy forgings share price credo brands share price azad engineering share price innova captab share price latest stories 2024 portfolio reboot 3 essential investment insights from covid19 pandemic manipur cm suspects foreign mercenaries hand in attack on security forces nifty pharma hits all', 'row': 20}),\n",
       " Document(page_content='chunks: 19 pandemic manipur cm suspects foreign mercenaries hand in attack on security forces nifty pharma hits alltime high 10 stocks touch oneyear peaks check full list russia\\nurl: https://www.livemint.com/news/india/uttarkashi-tunnel-collapse-silkyara-ndrf-deploys-team-rescue-mission-41-workers-top-10-updates-pushkar-singh-dhami-11700703183514.html', metadata={'source': '19 pandemic manipur cm suspects foreign mercenaries hand in attack on security forces nifty pharma hits alltime high 10 stocks touch oneyear peaks check full list russia', 'row': 21}),\n",
       " Document(page_content='chunks: s brics chairmanship begins putin shares key priorities 5 points 8\\nurl: https://www.livemint.com/news/india/uttarkashi-tunnel-collapse-silkyara-ndrf-deploys-team-rescue-mission-41-workers-top-10-updates-pushkar-singh-dhami-11700703183514.html', metadata={'source': 's brics chairmanship begins putin shares key priorities 5 points 8', 'row': 22}),\n",
       " Document(page_content='chunks: 18 crore itrs a record number of income tax returns filed till dec 31 the voters who decide elections dont like what they see adani ports december cargo volumes up 42 yoy to 3565 mt raises fy24 guidance death of test cricket\\nurl: https://www.livemint.com/news/india/uttarkashi-tunnel-collapse-silkyara-ndrf-deploys-team-rescue-mission-41-workers-top-10-updates-pushkar-singh-dhami-11700703183514.html', metadata={'source': '18 crore itrs a record number of income tax returns filed till dec 31 the voters who decide elections dont like what they see adani ports december cargo volumes up 42 yoy to 3565 mt raises fy24 guidance death of test cricket', 'row': 23}),\n",
       " Document(page_content='chunks: australias steve waugh warns icc bcci stock market today sensex nifty fall on geopolitical concerns oil price surge japan airlines plane catches fire on runway at tokyos haneda airport watch nifty 50 companies adani enterprises share price adani ports share price apollo hospitals share price asian paints share price axis bank share price bajaj auto share price bajaj finance share price bajaj finserve share price bpcl share price bharti airtel share price britannia share price cipla share price coal india share price divis laboratories share price dr reddys laboratories share price eicher motors share price grasim industries share price hcl technologies share price hdfc bank share price hdfc life share price hero motocorp share price hindalco industries share price hindustan unilever share price icici bank share price itc share price indusind bank share price infosys share price jsw steel share price kotak bank share price larsen tourbo share price mahindra\\nurl: https://www.livemint.com/news/india/uttarkashi-tunnel-collapse-silkyara-ndrf-deploys-team-rescue-mission-41-workers-top-10-updates-pushkar-singh-dhami-11700703183514.html', metadata={'source': ' australias steve waugh warns icc bcci stock market today sensex nifty fall on geopolitical concerns oil price surge japan airlines plane catches fire on runway at tokyos haneda airport watch nifty 50 companies adani enterprises share price adani ports share price apollo hospitals share price asian paints share price axis bank share price bajaj auto share price bajaj finance share price bajaj finserve share price bpcl share price bharti airtel share price britannia share price cipla share price coal india share price divis laboratories share price dr reddys laboratories share price eicher motors share price grasim industries share price hcl technologies share price hdfc bank share price hdfc life share price hero motocorp share price hindalco industries share price hindustan unilever share price icici bank share price itc share price indusind bank share price infosys share price jsw steel share price kotak bank share price larsen tourbo share price mahindra', 'row': 24}),\n",
       " Document(page_content='chunks: tourbo share price mahindra mahindra share price maruti suzuki share price ntpc share price nestle india share price ongc share price power grid share price reliance industries share price sbi life share price sbi share price sun pharma share price tcs share price tata motors share price tata steel share price tata consumer share price tech mahindra share price titan share price upl share price ultratech cement share price wipro share price download app download the mint app and read premium stories about us contact us terms of use privacy policy rss copyright  2023 ht digital streams ltd all right reserved\\nurl: https://www.livemint.com/news/india/uttarkashi-tunnel-collapse-silkyara-ndrf-deploys-team-rescue-mission-41-workers-top-10-updates-pushkar-singh-dhami-11700703183514.html', metadata={'source': 'tourbo share price mahindra mahindra share price maruti suzuki share price ntpc share price nestle india share price ongc share price power grid share price reliance industries share price sbi life share price sbi share price sun pharma share price tcs share price tata motors share price tata steel share price tata consumer share price tech mahindra share price titan share price upl share price ultratech cement share price wipro share price download app download the mint app and read premium stories about us contact us terms of use privacy policy rss copyright  2023 ht digital streams ltd all right reserved', 'row': 25}),\n",
       " Document(page_content='chunks: no networkserver issueinternet not availablewait for itlog in to our website to save your bookmarks itll just take a momentyes continue you are just one step away from creating your watchlistlogin now wait for itoops looks like you have exceeded the limit to bookmark the image remove some to bookmark this image your session has expired please login againyes continue congratulationsyou are now subscribed to our newsletters in case you cant find any email from our side please check the spam folder   get alerts on whatsapp set preferences my reads watchlist feedback redeem a gift card logout subscribe to continue this is a subscriber only feature subscribe now to get daily updates on whatsapp\\nurl: https://www.livemint.com/news/india/uttarkashi-tunnel-collapse-silkyara-ndrf-deploys-team-rescue-mission-41-workers-top-10-updates-pushkar-singh-dhami-11700703183514.html', metadata={'source': 'no networkserver issueinternet not availablewait for itlog in to our website to save your bookmarks itll just take a momentyes continue you are just one step away from creating your watchlistlogin now wait for itoops looks like you have exceeded the limit to bookmark the image remove some to bookmark this image your session has expired please login againyes continue congratulationsyou are now subscribed to our newsletters in case you cant find any email from our side please check the spam folder   get alerts on whatsapp set preferences my reads watchlist feedback redeem a gift card logout subscribe to continue this is a subscriber only feature subscribe now to get daily updates on whatsapp', 'row': 26}),\n",
       " Document(page_content='chunks: covid cases in kerala centre calls health meet as covid rises in kerala 10 deaths this month kochi news times of indiaeditionininussign intoicitykochimumbaidelhibengaluruhyderabadkolkatachennaiagraagartalaahmedabadajmerallahabadamaravatiamritsaraurangabadbareillybhubaneswarbhopalchandigarhcoimbatorecuttackdehradunerodefaridabadghaziabadgoagurgaonguwahatihubballiimphalindoreitanagarjaipurjammujamshedpurjodhpurkanpurkohimakolhapurkozhikodeludhianalucknowmaduraimangalurumeerutmumbai regionmysurunagpurnashiknavi mumbainoidapatnapuducherrypuneraipurrajkotranchithanesalemshillongshimlasrinagarsurattrichythiruvananthapuramudaipurvadodaravaranasivijayawadavisakhapatnamphotosweb storiescivic issuescrimepoliticsschool and collegeskerala electionsvideosphotosweathernewscity newskochi newscentre calls health meet as covid rises in kerala\\nurl: https://timesofindia.indiatimes.com/city/kochi/centre-calls-health-meet-as-covid-rises-in-kerala-10-deaths-this-month/articleshow/106106851.cms', metadata={'source': 'covid cases in kerala centre calls health meet as covid rises in kerala 10 deaths this month kochi news times of indiaeditionininussign intoicitykochimumbaidelhibengaluruhyderabadkolkatachennaiagraagartalaahmedabadajmerallahabadamaravatiamritsaraurangabadbareillybhubaneswarbhopalchandigarhcoimbatorecuttackdehradunerodefaridabadghaziabadgoagurgaonguwahatihubballiimphalindoreitanagarjaipurjammujamshedpurjodhpurkanpurkohimakolhapurkozhikodeludhianalucknowmaduraimangalurumeerutmumbai regionmysurunagpurnashiknavi mumbainoidapatnapuducherrypuneraipurrajkotranchithanesalemshillongshimlasrinagarsurattrichythiruvananthapuramudaipurvadodaravaranasivijayawadavisakhapatnamphotosweb storiescivic issuescrimepoliticsschool and collegeskerala electionsvideosphotosweathernewscity newskochi newscentre calls health meet as covid rises in kerala', 'row': 27}),\n",
       " Document(page_content='chunks: 10 deaths this monthtrendingcovid cases in indiahit and run lawtruck driver protestgoa covid newsayodhya vande bharat newsmumbai covid newscovid cases in indiahit and run lawtruck driver protestgoa covid newsayodhya vande bharat newsmumbai covid newscovid cases in indiahit and run lawtruck driver protestgoa covid newsayodhya vande bharat newsmumbai covid newscentre calls health meet as covid rises in kerala 10 deaths this monthdurgesh nandan jha tnn updated dec 19 2023 0933 istshareaa\\nurl: https://timesofindia.indiatimes.com/city/kochi/centre-calls-health-meet-as-covid-rises-in-kerala-10-deaths-this-month/articleshow/106106851.cms', metadata={'source': '10 deaths this monthtrendingcovid cases in indiahit and run lawtruck driver protestgoa covid newsayodhya vande bharat newsmumbai covid newscovid cases in indiahit and run lawtruck driver protestgoa covid newsayodhya vande bharat newsmumbai covid newscovid cases in indiahit and run lawtruck driver protestgoa covid newsayodhya vande bharat newsmumbai covid newscentre calls health meet as covid rises in kerala 10 deaths this monthdurgesh nandan jha tnn updated dec 19 2023 0933 istshareaa', 'row': 28}),\n",
       " Document(page_content='chunks: text sizesmallmediumlargefollow us image used for representational purpose only new delhikochi the union health ministry asked all states to be on alert while health minister mansukh mandaviya called a meeting of state health ministers on wednesday to review preparedness in view of a surge in respiratory illnesses in the country including covid19\\nurl: https://timesofindia.indiatimes.com/city/kochi/centre-calls-health-meet-as-covid-rises-in-kerala-10-deaths-this-month/articleshow/106106851.cms', metadata={'source': 'text sizesmallmediumlargefollow us image used for representational purpose only new delhikochi the union health ministry asked all states to be on alert while health minister mansukh mandaviya called a meeting of state health ministers on wednesday to review preparedness in view of a surge in respiratory illnesses in the country including covid19', 'row': 29}),\n",
       " Document(page_content='chunks: kerala is witnessing a rise in covid cases as well as deaths daily cases detected in the state have nearly tripled in a week while 10 deaths have been reported from december 1 to 17 as per data sent to the centre sources in the state health department saidof particular concern is jn1 a new covid subvariant recently detected in a 79yearold woman in keralaon december 16 kerala reported 302 new covid cases and four deaths the highest in the latest outbreak on december 10 kerala had reported 109 cases daily cases crossed 200 on december 12 and within four days kerala reported over 300 fresh casescovid states told to increase rtpcr teststhe health secretary in his letter to states highlighted the need for maintaining constant vigil over the covid19 situation\\nurl: https://timesofindia.indiatimes.com/city/kochi/centre-calls-health-meet-as-covid-rises-in-kerala-10-deaths-this-month/articleshow/106106851.cms', metadata={'source': 'kerala is witnessing a rise in covid cases as well as deaths daily cases detected in the state have nearly tripled in a week while 10 deaths have been reported from december 1 to 17 as per data sent to the centre sources in the state health department saidof particular concern is jn1 a new covid subvariant recently detected in a 79yearold woman in keralaon december 16 kerala reported 302 new covid cases and four deaths the highest in the latest outbreak on december 10 kerala had reported 109 cases daily cases crossed 200 on december 12 and within four days kerala reported over 300 fresh casescovid states told to increase rtpcr teststhe health secretary in his letter to states highlighted the need for maintaining constant vigil over the covid19 situation', 'row': 30}),\n",
       " Document(page_content='chunks: covid states told to increase rtpcr teststhe health secretary in his letter to states highlighted the need for maintaining constant vigil over the covid19 situation he asked them to monitor and report districtwise influenzalike illness ili severe acute respiratory illness sari cases in all health facilities on a regular basis including in the integrated health information platform ihip portal for detecting the early rising trend of cases states have also been advised to increase the number of rtpcr tests and send positive samples for genome sequencing to indian sars cov2 genomics consortium insacog laboratories to enable timely detection of new variants if any in the country jn1 was first identified in august and reports suggest it carried significant mutations that may contribute to increased transmissibility and immuneescape ability jn1 variant has also been reported in the usa china and singapore\\nurl: https://timesofindia.indiatimes.com/city/kochi/centre-calls-health-meet-as-covid-rises-in-kerala-10-deaths-this-month/articleshow/106106851.cms', metadata={'source': 'covid states told to increase rtpcr teststhe health secretary in his letter to states highlighted the need for maintaining constant vigil over the covid19 situation he asked them to monitor and report districtwise influenzalike illness ili severe acute respiratory illness sari cases in all health facilities on a regular basis including in the integrated health information platform ihip portal for detecting the early rising trend of cases states have also been advised to increase the number of rtpcr tests and send positive samples for genome sequencing to indian sars cov2 genomics consortium insacog laboratories to enable timely detection of new variants if any in the country jn1 was first identified in august and reports suggest it carried significant mutations that may contribute to increased transmissibility and immuneescape ability jn1 variant has also been reported in the usa china and singapore', 'row': 31}),\n",
       " Document(page_content='chunks: jn1 variant has also been reported in the usa china and singapore union health secretary sudhansh pant shared details about jn1 with the additional chief secretary principal secretary and secretary health of all states uts with a message to keep up the vigil against emergence of any new clusters of covid19 or other respiratory illness for timely action the information shared by the union health secretary states that the current laboratory test rtpcr is effective for jn1 detection on symptoms and severity in cases involving covid19 caused by the new subvariant the health secretary in the annexure shared by the government with the states says that it is not known whether jn1 infection produces different symptoms from other variants according to the government there is no indication of increased severity from jn1 or risk posed by the subvariant to public health in comparison to other currently circulating variants\\nurl: https://timesofindia.indiatimes.com/city/kochi/centre-calls-health-meet-as-covid-rises-in-kerala-10-deaths-this-month/articleshow/106106851.cms', metadata={'source': 'jn1 variant has also been reported in the usa china and singapore union health secretary sudhansh pant shared details about jn1 with the additional chief secretary principal secretary and secretary health of all states uts with a message to keep up the vigil against emergence of any new clusters of covid19 or other respiratory illness for timely action the information shared by the union health secretary states that the current laboratory test rtpcr is effective for jn1 detection on symptoms and severity in cases involving covid19 caused by the new subvariant the health secretary in the annexure shared by the government with the states says that it is not known whether jn1 infection produces different symptoms from other variants according to the government there is no indication of increased severity from jn1 or risk posed by the subvariant to public health in comparison to other currently circulating variants', 'row': 32}),\n",
       " Document(page_content='chunks: according to the government there is no indication of increased severity from jn1 or risk posed by the subvariant to public health in comparison to other currently circulating variants updated covid19 vaccines are expected to increase protection against jn1 as they do for other variants the government says explore your financial landscape with personalized credit insights\\nurl: https://timesofindia.indiatimes.com/city/kochi/centre-calls-health-meet-as-covid-rises-in-kerala-10-deaths-this-month/articleshow/106106851.cms', metadata={'source': 'according to the government there is no indication of increased severity from jn1 or risk posed by the subvariant to public health in comparison to other currently circulating variants updated covid19 vaccines are expected to increase protection against jn1 as they do for other variants the government says explore your financial landscape with personalized credit insights', 'row': 33}),\n",
       " Document(page_content='chunks: follow us on social media visual stories previousanimals who eat their own babiesindialets explore the pataudi family treeindia18 breathtaking pictures from space taken by nasas webb telescopeindia10 health benefits of eating pumpkin seeds everydayindia10 healthy snacks to prepare for new year partyfoodhow to glow in 7 daysindia10 lesserknown spices from different parts of indiafoodinteresting sweet recipes to prepare with jaggery for new year 2024food10 best saree looks of shreya bugde from 2023india10 cartoon characters you must introduce your kids toindia next123electionschhattisgarh cm newsmp cm newsrajasthan election resultsmp election result 2023chhattisgarh election resultmizoram election resulttop trendsindia covid casesjapan plane firedriver protest newsindia breaking news todayind vs aus womentruck drivers protesttrending storiesin cityentire websitelive people support politics of good governance\\nurl: https://timesofindia.indiatimes.com/city/kochi/centre-calls-health-meet-as-covid-rises-in-kerala-10-deaths-this-month/articleshow/106106851.cms', metadata={'source': 'follow us on social media visual stories previousanimals who eat their own babiesindialets explore the pataudi family treeindia18 breathtaking pictures from space taken by nasas webb telescopeindia10 health benefits of eating pumpkin seeds everydayindia10 healthy snacks to prepare for new year partyfoodhow to glow in 7 daysindia10 lesserknown spices from different parts of indiafoodinteresting sweet recipes to prepare with jaggery for new year 2024food10 best saree looks of shreya bugde from 2023india10 cartoon characters you must introduce your kids toindia next123electionschhattisgarh cm newsmp cm newsrajasthan election resultsmp election result 2023chhattisgarh election resultmizoram election resulttop trendsindia covid casesjapan plane firedriver protest newsindia breaking news todayind vs aus womentruck drivers protesttrending storiesin cityentire websitelive people support politics of good governance', 'row': 34}),\n",
       " Document(page_content='chunks: development says pm after poll resultstgana poll result congress set for historic winmp poll result landslide win for bjp chouhan credits pm modichhattisgarh poll result bjp wrests state from congrajasthan votes for riwaz picks bjp votes out congwhat icing says about modern datings toxic habitsgrap 3 kicks in as delhis aqi turns severesupreme court to govt will you remove opacity of electoral bonds\\nurl: https://timesofindia.indiatimes.com/city/kochi/centre-calls-health-meet-as-covid-rises-in-kerala-10-deaths-this-month/articleshow/106106851.cms', metadata={'source': 'development says pm after poll resultstgana poll result congress set for historic winmp poll result landslide win for bjp chouhan credits pm modichhattisgarh poll result bjp wrests state from congrajasthan votes for riwaz picks bjp votes out congwhat icing says about modern datings toxic habitsgrap 3 kicks in as delhis aqi turns severesupreme court to govt will you remove opacity of electoral bonds', 'row': 35}),\n",
       " Document(page_content='chunks: karnataka on high alert after zika virus found in mosquito samplepics mumngp eway deaths what causing these accidentstransport body urges truckers to end protest after meeting with union home secretaryterrifying video from inside burning japanese planemeet the sculptor whose ram lalla will sit in ayodhya templechina first jaishankar slams nehrus romanticism approach2nd test skipper rohit wants young guns to step upteesri baar bjps new slogan for lok sabha pollswill this be watershed year for indian americans in politics\\nurl: https://timesofindia.indiatimes.com/city/kochi/centre-calls-health-meet-as-covid-rises-in-kerala-10-deaths-this-month/articleshow/106106851.cms', metadata={'source': 'karnataka on high alert after zika virus found in mosquito samplepics mumngp eway deaths what causing these accidentstransport body urges truckers to end protest after meeting with union home secretaryterrifying video from inside burning japanese planemeet the sculptor whose ram lalla will sit in ayodhya templechina first jaishankar slams nehrus romanticism approach2nd test skipper rohit wants young guns to step upteesri baar bjps new slogan for lok sabha pollswill this be watershed year for indian americans in politics', 'row': 36}),\n",
       " Document(page_content='chunks: 5 upi payment rules changing in january 20245 dead as two planes collide on runway in tokyosetback for indians after uks new rule for foreign studentsabout uscreate your own adterms of use and grievance redressal policy privacy policyadvertise with usrssnewsletterfeedbackepapersitemaparchivesfollow us onother times group news sitesthe economic timeshindi economic timesnavbharat timesmaharashtra timesvijaya karnatakatelugu samayamtamil samayammalayalam samayamei samayi am gujarattimes nowtimes now navbharattimespointsindiatimesbrand capitaleducation timestimes foodmiss kyrapopular categoriesheadlinessports newsbusiness newsindia newsworld newsbollywood newshealth\\nurl: https://timesofindia.indiatimes.com/city/kochi/centre-calls-health-meet-as-covid-rises-in-kerala-10-deaths-this-month/articleshow/106106851.cms', metadata={'source': '5 upi payment rules changing in january 20245 dead as two planes collide on runway in tokyosetback for indians after uks new rule for foreign studentsabout uscreate your own adterms of use and grievance redressal policy privacy policyadvertise with usrssnewsletterfeedbackepapersitemaparchivesfollow us onother times group news sitesthe economic timeshindi economic timesnavbharat timesmaharashtra timesvijaya karnatakatelugu samayamtamil samayammalayalam samayamei samayi am gujarattimes nowtimes now navbharattimespointsindiatimesbrand capitaleducation timestimes foodmiss kyrapopular categoriesheadlinessports newsbusiness newsindia newsworld newsbollywood newshealth', 'row': 37}),\n",
       " Document(page_content='chunks: fitness tipsindian tv showscelebrity photoshot on the websalaar collectionhappy new year statusnew year 2024 quotesnew year 2024 imagescartoon charactersvitamin dstar kidsrubina dilaikbaby nameshair caretop trendsindia covid casesjapan plane firedriver protest newsindia breaking news todayind vs aus womentruck drivers protestjapan earthquakemanipur violencehoroscope todaydavid warnerjk earthquakesachin tendulkarkarnatakas covid casesjmm mlaamrit bharat faresind vs sa testbhopal petrol pump newsipl auction players listtrending topicsdunki collectionbreathing exercisesturmeric milk benefitschristian louboutin shoesbeauty hackswedding lehenga trendsmotivational quotesnimrat kaurhrithik roshankareena kapoorkiara advaniranbir kapoorrashmika mandannaneha sharmaayodhya airport photoshealthy heart tipscareer horoscopelaptops under 30000wifi routerstablets under 15000living and entertainmentviral newsviral videosfeminaetimesgraziazoomtravel destinationsbombay timescricbuzz\\nurl: https://timesofindia.indiatimes.com/city/kochi/centre-calls-health-meet-as-covid-rises-in-kerala-10-deaths-this-month/articleshow/106106851.cms', metadata={'source': 'fitness tipsindian tv showscelebrity photoshot on the websalaar collectionhappy new year statusnew year 2024 quotesnew year 2024 imagescartoon charactersvitamin dstar kidsrubina dilaikbaby nameshair caretop trendsindia covid casesjapan plane firedriver protest newsindia breaking news todayind vs aus womentruck drivers protestjapan earthquakemanipur violencehoroscope todaydavid warnerjk earthquakesachin tendulkarkarnatakas covid casesjmm mlaamrit bharat faresind vs sa testbhopal petrol pump newsipl auction players listtrending topicsdunki collectionbreathing exercisesturmeric milk benefitschristian louboutin shoesbeauty hackswedding lehenga trendsmotivational quotesnimrat kaurhrithik roshankareena kapoorkiara advaniranbir kapoorrashmika mandannaneha sharmaayodhya airport photoshealthy heart tipscareer horoscopelaptops under 30000wifi routerstablets under 15000living and entertainmentviral newsviral videosfeminaetimesgraziazoomtravel destinationsbombay timescricbuzz', 'row': 38}),\n",
       " Document(page_content='chunks: comfilmfaretvlifestylelongwalks appnewspaper subscriptionfood newstimes primewhats hotservicescouponduniamagicbrickstechgigtimesjobsbollywood newstimes mobilegadgets nowcareerscolombiacopyright  2023 bennett coleman co ltd all rights reserved for reprint rights times syndication service\\nurl: https://timesofindia.indiatimes.com/city/kochi/centre-calls-health-meet-as-covid-rises-in-kerala-10-deaths-this-month/articleshow/106106851.cms', metadata={'source': 'comfilmfaretvlifestylelongwalks appnewspaper subscriptionfood newstimes primewhats hotservicescouponduniamagicbrickstechgigtimesjobsbollywood newstimes mobilegadgets nowcareerscolombiacopyright  2023 bennett coleman co ltd all rights reserved for reprint rights times syndication service', 'row': 39})]"
      ]
     },
     "execution_count": 75,
     "metadata": {},
     "output_type": "execute_result"
    }
   ],
   "source": [
    "data"
   ]
  },
  {
   "cell_type": "code",
   "execution_count": null,
   "id": "47522b50",
   "metadata": {},
   "outputs": [],
   "source": []
  }
 ],
 "metadata": {
  "kernelspec": {
   "display_name": "Python 3 (ipykernel)",
   "language": "python",
   "name": "python3"
  },
  "language_info": {
   "codemirror_mode": {
    "name": "ipython",
    "version": 3
   },
   "file_extension": ".py",
   "mimetype": "text/x-python",
   "name": "python",
   "nbconvert_exporter": "python",
   "pygments_lexer": "ipython3",
   "version": "3.10.5"
  }
 },
 "nbformat": 4,
 "nbformat_minor": 5
}
