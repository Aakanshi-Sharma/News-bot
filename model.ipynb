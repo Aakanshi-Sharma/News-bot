{
 "cells": [
  {
   "cell_type": "code",
   "execution_count": 32,
   "id": "30dea290",
   "metadata": {},
   "outputs": [],
   "source": [
    "import os\n",
    "import streamlit as st\n",
    "import pickle\n",
    "import time\n",
    "import langchain\n",
    "from langchain import OpenAI\n",
    "from langchain.chains import RetrievalQAWithSourcesChain\n",
    "from langchain.chains.qa_with_sources.loading import load_qa_with_sources_chain\n",
    "from langchain.text_splitter import RecursiveCharacterTextSplitter\n",
    "from langchain.document_loaders import UnstructuredURLLoader\n",
    "from langchain.embeddings import OpenAIEmbeddings\n",
    "from langchain.vectorstores import FAISS\n",
    "import requests\n",
    "from bs4 import BeautifulSoup"
   ]
  },
  {
   "cell_type": "code",
   "execution_count": 33,
   "id": "a01ae7bf",
   "metadata": {},
   "outputs": [],
   "source": [
    "import pandas as pd\n",
    "key= pd.read_csv(\"key.txt\")"
   ]
  },
  {
   "cell_type": "code",
   "execution_count": 34,
   "id": "8cd79f23",
   "metadata": {},
   "outputs": [],
   "source": [
    "llm= OpenAI(temperature =0.9 , max_tokens=500)"
   ]
  },
  {
   "cell_type": "code",
   "execution_count": 35,
   "id": "5b90f0ca",
   "metadata": {},
   "outputs": [],
   "source": [
    "urls=[\"https://www.livemint.com/news/india/uttarkashi-tunnel-collapse-silkyara-ndrf-deploys-team-rescue-mission-41-workers-top-10-updates-pushkar-singh-dhami-11700703183514.html\",\n",
    "     \"https://www.indiatvnews.com/sports/cricket/india-s-schedule-after-world-cup-2023-final-loss-india-vs-australia-t20i-series-t20-world-cup-2024-2023-11-20-903594\"]\n",
    "responses=[]\n",
    "\n",
    "for url in urls:\n",
    "    response=requests.get(url)\n",
    "    if response.status_code==200:\n",
    "        soup = BeautifulSoup(response.text, 'html.parser')\n",
    "        text = soup.get_text()\n",
    "        responses.append((text, response.url))\n",
    "        \n",
    "    else:\n",
    "        print(f\"Failed to retrieve the URL. Url={url} Status_code :{response.status_code}\")"
   ]
  },
  {
   "cell_type": "code",
   "execution_count": 36,
   "id": "0e9ddca1",
   "metadata": {},
   "outputs": [
    {
     "data": {
      "text/plain": [
       "2"
      ]
     },
     "execution_count": 36,
     "metadata": {},
     "output_type": "execute_result"
    }
   ],
   "source": [
    "len(responses)"
   ]
  },
  {
   "cell_type": "code",
   "execution_count": 37,
   "id": "3e41f6bf",
   "metadata": {},
   "outputs": [],
   "source": [
    "import string \n",
    "punct=string.punctuation\n",
    "seps=[]\n",
    "for i in punct:\n",
    "    seps.append(i)"
   ]
  },
  {
   "cell_type": "code",
   "execution_count": 38,
   "id": "2834adf6",
   "metadata": {},
   "outputs": [],
   "source": [
    "text_splitter=RecursiveCharacterTextSplitter(\n",
    "    separators=[\"\\n\\n\", \"\\n\", \"?\",\".\" ]+seps+[\" \"],\n",
    "    chunk_size=1000,\n",
    "    chunk_overlap=200\n",
    ")"
   ]
  },
  {
   "cell_type": "code",
   "execution_count": 52,
   "id": "deae9749",
   "metadata": {},
   "outputs": [],
   "source": [
    "splitted_tuple=[]\n",
    "for i in responses:\n",
    "    splitted_text= text_splitter.split_text(i[0])\n",
    "    for j in splitted_text:\n",
    "        splitted_tuple.append((j, i[0]))\n",
    "  \n"
   ]
  },
  {
   "cell_type": "code",
   "execution_count": 54,
   "id": "3b23c3d0",
   "metadata": {},
   "outputs": [
    {
     "data": {
      "text/plain": [
       "40"
      ]
     },
     "execution_count": 54,
     "metadata": {},
     "output_type": "execute_result"
    }
   ],
   "source": [
    "len(splitted_tuple)"
   ]
  },
  {
   "cell_type": "code",
   "execution_count": 58,
   "id": "07cb8da1",
   "metadata": {},
   "outputs": [
    {
     "data": {
      "text/plain": [
       "'Uttarkashi Tunnel Collapse: NDRF team enters tunnel to save 41 trapped workers with ambulances on standby | 10 updates | Mint'"
      ]
     },
     "execution_count": 58,
     "metadata": {},
     "output_type": "execute_result"
    }
   ],
   "source": [
    "splitted_tuple[0][0]"
   ]
  },
  {
   "cell_type": "code",
   "execution_count": null,
   "id": "96210218",
   "metadata": {},
   "outputs": [],
   "source": []
  }
 ],
 "metadata": {
  "kernelspec": {
   "display_name": "Python 3 (ipykernel)",
   "language": "python",
   "name": "python3"
  },
  "language_info": {
   "codemirror_mode": {
    "name": "ipython",
    "version": 3
   },
   "file_extension": ".py",
   "mimetype": "text/x-python",
   "name": "python",
   "nbconvert_exporter": "python",
   "pygments_lexer": "ipython3",
   "version": "3.10.5"
  }
 },
 "nbformat": 4,
 "nbformat_minor": 5
}
