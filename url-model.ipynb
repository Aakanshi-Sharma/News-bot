{
 "cells": [
  {
   "cell_type": "code",
   "execution_count": 1,
   "id": "3244da75",
   "metadata": {},
   "outputs": [],
   "source": [
    "import requests\n",
    "from bs4 import BeautifulSoup"
   ]
  },
  {
   "cell_type": "code",
   "execution_count": 2,
   "id": "0899882e",
   "metadata": {},
   "outputs": [],
   "source": [
    "urls=[\"https://www.ndtv.com/world-news/hamas-frees-2-more-hostages-amid-israels-300-strikes-in-24-hours-10-points-4508596\"\n",
    ", \"https://sports.ndtv.com/icc-cricket-world-cup-2023/hurt-babar-azams-honest-admission-as-afghanistan-stun-pakistan-in-cricket-world-cup-2023-4508701#pfrom=home-ndtv_worldcup\"]\n",
    "responses=[]\n",
    "for url in urls:\n",
    "    response=requests.get(url)\n",
    "    if response.status_code==200:\n",
    "        soup = BeautifulSoup(response.text, 'html.parser')\n",
    "        text = soup.get_text()\n",
    "        responses.append((text, response.url))\n",
    "    else:\n",
    "        print(f\"Failed to retrieve the URL. Url={url} Status_code :{response.status_code}\")"
   ]
  },
  {
   "cell_type": "code",
   "execution_count": 3,
   "id": "0fb59ad9",
   "metadata": {},
   "outputs": [
    {
     "data": {
      "text/plain": [
       "('\"Hurt\" Babar Azam\\'s Honest Admission As Afghanistan Stun Pakistan In Cricket World Cup 2023 | Cricket Newsarrow-downredditsnapchattwitterfacebookcommentsemailprintersearchbelltop-navreddit-fillsnapchat-filltwitter-fillfacebook-fillsharewhatsapp-fillbookmarkNDTVWORLD EDITIONहिंदीWORLD CUP 2023 LiveMOVIESFOODLIFESTYLEHEALTHTECHBUSINESSGAMESBIG BONUSSWASTHSHOPPINGDon\\'t MissIgor Stimac Announces 28-member Probable For FIFA World Cup QualifiersFernando Alonso, Daniel Ricciardo Reject Speculation Over Red Bull MoveSaudi Arabia Ready For Summer Or Winter World Cup After Rapid Bid ProcessOn \\'Second-Class Citizens\\' Remark For Assam Team, Ex-India Star ApologisesAdvertisementENG Select Languagesहिंदी | HindiWorld Cup 2023CricketFootballFormula 1TennisGolfBadmintonKabaddiNBABoxingAthleticsChessSwimmingShootingWrestlingTable tennisOthersportsLoginDark / Light mode\"Hurt\" Babar Azam\\'s Honest Admission As Afghanistan Stun Pakistan In Cricket World Cup 2023facebooktwitterWhatsAppSettings Change Font Size A  AChange Languageहिंदी | HindiFocus on StoryWorld Cup 2023 05 Oct 23 to 19 Nov 23ScoresNewsPhotosVideosFixturesPoints tableteamsplayersVenuesMore ResultsStatsLive Cricket Matches Cricket MatchesFootball MatchesAll Matches India Matches World Cup 2023Football Matches Cricket MatchesFootball MatchesAll Matches ISL World Cup 2023All Matches Cricket MatchesFootball MatchesAll Matches India Matches World Cup 2023Match 35, ICC Cricket World Cup, 2023 at Bengaluru, Nov 4, 2023 notify notifyNew ZealandPakistanSat, Nov 4, 2023 - 5:00 AM ISTMatch 36, ICC Cricket World Cup, 2023 at Ahmedabad, Nov 4, 2023 notify notifyEnglandAustraliaSat, Nov 4, 2023 - 8:30 AM ISTMatch 37, ICC Cricket World Cup, 2023 at Kolkata, Nov 5, 2023 notify notifyIndiaSouth AfricaSun, Nov 5, 2023 - 8:30 AM ISTMatch 34, ICC Cricket World Cup, 2023 at Lucknow, Nov 3, 2023Netherlands179 (46.3)Afghanistan181/3 (31.3)Afghanistan beat Netherlands by 7 wicketsMatch 33, ICC Cricket World Cup, 2023 at Mumbai, Nov 2, 2023India357/8 (50.0)Sri Lanka55 (19.4)India beat Sri Lanka by 302 runsMatch 32, ICC Cricket World Cup, 2023 at Pune, Nov 1, 2023New Zealand167 (35.3)South Africa357/4 (50.0)South Africa beat New Zealand by 190 runsSports Home World Cup 2023 News Hurt Babar Azams Honest Admission As Afghanistan Stun Pakistan In Cricket World Cup 2023Story ProgressBack to home\"Hurt\" Babar Azam\\'s Honest Admission As Afghanistan Stun Pakistan In Cricket World Cup 2023Afghanistan achieved their first-ever one-day victory over Pakistan in eight attempts as they chased down a 283-run target with an over to spare.Agence France-PresseUpdated: October 24, 2023 04:35 AM ISTRead Time:2 minfacebook twitter WhatsApp redditE-mail Babar Azam admitted to be hurt by Afghanistan\\'s victory over Pakistan© TwitterVisibly shaken Pakistan captain Babar Azam admitted \"we are hurt\" after his team was stunned in an eight-wicket defeat by Afghanistan at the World Cup on Monday which put their semi-finals hopes in peril. Afghanistan achieved their first-ever one-day victory over Pakistan in eight attempts as they chased down a 283-run target with an over to spare. Ibrahim Zadran hit a brilliant 113-ball 87 while fellow opener Rahmanullah Gurbaz made a 53-ball 65 to build a strong platform, putting on 130 for the first wicket.Rahmat Shah\\'s unbeaten 84-ball 77 and skipper Hashmatullah Shahidi\\'s 48 not out sealed victory against a sloppy Pakistan team.\"We are hurt as a team,\" said Azam whose side now have three defeats and two wins in five matches.They face a formidable South Africa at the same Chennai venue on Friday.\"We must feel the disappointment and my message to my team for the remaining matches will be to learn from this defeat,\" said Azam, whose 74 off 95 balls aided by opener Abdullah Shafique\\'s 58 guided Pakistan to 282-7 after they won the toss and batted.Advertisement\"We achieved what we set out to do when we batted but we were not up to the mark in bowling and fielding,\" said Azam whose bowlers conceded 17 boundaries in the first 16 overs.\"We failed to put them under pressure but I congratulate Afghanistan for this victory.\"Afghanistan, who played four specialist spinners on Monday, also now have two wins in five matches.\"Afghanistan\\'s spinners are of good quality so the plan was to not give them wickets until the 40th over and then charge in the last ten but we fell some 10-15 runs short,\" said Azam.AdvertisementNoor Ahmad, 18, was the pick of the Afghanistan spinners with 3-49 on his World Cup debut while the more experienced slow bowlers, Rashid Khan and Mujeeb Ur Rahman went wicketless.Despite Monday\\'s shock defeat, Azam stressed Pakistan can still qualify for the semi-finals.\"From now on we need to play our best cricket in all departments and must overcome our mistakes.\"Azam admitted that the team is suffering from the absence at the tournament of fast bowler Naseem Shah who was ruled out of the World Cup with a shoulder injury.\"Of course, Naseem is missed badly because he had been part of our scheme but overall our bowling has not clicked,\" said Azam.\"We knew there are no margin for error on these grounds and we failed to execute plans.\"Listen to the latest songs, only on JioSaavn.comHe added: \"We have been perfect in training but I think our bowlers over-tried in matches and have leaked runs. We need to focus on positives and adopt a different mind-set.\"(Except for the headline, this story has not been edited by NDTV staff and is published from a syndicated feed.)Comments Topics mentioned in this article Pakistan Cricket Team  Afghanistan  Babar Azam World Cup 2023 CricketGet the Latest World Cup 2023 Updates and check out\\xa0World Cup 2023 Schedules.Like us on Facebook or follow us on Twitter for more sports updates. You can also download the NDTV Cricket app for Android or iOS.Related ArticlesHardik Pandya Ruled Out Of Cricket World Cup 2023 Due To Ankle Injury. India Name This Player As His ReplacementODI World Cup 2023: Jonathan Trott Figures Out Afghanistan\\'s Code Of Success In Indian ConditionsCricket World Cup 2023: Hashmatullah Shahidi Dedicates Afghanistan Victory To \\'Struggling Refugees\\'New Zealand vs Pakistan Live Score, Cricket World Cup 2023: New Zealand Eye Turnaround Against PakistanCricket World Cup 2023: Bangladesh Cancel Training Session In Delhi Due To \\'Severe\\' Air PollutionAdvertisementAdvertisementWorld Cup 2023 Points TableTeamMWLTNRPTSNRR IND7700014+2.102 SA7610012+2.290 AUS642008+0.970 NZ743008+0.484 AFG743008-0.330Full Points TableAdvertisementNow TrendingEPL 2022-23Live Cricket ScoreIndia Cricket ScheduleVirat KohliISL ScheduleAdvertisementTrending LinksEPL 2022-23Live Cricket ScoreIndia Cricket ScheduleVirat KohliISL ScheduleFollow us on:facebook twitterCricketScoresSeriesFixturesResultsNewsPhotosVideosFeaturesTeamsPlayersVenuesICC RankingFootballISL 2022-23EPL 2022-23NewsFeaturesPhotosFixturesResultsVideosTeamsPlayersMatchcentreMore SportsFormula 1 Tennis Hockey Badminton Golf Nba Kabaddi Shooting Swimming Table TennisAdvertiseAbout UsFeedbackDisclaimerInvestorComplaint RedressalCareersContact UsThis website follows the DNPA Code of Ethics © Copyright NDTV Convergence Limited 2023. All rights reserved.Select Language Languagesहिंदी | HindiDark / Light modeSearch  Featured LinksWorld Cup 2023World Cup Points TableIndia vs Australia ScheduleFeatured Sports Cricket Football Formula 1 Tennis Hockey Golf BadmintonMore SportsKabaddiNBABoxingAthleticsChessSwimmingShootingWrestlingTable tennisOthersportsMore from NDTVNDTVBusinessHindiMoviesCricketHealthFoodTechAutoAppsTrainsArt\\n\\n\\n\\n\\n\\n\\n\\n\\n\\n\\n\\n\\n\\n\\n\\narrow-rgtarrow-nextarrow-uprefreshcloselinkcogstarbookzapcricketfootballtennisformula-1badmintonhockeygolfboxingndtv-ncheckleft-arrowright-arrow',\n",
       " 'https://sports.ndtv.com/icc-cricket-world-cup-2023/hurt-babar-azams-honest-admission-as-afghanistan-stun-pakistan-in-cricket-world-cup-2023-4508701#pfrom=home-ndtv_worldcup')"
      ]
     },
     "execution_count": 3,
     "metadata": {},
     "output_type": "execute_result"
    }
   ],
   "source": [
    "responses[1]"
   ]
  },
  {
   "cell_type": "markdown",
   "id": "d3def8ab",
   "metadata": {},
   "source": [
    "### text splitting and merging"
   ]
  },
  {
   "cell_type": "code",
   "execution_count": 4,
   "id": "d3345eb6",
   "metadata": {},
   "outputs": [],
   "source": [
    "from langchain.text_splitter import RecursiveCharacterTextSplitter\n",
    "\n",
    "r_splitter =RecursiveCharacterTextSplitter(\n",
    "    separators=[\"\\n\\n\", \"\\n\", \"?\",\".\",\" \" ],\n",
    "    chunk_size=200,\n",
    "    chunk_overlap=0\n",
    ")"
   ]
  },
  {
   "cell_type": "code",
   "execution_count": 7,
   "id": "5bc8e822",
   "metadata": {},
   "outputs": [],
   "source": [
    "chunks=r_splitter.split_text(responses[1][0])"
   ]
  },
  {
   "cell_type": "code",
   "execution_count": 8,
   "id": "9b482a09",
   "metadata": {},
   "outputs": [
    {
     "data": {
      "text/plain": [
       "['\"Hurt\" Babar Azam\\'s Honest Admission As Afghanistan Stun Pakistan In Cricket World Cup 2023 | Cricket',\n",
       " 'Newsarrow-downredditsnapchattwitterfacebookcommentsemailprintersearchbelltop-navreddit-fillsnapchat-filltwitter-fillfacebook-fillsharewhatsapp-fillbookmarkNDTVWORLD EDITIONहिंदीWORLD CUP 2023',\n",
       " \"LiveMOVIESFOODLIFESTYLEHEALTHTECHBUSINESSGAMESBIG BONUSSWASTHSHOPPINGDon't MissIgor Stimac Announces 28-member Probable For FIFA World Cup QualifiersFernando Alonso, Daniel Ricciardo Reject\",\n",
       " \"Speculation Over Red Bull MoveSaudi Arabia Ready For Summer Or Winter World Cup After Rapid Bid ProcessOn 'Second-Class Citizens' Remark For Assam Team, Ex-India Star ApologisesAdvertisementENG\",\n",
       " 'Select Languagesहिंदी | HindiWorld Cup 2023CricketFootballFormula 1TennisGolfBadmintonKabaddiNBABoxingAthleticsChessSwimmingShootingWrestlingTable tennisOthersportsLoginDark / Light mode\"Hurt\" Babar',\n",
       " \"Azam's Honest Admission As Afghanistan Stun Pakistan In Cricket World Cup 2023facebooktwitterWhatsAppSettings Change Font Size A  AChange Languageहिंदी | HindiFocus on StoryWorld Cup 2023 05 Oct 23\",\n",
       " 'to 19 Nov 23ScoresNewsPhotosVideosFixturesPoints tableteamsplayersVenuesMore ResultsStatsLive Cricket Matches Cricket MatchesFootball MatchesAll Matches India Matches World Cup 2023Football Matches',\n",
       " 'Cricket MatchesFootball MatchesAll Matches ISL World Cup 2023All Matches Cricket MatchesFootball MatchesAll Matches India Matches World Cup 2023Match 35, ICC Cricket World Cup, 2023 at Bengaluru, Nov',\n",
       " '4, 2023 notify notifyNew ZealandPakistanSat, Nov 4, 2023 - 5:00 AM ISTMatch 36, ICC Cricket World Cup, 2023 at Ahmedabad, Nov 4, 2023 notify notifyEnglandAustraliaSat, Nov 4, 2023 - 8:30 AM ISTMatch',\n",
       " '37, ICC Cricket World Cup, 2023 at Kolkata, Nov 5, 2023 notify notifyIndiaSouth AfricaSun, Nov 5, 2023 - 8:30 AM ISTMatch 34, ICC Cricket World Cup, 2023 at Lucknow, Nov 3, 2023Netherlands179 (46',\n",
       " '.3)Afghanistan181/3 (31.3)Afghanistan beat Netherlands by 7 wicketsMatch 33, ICC Cricket World Cup, 2023 at Mumbai, Nov 2, 2023India357/8 (50.0)Sri Lanka55 (19',\n",
       " '.4)India beat Sri Lanka by 302 runsMatch 32, ICC Cricket World Cup, 2023 at Pune, Nov 1, 2023New Zealand167 (35.3)South Africa357/4 (50',\n",
       " '.0)South Africa beat New Zealand by 190 runsSports Home World Cup 2023 News Hurt Babar Azams Honest Admission As Afghanistan Stun Pakistan In Cricket World Cup 2023Story ProgressBack to home\"Hurt\"',\n",
       " \"Babar Azam's Honest Admission As Afghanistan Stun Pakistan In Cricket World Cup 2023Afghanistan achieved their first-ever one-day victory over Pakistan in eight attempts as they chased down a 283-run\",\n",
       " 'target with an over to spare',\n",
       " \".Agence France-PresseUpdated: October 24, 2023 04:35 AM ISTRead Time:2 minfacebook twitter WhatsApp redditE-mail Babar Azam admitted to be hurt by Afghanistan's victory over Pakistan© TwitterVisibly\",\n",
       " 'shaken Pakistan captain Babar Azam admitted \"we are hurt\" after his team was stunned in an eight-wicket defeat by Afghanistan at the World Cup on Monday which put their semi-finals hopes in peril',\n",
       " '. Afghanistan achieved their first-ever one-day victory over Pakistan in eight attempts as they chased down a 283-run target with an over to spare',\n",
       " '. Ibrahim Zadran hit a brilliant 113-ball 87 while fellow opener Rahmanullah Gurbaz made a 53-ball 65 to build a strong platform, putting on 130 for the first wicket',\n",
       " \".Rahmat Shah's unbeaten 84-ball 77 and skipper Hashmatullah Shahidi's 48 not out sealed victory against a sloppy Pakistan team\",\n",
       " '.\"We are hurt as a team,\" said Azam whose side now have three defeats and two wins in five matches.They face a formidable South Africa at the same Chennai venue on Friday',\n",
       " '.\"We must feel the disappointment and my message to my team for the remaining matches will be to learn from this defeat,\" said Azam, whose 74 off 95 balls aided by opener Abdullah Shafique\\'s 58 guided',\n",
       " 'Pakistan to 282-7 after they won the toss and batted',\n",
       " '.Advertisement\"We achieved what we set out to do when we batted but we were not up to the mark in bowling and fielding,\" said Azam whose bowlers conceded 17 boundaries in the first 16 overs',\n",
       " '.\"We failed to put them under pressure but I congratulate Afghanistan for this victory.\"Afghanistan, who played four specialist spinners on Monday, also now have two wins in five matches',\n",
       " '.\"Afghanistan\\'s spinners are of good quality so the plan was to not give them wickets until the 40th over and then charge in the last ten but we fell some 10-15 runs short,\" said Azam',\n",
       " '.AdvertisementNoor Ahmad, 18, was the pick of the Afghanistan spinners with 3-49 on his World Cup debut while the more experienced slow bowlers, Rashid Khan and Mujeeb Ur Rahman went wicketless',\n",
       " '.Despite Monday\\'s shock defeat, Azam stressed Pakistan can still qualify for the semi-finals.\"From now on we need to play our best cricket in all departments and must overcome our mistakes',\n",
       " '.\"Azam admitted that the team is suffering from the absence at the tournament of fast bowler Naseem Shah who was ruled out of the World Cup with a shoulder injury',\n",
       " '.\"Of course, Naseem is missed badly because he had been part of our scheme but overall our bowling has not clicked,\" said Azam',\n",
       " '.\"We knew there are no margin for error on these grounds and we failed to execute plans.\"Listen to the latest songs, only on JioSaavn',\n",
       " '.comHe added: \"We have been perfect in training but I think our bowlers over-tried in matches and have leaked runs. We need to focus on positives and adopt a different mind-set',\n",
       " '.\"(Except for the headline, this story has not been edited by NDTV staff and is published from a syndicated feed',\n",
       " '.)Comments Topics mentioned in this article Pakistan Cricket Team  Afghanistan  Babar Azam World Cup 2023 CricketGet the Latest World Cup 2023 Updates and check out\\xa0World Cup 2023 Schedules',\n",
       " '.Like us on Facebook or follow us on Twitter for more sports updates. You can also download the NDTV Cricket app for Android or iOS',\n",
       " '.Related ArticlesHardik Pandya Ruled Out Of Cricket World Cup 2023 Due To Ankle Injury',\n",
       " \". India Name This Player As His ReplacementODI World Cup 2023: Jonathan Trott Figures Out Afghanistan's Code Of Success In Indian ConditionsCricket World Cup 2023: Hashmatullah Shahidi Dedicates\",\n",
       " \"Afghanistan Victory To 'Struggling Refugees'New Zealand vs Pakistan Live Score, Cricket World Cup 2023: New Zealand Eye Turnaround Against PakistanCricket World Cup 2023: Bangladesh Cancel Training\",\n",
       " \"Session In Delhi Due To 'Severe' Air PollutionAdvertisementAdvertisementWorld Cup 2023 Points TableTeamMWLTNRPTSNRR IND7700014+2\",\n",
       " '.102 SA7610012+2.290 AUS642008+0.970 NZ743008+0.484 AFG743008-0',\n",
       " '.330Full Points TableAdvertisementNow TrendingEPL 2022-23Live Cricket ScoreIndia Cricket ScheduleVirat KohliISL ScheduleAdvertisementTrending LinksEPL 2022-23Live Cricket ScoreIndia Cricket',\n",
       " 'ScheduleVirat KohliISL ScheduleFollow us on:facebook twitterCricketScoresSeriesFixturesResultsNewsPhotosVideosFeaturesTeamsPlayersVenuesICC RankingFootballISL 2022-23EPL',\n",
       " '2022-23NewsFeaturesPhotosFixturesResultsVideosTeamsPlayersMatchcentreMore SportsFormula 1 Tennis Hockey Badminton Golf Nba Kabaddi Shooting Swimming Table TennisAdvertiseAbout',\n",
       " 'UsFeedbackDisclaimerInvestorComplaint RedressalCareersContact UsThis website follows the DNPA Code of Ethics © Copyright NDTV Convergence Limited 2023',\n",
       " '. All rights reserved',\n",
       " '.Select Language Languagesहिंदी | HindiDark / Light modeSearch  Featured LinksWorld Cup 2023World Cup Points TableIndia vs Australia ScheduleFeatured Sports Cricket Football Formula 1 Tennis Hockey',\n",
       " 'Golf BadmintonMore SportsKabaddiNBABoxingAthleticsChessSwimmingShootingWrestlingTable tennisOthersportsMore from NDTVNDTVBusinessHindiMoviesCricketHealthFoodTechAutoAppsTrainsArt',\n",
       " 'arrow-rgtarrow-nextarrow-uprefreshcloselinkcogstarbookzapcricketfootballtennisformula-1badmintonhockeygolfboxingndtv-ncheckleft-arrowright-arrow']"
      ]
     },
     "execution_count": 8,
     "metadata": {},
     "output_type": "execute_result"
    }
   ],
   "source": [
    "chunks"
   ]
  },
  {
   "cell_type": "code",
   "execution_count": 9,
   "id": "b0284cfa",
   "metadata": {},
   "outputs": [
    {
     "name": "stdout",
     "output_type": "stream",
     "text": [
      "101\n",
      "191\n",
      "189\n",
      "193\n",
      "198\n",
      "197\n",
      "197\n",
      "199\n",
      "198\n",
      "195\n",
      "159\n",
      "135\n",
      "196\n",
      "199\n",
      "28\n",
      "198\n",
      "195\n",
      "146\n",
      "165\n",
      "126\n",
      "170\n",
      "200\n",
      "52\n",
      "189\n",
      "186\n",
      "183\n",
      "193\n",
      "188\n",
      "162\n",
      "126\n",
      "133\n",
      "176\n",
      "112\n",
      "189\n",
      "131\n",
      "86\n",
      "194\n",
      "197\n",
      "128\n",
      "63\n",
      "189\n",
      "169\n",
      "175\n",
      "150\n",
      "21\n",
      "197\n",
      "178\n",
      "144\n"
     ]
    }
   ],
   "source": [
    "for i in chunks:\n",
    "    print(len(i))"
   ]
  },
  {
   "cell_type": "code",
   "execution_count": null,
   "id": "906f8560",
   "metadata": {},
   "outputs": [],
   "source": [
    "import pandas as pd\n"
   ]
  }
 ],
 "metadata": {
  "kernelspec": {
   "display_name": "Python 3 (ipykernel)",
   "language": "python",
   "name": "python3"
  },
  "language_info": {
   "codemirror_mode": {
    "name": "ipython",
    "version": 3
   },
   "file_extension": ".py",
   "mimetype": "text/x-python",
   "name": "python",
   "nbconvert_exporter": "python",
   "pygments_lexer": "ipython3",
   "version": "3.10.5"
  }
 },
 "nbformat": 4,
 "nbformat_minor": 5
}
