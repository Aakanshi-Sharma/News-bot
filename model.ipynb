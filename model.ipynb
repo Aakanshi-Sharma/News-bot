{
 "cells": [
  {
   "cell_type": "code",
   "execution_count": 1,
   "id": "1d620094",
   "metadata": {},
   "outputs": [],
   "source": [
    "from langchain.llms import GooglePalm"
   ]
  },
  {
   "cell_type": "code",
   "execution_count": 2,
   "id": "e4beac4c",
   "metadata": {},
   "outputs": [],
   "source": [
    "import os\n",
    "import streamlit as st\n",
    "import pickle\n",
    "import time\n",
    "import langchain\n",
    "from langchain import OpenAI\n",
    "from langchain.chains import RetrievalQAWithSourcesChain\n",
    "from langchain.chains.qa_with_sources.loading import load_qa_with_sources_chain\n",
    "from langchain.text_splitter import RecursiveCharacterTextSplitter\n",
    "from langchain.document_loaders import UnstructuredURLLoader\n",
    "from langchain.embeddings import OpenAIEmbeddings\n",
    "from langchain.vectorstores import FAISS\n",
    "import requests\n",
    "from bs4 import BeautifulSoup"
   ]
  },
  {
   "cell_type": "code",
   "execution_count": 3,
   "id": "7268ed08",
   "metadata": {},
   "outputs": [],
   "source": [
    "import pandas as pd"
   ]
  },
  {
   "cell_type": "code",
   "execution_count": 4,
   "id": "e1b585c1",
   "metadata": {},
   "outputs": [],
   "source": [
    "with open(\"google_key.txt\", \"r\") as f:\n",
    "    api_key=f.read()"
   ]
  },
  {
   "cell_type": "code",
   "execution_count": 5,
   "id": "becadc11",
   "metadata": {},
   "outputs": [],
   "source": [
    "llm=GooglePalm(google_api_key=api_key, temperature=0.7)"
   ]
  },
  {
   "cell_type": "code",
   "execution_count": 6,
   "id": "8520f779",
   "metadata": {},
   "outputs": [],
   "source": [
    "urls=[\"https://www.livemint.com/news/india/uttarkashi-tunnel-collapse-silkyara-ndrf-deploys-team-rescue-mission-41-workers-top-10-updates-pushkar-singh-dhami-11700703183514.html\",\n",
    "     \"https://timesofindia.indiatimes.com/city/kochi/centre-calls-health-meet-as-covid-rises-in-kerala-10-deaths-this-month/articleshow/106106851.cms\"]\n",
    "responses=[]\n",
    "\n",
    "for url in urls:\n",
    "    response=requests.get(url)\n",
    "    if response.status_code==200:\n",
    "        soup = BeautifulSoup(response.text, 'html.parser')\n",
    "        text = soup.get_text()\n",
    "        responses.append((text, response.url))\n",
    "        \n",
    "    else:\n",
    "        print(f\"Failed to retrieve the URL. Url={url} Status_code :{response.status_code}\")"
   ]
  },
  {
   "cell_type": "code",
   "execution_count": 7,
   "id": "e160d5f1",
   "metadata": {},
   "outputs": [
    {
     "data": {
      "text/plain": [
       "2"
      ]
     },
     "execution_count": 7,
     "metadata": {},
     "output_type": "execute_result"
    }
   ],
   "source": [
    "len(responses)"
   ]
  },
  {
   "cell_type": "code",
   "execution_count": 8,
   "id": "b44c0ab8",
   "metadata": {},
   "outputs": [],
   "source": [
    "import string \n",
    "punct=string.punctuation\n",
    "seps=[]\n",
    "for i in punct:\n",
    "    seps.append(i)"
   ]
  },
  {
   "cell_type": "code",
   "execution_count": 9,
   "id": "98c16083",
   "metadata": {},
   "outputs": [],
   "source": [
    "text_splitter=RecursiveCharacterTextSplitter(\n",
    "    separators=[\"\\n\\n\", \"\\n\", \"?\",\".\" ]+seps+[\" \"],\n",
    "    chunk_size=1000,\n",
    "    chunk_overlap=200\n",
    ")"
   ]
  },
  {
   "cell_type": "code",
   "execution_count": 10,
   "id": "b4d6034d",
   "metadata": {},
   "outputs": [],
   "source": [
    "splitted_tuple=[]\n",
    "for i in responses:\n",
    "    splitted_text= text_splitter.split_text(i[0])\n",
    "    for j in splitted_text:\n",
    "        splitted_tuple.append((j, i[1]))"
   ]
  },
  {
   "cell_type": "code",
   "execution_count": 11,
   "id": "97f4c571",
   "metadata": {},
   "outputs": [],
   "source": [
    "data_dict=[{\"chunks\": content, \"url\": url} for content, url in splitted_tuple]"
   ]
  },
  {
   "cell_type": "code",
   "execution_count": 12,
   "id": "1b0505d0",
   "metadata": {},
   "outputs": [],
   "source": [
    "df = pd.DataFrame(data_dict)"
   ]
  },
  {
   "cell_type": "code",
   "execution_count": 13,
   "id": "d7027e08",
   "metadata": {},
   "outputs": [],
   "source": [
    "def filter_chunks(text):\n",
    "    text=text.lower().strip()\n",
    "    text=text.split()\n",
    "    words=[]\n",
    "    for i in text:\n",
    "        if i not in seps:\n",
    "            word=\"\".join([j for j in i if j.isalnum()])\n",
    "            words.append(word)\n",
    "    sentence=\" \".join(words)\n",
    "    if(len(sentence)>0):\n",
    "        return sentence  "
   ]
  },
  {
   "cell_type": "code",
   "execution_count": 14,
   "id": "ab57f97b",
   "metadata": {},
   "outputs": [
    {
     "data": {
      "text/plain": [
       "'add'"
      ]
     },
     "execution_count": 14,
     "metadata": {},
     "output_type": "execute_result"
    }
   ],
   "source": [
    "filter_chunks(\"add! .\")"
   ]
  },
  {
   "cell_type": "code",
   "execution_count": 15,
   "id": "60829772",
   "metadata": {},
   "outputs": [],
   "source": [
    "df[\"chunks\"]=df[\"chunks\"].apply(filter_chunks)"
   ]
  },
  {
   "cell_type": "code",
   "execution_count": 16,
   "id": "ed472ef5",
   "metadata": {},
   "outputs": [],
   "source": [
    "csv_path='dataset.csv'\n",
    "if os.path.exists(csv_path):\n",
    "    os.remove(csv_path)"
   ]
  },
  {
   "cell_type": "code",
   "execution_count": 17,
   "id": "e733d987",
   "metadata": {},
   "outputs": [],
   "source": [
    "df.to_csv(csv_path, index=False)"
   ]
  },
  {
   "cell_type": "code",
   "execution_count": 18,
   "id": "7ded49c9",
   "metadata": {},
   "outputs": [],
   "source": [
    "csv_data=pd.read_csv(\"dataset.csv\",encoding='latin1')"
   ]
  },
  {
   "cell_type": "code",
   "execution_count": 19,
   "id": "f44c776f",
   "metadata": {},
   "outputs": [
    {
     "data": {
      "text/html": [
       "<div>\n",
       "<style scoped>\n",
       "    .dataframe tbody tr th:only-of-type {\n",
       "        vertical-align: middle;\n",
       "    }\n",
       "\n",
       "    .dataframe tbody tr th {\n",
       "        vertical-align: top;\n",
       "    }\n",
       "\n",
       "    .dataframe thead th {\n",
       "        text-align: right;\n",
       "    }\n",
       "</style>\n",
       "<table border=\"1\" class=\"dataframe\">\n",
       "  <thead>\n",
       "    <tr style=\"text-align: right;\">\n",
       "      <th></th>\n",
       "      <th>chunks</th>\n",
       "      <th>url</th>\n",
       "    </tr>\n",
       "  </thead>\n",
       "  <tbody>\n",
       "    <tr>\n",
       "      <th>0</th>\n",
       "      <td>uttarkashi tunnel collapse ndrf team enters tu...</td>\n",
       "      <td>https://www.livemint.com/news/india/uttarkashi...</td>\n",
       "    </tr>\n",
       "    <tr>\n",
       "      <th>1</th>\n",
       "      <td>explore sign in epaper subscribe thursday 11 j...</td>\n",
       "      <td>https://www.livemint.com/news/india/uttarkashi...</td>\n",
       "    </tr>\n",
       "    <tr>\n",
       "      <th>2</th>\n",
       "      <td>top sections news india news world news econom...</td>\n",
       "      <td>https://www.livemint.com/news/india/uttarkashi...</td>\n",
       "    </tr>\n",
       "    <tr>\n",
       "      <th>3</th>\n",
       "      <td>a opinion markets stock markets commodity news...</td>\n",
       "      <td>https://www.livemint.com/news/india/uttarkashi...</td>\n",
       "    </tr>\n",
       "    <tr>\n",
       "      <th>4</th>\n",
       "      <td>multimedia collections videos webstories photo...</td>\n",
       "      <td>https://www.livemint.com/news/india/uttarkashi...</td>\n",
       "    </tr>\n",
       "    <tr>\n",
       "      <th>6</th>\n",
       "      <td>gainers losers top gainers top losers indusind...</td>\n",
       "      <td>https://www.livemint.com/news/india/uttarkashi...</td>\n",
       "    </tr>\n",
       "    <tr>\n",
       "      <th>7</th>\n",
       "      <td>back share via uttarkashi tunnel collapse ndrf...</td>\n",
       "      <td>https://www.livemint.com/news/india/uttarkashi...</td>\n",
       "    </tr>\n",
       "    <tr>\n",
       "      <th>8</th>\n",
       "      <td>here are the top ten updates on the uttarkashi...</td>\n",
       "      <td>https://www.livemint.com/news/india/uttarkashi...</td>\n",
       "    </tr>\n",
       "    <tr>\n",
       "      <th>9</th>\n",
       "      <td>3 the dedicated freight corridor corporation o...</td>\n",
       "      <td>https://www.livemint.com/news/india/uttarkashi...</td>\n",
       "    </tr>\n",
       "    <tr>\n",
       "      <th>10</th>\n",
       "      <td>5 after conversing with the workers their fami...</td>\n",
       "      <td>https://www.livemint.com/news/india/uttarkashi...</td>\n",
       "    </tr>\n",
       "    <tr>\n",
       "      <th>11</th>\n",
       "      <td>the incident is not the first in uttarakhand s...</td>\n",
       "      <td>https://www.livemint.com/news/india/uttarkashi...</td>\n",
       "    </tr>\n",
       "    <tr>\n",
       "      <th>12</th>\n",
       "      <td>jharkhand labour minister satyanand bhokta sta...</td>\n",
       "      <td>https://www.livemint.com/news/india/uttarkashi...</td>\n",
       "    </tr>\n",
       "    <tr>\n",
       "      <th>13</th>\n",
       "      <td>milestone alert livemint tops charts as the fa...</td>\n",
       "      <td>https://www.livemint.com/news/india/uttarkashi...</td>\n",
       "    </tr>\n",
       "    <tr>\n",
       "      <th>14</th>\n",
       "      <td>unlock a world of benefits from insightful new...</td>\n",
       "      <td>https://www.livemint.com/news/india/uttarkashi...</td>\n",
       "    </tr>\n",
       "    <tr>\n",
       "      <th>15</th>\n",
       "      <td>catch all the business news market news breaki...</td>\n",
       "      <td>https://www.livemint.com/news/india/uttarkashi...</td>\n",
       "    </tr>\n",
       "    <tr>\n",
       "      <th>16</th>\n",
       "      <td>connect with us trending stories sensex today ...</td>\n",
       "      <td>https://www.livemint.com/news/india/uttarkashi...</td>\n",
       "    </tr>\n",
       "    <tr>\n",
       "      <th>17</th>\n",
       "      <td>000 best asus gaming laptop indian stock marke...</td>\n",
       "      <td>https://www.livemint.com/news/india/uttarkashi...</td>\n",
       "    </tr>\n",
       "    <tr>\n",
       "      <th>18</th>\n",
       "      <td>maldives row dunki box office collection day s...</td>\n",
       "      <td>https://www.livemint.com/news/india/uttarkashi...</td>\n",
       "    </tr>\n",
       "    <tr>\n",
       "      <th>19</th>\n",
       "      <td>hul share price indian oil share price spiceje...</td>\n",
       "      <td>https://www.livemint.com/news/india/uttarkashi...</td>\n",
       "    </tr>\n",
       "    <tr>\n",
       "      <th>20</th>\n",
       "      <td>toubro share price tata consumer share price g...</td>\n",
       "      <td>https://www.livemint.com/news/india/uttarkashi...</td>\n",
       "    </tr>\n",
       "    <tr>\n",
       "      <th>21</th>\n",
       "      <td>awards 2024 begins check link to watch online ...</td>\n",
       "      <td>https://www.livemint.com/news/india/uttarkashi...</td>\n",
       "    </tr>\n",
       "    <tr>\n",
       "      <th>22</th>\n",
       "      <td>45</td>\n",
       "      <td>https://www.livemint.com/news/india/uttarkashi...</td>\n",
       "    </tr>\n",
       "    <tr>\n",
       "      <th>23</th>\n",
       "      <td>ytd pharma market growth catches up in decembe...</td>\n",
       "      <td>https://www.livemint.com/news/india/uttarkashi...</td>\n",
       "    </tr>\n",
       "    <tr>\n",
       "      <th>24</th>\n",
       "      <td>tourbo share price mahindra mahindra share pri...</td>\n",
       "      <td>https://www.livemint.com/news/india/uttarkashi...</td>\n",
       "    </tr>\n",
       "    <tr>\n",
       "      <th>25</th>\n",
       "      <td>no networkserver issueinternet not availablewa...</td>\n",
       "      <td>https://www.livemint.com/news/india/uttarkashi...</td>\n",
       "    </tr>\n",
       "    <tr>\n",
       "      <th>26</th>\n",
       "      <td>covid cases in kerala centre calls health meet...</td>\n",
       "      <td>https://timesofindia.indiatimes.com/city/kochi...</td>\n",
       "    </tr>\n",
       "    <tr>\n",
       "      <th>27</th>\n",
       "      <td>10 deaths this monthtrendingcovid cases in ind...</td>\n",
       "      <td>https://timesofindia.indiatimes.com/city/kochi...</td>\n",
       "    </tr>\n",
       "    <tr>\n",
       "      <th>28</th>\n",
       "      <td>text sizesmallmediumlargefollow us image used ...</td>\n",
       "      <td>https://timesofindia.indiatimes.com/city/kochi...</td>\n",
       "    </tr>\n",
       "    <tr>\n",
       "      <th>29</th>\n",
       "      <td>kerala is witnessing a rise in covid cases as ...</td>\n",
       "      <td>https://timesofindia.indiatimes.com/city/kochi...</td>\n",
       "    </tr>\n",
       "    <tr>\n",
       "      <th>30</th>\n",
       "      <td>covid states told to increase rtpcr teststhe h...</td>\n",
       "      <td>https://timesofindia.indiatimes.com/city/kochi...</td>\n",
       "    </tr>\n",
       "    <tr>\n",
       "      <th>31</th>\n",
       "      <td>jn1 variant has also been reported in the usa ...</td>\n",
       "      <td>https://timesofindia.indiatimes.com/city/kochi...</td>\n",
       "    </tr>\n",
       "    <tr>\n",
       "      <th>32</th>\n",
       "      <td>according to the government there is no indica...</td>\n",
       "      <td>https://timesofindia.indiatimes.com/city/kochi...</td>\n",
       "    </tr>\n",
       "    <tr>\n",
       "      <th>33</th>\n",
       "      <td>follow us on social media visual stories previ...</td>\n",
       "      <td>https://timesofindia.indiatimes.com/city/kochi...</td>\n",
       "    </tr>\n",
       "    <tr>\n",
       "      <th>34</th>\n",
       "      <td>travel10 interesting activities to help your k...</td>\n",
       "      <td>https://timesofindia.indiatimes.com/city/kochi...</td>\n",
       "    </tr>\n",
       "    <tr>\n",
       "      <th>35</th>\n",
       "      <td>karnataka on high alert after zika virus found...</td>\n",
       "      <td>https://timesofindia.indiatimes.com/city/kochi...</td>\n",
       "    </tr>\n",
       "    <tr>\n",
       "      <th>36</th>\n",
       "      <td>from lebanon to the red sea a broader conflict...</td>\n",
       "      <td>https://timesofindia.indiatimes.com/city/kochi...</td>\n",
       "    </tr>\n",
       "    <tr>\n",
       "      <th>37</th>\n",
       "      <td>fitness tipsindian tv showscelebrity photoshot...</td>\n",
       "      <td>https://timesofindia.indiatimes.com/city/kochi...</td>\n",
       "    </tr>\n",
       "    <tr>\n",
       "      <th>38</th>\n",
       "      <td>comfilmfaretvlifestylelongwalks appnewspaper s...</td>\n",
       "      <td>https://timesofindia.indiatimes.com/city/kochi...</td>\n",
       "    </tr>\n",
       "  </tbody>\n",
       "</table>\n",
       "</div>"
      ],
      "text/plain": [
       "                                               chunks  \\\n",
       "0   uttarkashi tunnel collapse ndrf team enters tu...   \n",
       "1   explore sign in epaper subscribe thursday 11 j...   \n",
       "2   top sections news india news world news econom...   \n",
       "3   a opinion markets stock markets commodity news...   \n",
       "4   multimedia collections videos webstories photo...   \n",
       "6   gainers losers top gainers top losers indusind...   \n",
       "7   back share via uttarkashi tunnel collapse ndrf...   \n",
       "8   here are the top ten updates on the uttarkashi...   \n",
       "9   3 the dedicated freight corridor corporation o...   \n",
       "10  5 after conversing with the workers their fami...   \n",
       "11  the incident is not the first in uttarakhand s...   \n",
       "12  jharkhand labour minister satyanand bhokta sta...   \n",
       "13  milestone alert livemint tops charts as the fa...   \n",
       "14  unlock a world of benefits from insightful new...   \n",
       "15  catch all the business news market news breaki...   \n",
       "16  connect with us trending stories sensex today ...   \n",
       "17  000 best asus gaming laptop indian stock marke...   \n",
       "18  maldives row dunki box office collection day s...   \n",
       "19  hul share price indian oil share price spiceje...   \n",
       "20  toubro share price tata consumer share price g...   \n",
       "21  awards 2024 begins check link to watch online ...   \n",
       "22                                                 45   \n",
       "23  ytd pharma market growth catches up in decembe...   \n",
       "24  tourbo share price mahindra mahindra share pri...   \n",
       "25  no networkserver issueinternet not availablewa...   \n",
       "26  covid cases in kerala centre calls health meet...   \n",
       "27  10 deaths this monthtrendingcovid cases in ind...   \n",
       "28  text sizesmallmediumlargefollow us image used ...   \n",
       "29  kerala is witnessing a rise in covid cases as ...   \n",
       "30  covid states told to increase rtpcr teststhe h...   \n",
       "31  jn1 variant has also been reported in the usa ...   \n",
       "32  according to the government there is no indica...   \n",
       "33  follow us on social media visual stories previ...   \n",
       "34  travel10 interesting activities to help your k...   \n",
       "35  karnataka on high alert after zika virus found...   \n",
       "36  from lebanon to the red sea a broader conflict...   \n",
       "37  fitness tipsindian tv showscelebrity photoshot...   \n",
       "38  comfilmfaretvlifestylelongwalks appnewspaper s...   \n",
       "\n",
       "                                                  url  \n",
       "0   https://www.livemint.com/news/india/uttarkashi...  \n",
       "1   https://www.livemint.com/news/india/uttarkashi...  \n",
       "2   https://www.livemint.com/news/india/uttarkashi...  \n",
       "3   https://www.livemint.com/news/india/uttarkashi...  \n",
       "4   https://www.livemint.com/news/india/uttarkashi...  \n",
       "6   https://www.livemint.com/news/india/uttarkashi...  \n",
       "7   https://www.livemint.com/news/india/uttarkashi...  \n",
       "8   https://www.livemint.com/news/india/uttarkashi...  \n",
       "9   https://www.livemint.com/news/india/uttarkashi...  \n",
       "10  https://www.livemint.com/news/india/uttarkashi...  \n",
       "11  https://www.livemint.com/news/india/uttarkashi...  \n",
       "12  https://www.livemint.com/news/india/uttarkashi...  \n",
       "13  https://www.livemint.com/news/india/uttarkashi...  \n",
       "14  https://www.livemint.com/news/india/uttarkashi...  \n",
       "15  https://www.livemint.com/news/india/uttarkashi...  \n",
       "16  https://www.livemint.com/news/india/uttarkashi...  \n",
       "17  https://www.livemint.com/news/india/uttarkashi...  \n",
       "18  https://www.livemint.com/news/india/uttarkashi...  \n",
       "19  https://www.livemint.com/news/india/uttarkashi...  \n",
       "20  https://www.livemint.com/news/india/uttarkashi...  \n",
       "21  https://www.livemint.com/news/india/uttarkashi...  \n",
       "22  https://www.livemint.com/news/india/uttarkashi...  \n",
       "23  https://www.livemint.com/news/india/uttarkashi...  \n",
       "24  https://www.livemint.com/news/india/uttarkashi...  \n",
       "25  https://www.livemint.com/news/india/uttarkashi...  \n",
       "26  https://timesofindia.indiatimes.com/city/kochi...  \n",
       "27  https://timesofindia.indiatimes.com/city/kochi...  \n",
       "28  https://timesofindia.indiatimes.com/city/kochi...  \n",
       "29  https://timesofindia.indiatimes.com/city/kochi...  \n",
       "30  https://timesofindia.indiatimes.com/city/kochi...  \n",
       "31  https://timesofindia.indiatimes.com/city/kochi...  \n",
       "32  https://timesofindia.indiatimes.com/city/kochi...  \n",
       "33  https://timesofindia.indiatimes.com/city/kochi...  \n",
       "34  https://timesofindia.indiatimes.com/city/kochi...  \n",
       "35  https://timesofindia.indiatimes.com/city/kochi...  \n",
       "36  https://timesofindia.indiatimes.com/city/kochi...  \n",
       "37  https://timesofindia.indiatimes.com/city/kochi...  \n",
       "38  https://timesofindia.indiatimes.com/city/kochi...  "
      ]
     },
     "execution_count": 19,
     "metadata": {},
     "output_type": "execute_result"
    }
   ],
   "source": [
    "csv_data.dropna()"
   ]
  },
  {
   "cell_type": "code",
   "execution_count": 20,
   "id": "a5d902ee",
   "metadata": {},
   "outputs": [],
   "source": [
    "from langchain.document_loaders.csv_loader import CSVLoader"
   ]
  },
  {
   "cell_type": "code",
   "execution_count": 21,
   "id": "845a8388",
   "metadata": {},
   "outputs": [],
   "source": [
    "loader=CSVLoader(file_path=csv_path, source_column='chunks')"
   ]
  },
  {
   "cell_type": "code",
   "execution_count": 22,
   "id": "673493e7",
   "metadata": {},
   "outputs": [],
   "source": [
    "data=loader.load()"
   ]
  },
  {
   "cell_type": "code",
   "execution_count": 23,
   "id": "62953b5f",
   "metadata": {
    "scrolled": false
   },
   "outputs": [
    {
     "data": {
      "text/plain": [
       "[Document(page_content='chunks: uttarkashi tunnel collapse ndrf team enters tunnel to save 41 trapped workers with ambulances on standby 10 updates mint\\nurl: https://www.livemint.com/news/india/uttarkashi-tunnel-collapse-silkyara-ndrf-deploys-team-rescue-mission-41-workers-top-10-updates-pushkar-singh-dhami-11700703183514.html', metadata={'source': 'uttarkashi tunnel collapse ndrf team enters tunnel to save 41 trapped workers with ambulances on standby 10 updates mint', 'row': 0}),\n",
       " Document(page_content='chunks: explore sign in epaper subscribe thursday 11 january 2024 stocks mutual funds news home budget2024 news markets premium money mutual fund industry companies technology web stories opinion videos all companies technology markets money mutual funds insurance auto industry personal finance hello user sign in sign out my account my account subscribe my watchlist newsletters notifications my reads for you view less view more data insights market dashboard bullion gold silver fuel petrol diesel commodities gold goldm aluminum menthaoil silver silvermic goldpetal natural gas copper zinc silverm crudeoil goldginuea lead cryptocurrencies view less view more\\nurl: https://www.livemint.com/news/india/uttarkashi-tunnel-collapse-silkyara-ndrf-deploys-team-rescue-mission-41-workers-top-10-updates-pushkar-singh-dhami-11700703183514.html', metadata={'source': 'explore sign in epaper subscribe thursday 11 january 2024 stocks mutual funds news home budget2024 news markets premium money mutual fund industry companies technology web stories opinion videos all companies technology markets money mutual funds insurance auto industry personal finance hello user sign in sign out my account my account subscribe my watchlist newsletters notifications my reads for you view less view more data insights market dashboard bullion gold silver fuel petrol diesel commodities gold goldm aluminum menthaoil silver silvermic goldpetal natural gas copper zinc silverm crudeoil goldginuea lead cryptocurrencies view less view more', 'row': 1}),\n",
       " Document(page_content='chunks: top sections news india news world news economy companies ipo news startups company results top company leader money personal finance q\\nurl: https://www.livemint.com/news/india/uttarkashi-tunnel-collapse-silkyara-ndrf-deploys-team-rescue-mission-41-workers-top-10-updates-pushkar-singh-dhami-11700703183514.html', metadata={'source': 'top sections news india news world news economy companies ipo news startups company results top company leader money personal finance q', 'row': 2}),\n",
       " Document(page_content='chunks: a opinion markets stock markets commodity news mark to market ipo news live blog elections 2024 assembly elections 2023 industry banking news infotech news infrastructure agriculture manufacturing energy news retail news auto news sports opinion views columns technology gadgets tech reviews app news lounge politics education sports view less view more premium offerings epaper wsj economist mint premium view less view more tools and calculators ifsc code finder income tax calculator sip calculator emi calculator home loan emi calculator car loan emi nps calculator view less view more multimedia collections videos webstories photo gallery podcasts view less view more\\nurl: https://www.livemint.com/news/india/uttarkashi-tunnel-collapse-silkyara-ndrf-deploys-team-rescue-mission-41-workers-top-10-updates-pushkar-singh-dhami-11700703183514.html', metadata={'source': 'a opinion markets stock markets commodity news mark to market ipo news live blog elections 2024 assembly elections 2023 industry banking news infotech news infrastructure agriculture manufacturing energy news retail news auto news sports opinion views columns technology gadgets tech reviews app news lounge politics education sports view less view more premium offerings epaper wsj economist mint premium view less view more tools and calculators ifsc code finder income tax calculator sip calculator emi calculator home loan emi calculator car loan emi nps calculator view less view more multimedia collections videos webstories photo gallery podcasts view less view more', 'row': 3}),\n",
       " Document(page_content='chunks: multimedia collections videos webstories photo gallery podcasts view less view more more from mint mint genie explore mint about us print subscription mint authors terms of use disclaimer mint code code of ethics cookie policy privacy policy subscriber terms of use sitemap contact us mint apps view less view more copyright  ht digital streams limited all rights reserved\\nurl: https://www.livemint.com/news/india/uttarkashi-tunnel-collapse-silkyara-ndrf-deploys-team-rescue-mission-41-workers-top-10-updates-pushkar-singh-dhami-11700703183514.html', metadata={'source': 'multimedia collections videos webstories photo gallery podcasts view less view more more from mint mint genie explore mint about us print subscription mint authors terms of use disclaimer mint code code of ethics cookie policy privacy policy subscriber terms of use sitemap contact us mint apps view less view more copyright  ht digital streams limited all rights reserved', 'row': 4}),\n",
       " Document(page_content='chunks: \\nurl: https://www.livemint.com/news/india/uttarkashi-tunnel-collapse-silkyara-ndrf-deploys-team-rescue-mission-41-workers-top-10-updates-pushkar-singh-dhami-11700703183514.html', metadata={'source': '', 'row': 5}),\n",
       " Document(page_content='chunks: gainers losers top gainers top losers indusind bank share price 166450144 tech mahindra share price 125675126 power grid corporation of india share price 24185119 tata consultancy services share price 375455110 axis bank share price 111930108 infosys share price 150480098 ultratech cement share price 972740051 nestle india share price 256485050 larsen toubro share price 353215042 icici bank share price 98915039 active stocks thu jan 11 2024 105452 tata steel share price 13485 056 tech mahindra share price 125435 106 tata motors share price 81520 086 ntpc share price 31600 085 wipro share price 45215 037 business news news india uttarkashi tunnel collapse ndrf team enters tunnel to save 41 trapped workers with ambulances on standby 10 updates back share via\\nurl: https://www.livemint.com/news/india/uttarkashi-tunnel-collapse-silkyara-ndrf-deploys-team-rescue-mission-41-workers-top-10-updates-pushkar-singh-dhami-11700703183514.html', metadata={'source': 'gainers losers top gainers top losers indusind bank share price 166450144 tech mahindra share price 125675126 power grid corporation of india share price 24185119 tata consultancy services share price 375455110 axis bank share price 111930108 infosys share price 150480098 ultratech cement share price 972740051 nestle india share price 256485050 larsen toubro share price 353215042 icici bank share price 98915039 active stocks thu jan 11 2024 105452 tata steel share price 13485 056 tech mahindra share price 125435 106 tata motors share price 81520 086 ntpc share price 31600 085 wipro share price 45215 037 business news news india uttarkashi tunnel collapse ndrf team enters tunnel to save 41 trapped workers with ambulances on standby 10 updates back share via', 'row': 6}),\n",
       " Document(page_content='chunks: back share via uttarkashi tunnel collapse ndrf team enters tunnel to save 41 trapped workers with ambulances on standby 10 updates 3 min read 23 nov 2023 0743 am ist join us livemint jharkhand cm voices concern over delayed evacuation of workers in the collapsed tunnel citing previous incidents in uttarakhand premium uttarkashi nov 22 ani ndrf personnel at the site to enter the silkyara tunnel during the operation to rescue 41 trapped workers in uttarkashi on wednesday ani photo cmo uttarakhand x read full story a 15member ndrf team led by a commandant has been assigned the mission of rescuing 41 labourers trapped for the past 10 days in the collapsed silkyara tunnel in uttarkashi here are the top ten updates on the uttarkashi tunnel collapse\\nurl: https://www.livemint.com/news/india/uttarkashi-tunnel-collapse-silkyara-ndrf-deploys-team-rescue-mission-41-workers-top-10-updates-pushkar-singh-dhami-11700703183514.html', metadata={'source': 'back share via uttarkashi tunnel collapse ndrf team enters tunnel to save 41 trapped workers with ambulances on standby 10 updates 3 min read 23 nov 2023 0743 am ist join us livemint jharkhand cm voices concern over delayed evacuation of workers in the collapsed tunnel citing previous incidents in uttarakhand premium uttarkashi nov 22 ani ndrf personnel at the site to enter the silkyara tunnel during the operation to rescue 41 trapped workers in uttarkashi on wednesday ani photo cmo uttarakhand x read full story a 15member ndrf team led by a commandant has been assigned the mission of rescuing 41 labourers trapped for the past 10 days in the collapsed silkyara tunnel in uttarkashi here are the top ten updates on the uttarkashi tunnel collapse', 'row': 7}),\n",
       " Document(page_content='chunks: here are the top ten updates on the uttarkashi tunnel collapse 1 the evacuation process utilizing a series of 800 mm diameter steel pipes has presented a significant challenge for the rescue efforts ndrf personnel have simulated a drill to demonstrate their approach for traversing through the pipes to reach the other side of the debris where the trapped labourers are located ndrf secondincommand 2 ic ravi shankar badhani told pti also read uttarkashi tunnel collapse news live update silkyara rescue operation now in final stages says official 2 medical professionals have been stationed within the tunnel and ambulances are positioned outside to ensure the safe transfer of the rescued individuals the ambulances will convey the workers to a hospital established in chinyalisaur approximately 30 kilometres from the tunnel location\\nurl: https://www.livemint.com/news/india/uttarkashi-tunnel-collapse-silkyara-ndrf-deploys-team-rescue-mission-41-workers-top-10-updates-pushkar-singh-dhami-11700703183514.html', metadata={'source': 'here are the top ten updates on the uttarkashi tunnel collapse 1 the evacuation process utilizing a series of 800 mm diameter steel pipes has presented a significant challenge for the rescue efforts ndrf personnel have simulated a drill to demonstrate their approach for traversing through the pipes to reach the other side of the debris where the trapped labourers are located ndrf secondincommand 2 ic ravi shankar badhani told pti also read uttarkashi tunnel collapse news live update silkyara rescue operation now in final stages says official 2 medical professionals have been stationed within the tunnel and ambulances are positioned outside to ensure the safe transfer of the rescued individuals the ambulances will convey the workers to a hospital established in chinyalisaur approximately 30 kilometres from the tunnel location', 'row': 8}),\n",
       " Document(page_content='chunks: 3 the dedicated freight corridor corporation of india limited dfccil and indian railways ir have collaborated to operate a special train transporting equipment from karambeli in gujarat to rishikesh in uttarakhand covering a distance of 1605 km this initiative aims to support the rescue efforts for the trapped workers in the uttarkashi tunnel collapse incident also read after the collapse of the uttarkashi tunnel nhai to inspect all underconstruction tunnels across india 4 on wednesday a 41bed hospital was established at the chinyalisaur community health centre in the district to provide medical care for the 41 trapped laborers once they are rescued from the silkyara tunnel additionally a temporary hospital with eight beds has been arranged at the location to offer immediate medical attention to the trapped workers if necessary pti reported\\nurl: https://www.livemint.com/news/india/uttarkashi-tunnel-collapse-silkyara-ndrf-deploys-team-rescue-mission-41-workers-top-10-updates-pushkar-singh-dhami-11700703183514.html', metadata={'source': '3 the dedicated freight corridor corporation of india limited dfccil and indian railways ir have collaborated to operate a special train transporting equipment from karambeli in gujarat to rishikesh in uttarakhand covering a distance of 1605 km this initiative aims to support the rescue efforts for the trapped workers in the uttarkashi tunnel collapse incident also read after the collapse of the uttarkashi tunnel nhai to inspect all underconstruction tunnels across india 4 on wednesday a 41bed hospital was established at the chinyalisaur community health centre in the district to provide medical care for the 41 trapped laborers once they are rescued from the silkyara tunnel additionally a temporary hospital with eight beds has been arranged at the location to offer immediate medical attention to the trapped workers if necessary pti reported', 'row': 9}),\n",
       " Document(page_content='chunks: 5 after conversing with the workers their family members expressed optimism anticipating that the anxious wait would ultimately lead to a heartwarming reunion with their loved ones we called him on diwali but could not reach him his colleagues told us that his mobile phone had been damaged later we saw his name in the newspaper and learnt that he was trapped inside the tunnel he told pti also read uttarkashi tunnel collapse good news in next 40 hrs if say officials 6 jharkhand chief minister hemant soren voiced concern on wednesday regarding the delayed evacuation of workers from the underconstruction silkyara tunnel in uttarakhand 7 ten days have passed since the collapse in the tunnel but there is no surety when the workers who are trapped will come out soren said the incident is not the first in uttarakhand such occurrences had taken place in previous years too and several workers from jharkhand had lost their lives jharkhand cm added\\nurl: https://www.livemint.com/news/india/uttarkashi-tunnel-collapse-silkyara-ndrf-deploys-team-rescue-mission-41-workers-top-10-updates-pushkar-singh-dhami-11700703183514.html', metadata={'source': '5 after conversing with the workers their family members expressed optimism anticipating that the anxious wait would ultimately lead to a heartwarming reunion with their loved ones we called him on diwali but could not reach him his colleagues told us that his mobile phone had been damaged later we saw his name in the newspaper and learnt that he was trapped inside the tunnel he told pti also read uttarkashi tunnel collapse good news in next 40 hrs if say officials 6 jharkhand chief minister hemant soren voiced concern on wednesday regarding the delayed evacuation of workers from the underconstruction silkyara tunnel in uttarakhand 7 ten days have passed since the collapse in the tunnel but there is no surety when the workers who are trapped will come out soren said the incident is not the first in uttarakhand such occurrences had taken place in previous years too and several workers from jharkhand had lost their lives jharkhand cm added', 'row': 10}),\n",
       " Document(page_content='chunks: the incident is not the first in uttarakhand such occurrences had taken place in previous years too and several workers from jharkhand had lost their lives jharkhand cm added also read watch first visuals of uttarkashi tunnel rescue come up 8 the jharkhand government is making arrangements to airlift all 15 workers hailing from the state who are currently trapped in the silkyara tunnel in uttarkashi uttarakhand among the total of 41 workers stuck inside the collapsed tunnel 15 individuals are from giridih ranchi east singhbhum and khunti districts of jharkhand also read uttarkashi tunnel collapse highlights 6inch pipe pushed through rubble iaf airlifts another 36 tonne of equipment 9 jharkhand labour minister satyanand bhokta stated that the department is actively communicating with the families of the 15 labourers from jharkhand who are stuck at the collapse site\\nurl: https://www.livemint.com/news/india/uttarkashi-tunnel-collapse-silkyara-ndrf-deploys-team-rescue-mission-41-workers-top-10-updates-pushkar-singh-dhami-11700703183514.html', metadata={'source': 'the incident is not the first in uttarakhand such occurrences had taken place in previous years too and several workers from jharkhand had lost their lives jharkhand cm added also read watch first visuals of uttarkashi tunnel rescue come up 8 the jharkhand government is making arrangements to airlift all 15 workers hailing from the state who are currently trapped in the silkyara tunnel in uttarkashi uttarakhand among the total of 41 workers stuck inside the collapsed tunnel 15 individuals are from giridih ranchi east singhbhum and khunti districts of jharkhand also read uttarkashi tunnel collapse highlights 6inch pipe pushed through rubble iaf airlifts another 36 tonne of equipment 9 jharkhand labour minister satyanand bhokta stated that the department is actively communicating with the families of the 15 labourers from jharkhand who are stuck at the collapse site', 'row': 11}),\n",
       " Document(page_content='chunks: jharkhand labour minister satyanand bhokta stated that the department is actively communicating with the families of the 15 labourers from jharkhand who are stuck at the collapse site the jharkhand government is willing to bear the entire expense of bringing the workers to jharkhand from uttarkashi after they are rescued he told reporters 10 bhaskar khulbe former advisor to the prime ministers office announced on wednesday that activities for the upcoming phase will commence in the next two hours as reported by ani khulbe who is also the special executive officer in the uttarakhand tourism department said i am very happy to tell you that with the work we were doing for the last hour we have drilled another 6meter length with an american oger machine i am hopeful that in the next 2 hours work will start for the next phase with inputs from agencies\\nurl: https://www.livemint.com/news/india/uttarkashi-tunnel-collapse-silkyara-ndrf-deploys-team-rescue-mission-41-workers-top-10-updates-pushkar-singh-dhami-11700703183514.html', metadata={'source': 'jharkhand labour minister satyanand bhokta stated that the department is actively communicating with the families of the 15 labourers from jharkhand who are stuck at the collapse site the jharkhand government is willing to bear the entire expense of bringing the workers to jharkhand from uttarkashi after they are rescued he told reporters 10 bhaskar khulbe former advisor to the prime ministers office announced on wednesday that activities for the upcoming phase will commence in the next two hours as reported by ani khulbe who is also the special executive officer in the uttarakhand tourism department said i am very happy to tell you that with the work we were doing for the last hour we have drilled another 6meter length with an american oger machine i am hopeful that in the next 2 hours work will start for the next phase with inputs from agencies', 'row': 12}),\n",
       " Document(page_content='chunks: milestone alert livemint tops charts as the fastest growing news website in the world  click here to know more\\nurl: https://www.livemint.com/news/india/uttarkashi-tunnel-collapse-silkyara-ndrf-deploys-team-rescue-mission-41-workers-top-10-updates-pushkar-singh-dhami-11700703183514.html', metadata={'source': 'milestone alert livemint tops charts as the fastest growing news website in the world  click here to know more', 'row': 13}),\n",
       " Document(page_content='chunks: unlock a world of benefits from insightful newsletters to realtime stock tracking breaking news and a personalized newsfeed  its all here just a click away login now related premium stories mint explainer how have regulators and airlines responded to the boeing crisis moving to gift city check office space first mint primer what an india club means for the countrys shipping industry can ridehailing drive more women into indias labour force soil from landfills to build highways govt mulls easing norms to boost rooftop solar opposition yet to discover means for a fightback smartphones see a muted 23 this year may be better steel imports are rising but india is not worried ujjwala subsidies may shine bright in next fiscal year as well explore premium\\nurl: https://www.livemint.com/news/india/uttarkashi-tunnel-collapse-silkyara-ndrf-deploys-team-rescue-mission-41-workers-top-10-updates-pushkar-singh-dhami-11700703183514.html', metadata={'source': 'unlock a world of benefits from insightful newsletters to realtime stock tracking breaking news and a personalized newsfeed  its all here just a click away login now related premium stories mint explainer how have regulators and airlines responded to the boeing crisis moving to gift city check office space first mint primer what an india club means for the countrys shipping industry can ridehailing drive more women into indias labour force soil from landfills to build highways govt mulls easing norms to boost rooftop solar opposition yet to discover means for a fightback smartphones see a muted 23 this year may be better steel imports are rising but india is not worried ujjwala subsidies may shine bright in next fiscal year as well explore premium', 'row': 14}),\n",
       " Document(page_content='chunks: catch all the business news market news breaking news events and latest news updates on live mint check all the latest action on budget 2024 here download the mint news app to get daily market updates more less published 23 nov 2023 0743 am ist topics you may be interested in uttarkashi tunnel collapse jharkhand cm hemant soren trapped workers families silkyara news ranchi east singhbhum uttarkashi biha uttarakhand tourism department prime ministers office satyanand bhokta open in app next story recommended for you feedback select your category query suggestion your message\\nurl: https://www.livemint.com/news/india/uttarkashi-tunnel-collapse-silkyara-ndrf-deploys-team-rescue-mission-41-workers-top-10-updates-pushkar-singh-dhami-11700703183514.html', metadata={'source': 'catch all the business news market news breaking news events and latest news updates on live mint check all the latest action on budget 2024 here download the mint news app to get daily market updates more less published 23 nov 2023 0743 am ist topics you may be interested in uttarkashi tunnel collapse jharkhand cm hemant soren trapped workers families silkyara news ranchi east singhbhum uttarkashi biha uttarakhand tourism department prime ministers office satyanand bhokta open in app next story recommended for you feedback select your category query suggestion your message', 'row': 15}),\n",
       " Document(page_content='chunks: connect with us trending stories sensex today infosys q3 results live tcs q3 results live day trading guide bfsi summit and awards live budget 2024 expectations nifty 50 budget 2024 bank holidays 2024 upcoming ipo 2024 bse q3 results 2023 best air purifier best water purifier best gaming monitor best mini dehumidifiers best room heater best geyser in india best dyson air purifier best laptop under 60\\nurl: https://www.livemint.com/news/india/uttarkashi-tunnel-collapse-silkyara-ndrf-deploys-team-rescue-mission-41-workers-top-10-updates-pushkar-singh-dhami-11700703183514.html', metadata={'source': 'connect with us trending stories sensex today infosys q3 results live tcs q3 results live day trading guide bfsi summit and awards live budget 2024 expectations nifty 50 budget 2024 bank holidays 2024 upcoming ipo 2024 bse q3 results 2023 best air purifier best water purifier best gaming monitor best mini dehumidifiers best room heater best geyser in india best dyson air purifier best laptop under 60', 'row': 16}),\n",
       " Document(page_content='chunks: 000 best asus gaming laptop indian stock market bank holidays january 2024 5 smartphones to buy under 10k india\\nurl: https://www.livemint.com/news/india/uttarkashi-tunnel-collapse-silkyara-ndrf-deploys-team-rescue-mission-41-workers-top-10-updates-pushkar-singh-dhami-11700703183514.html', metadata={'source': '000 best asus gaming laptop indian stock market bank holidays january 2024 5 smartphones to buy under 10k india', 'row': 17}),\n",
       " Document(page_content='chunks: maldives row dunki box office collection day skydance media ceo suchana seth case bank fd rate hike cold wave mthl inauguration bitcoin price rises q3 results today data pages quarterly results calendar petrol prices diesel prices mcx gold price election results 2024 assembly election results 2024 mcx silver price gold price silver price nse top gainers nse top losers bse top gainers bse top losers upcoming ipos bank holidays 2024 tcs q3 results infosys q3 results upcoming ipo 2024 bse q3 results 2023 popular stocks jsw infrastructure share price manoj vaibhav gems jewellers share price ems share price r r kabel share price concord biotech share price idbi bank share price yes bank share price infosys share price patanjali share price adani power share price tata steel share price hul share price indian oil share price spicejet share price tcs share price asian paints share price hdfc bank share price zaggle share price samhi hotels share price tata power share price reliance\\nurl: https://www.livemint.com/news/india/uttarkashi-tunnel-collapse-silkyara-ndrf-deploys-team-rescue-mission-41-workers-top-10-updates-pushkar-singh-dhami-11700703183514.html', metadata={'source': 'maldives row dunki box office collection day skydance media ceo suchana seth case bank fd rate hike cold wave mthl inauguration bitcoin price rises q3 results today data pages quarterly results calendar petrol prices diesel prices mcx gold price election results 2024 assembly election results 2024 mcx silver price gold price silver price nse top gainers nse top losers bse top gainers bse top losers upcoming ipos bank holidays 2024 tcs q3 results infosys q3 results upcoming ipo 2024 bse q3 results 2023 popular stocks jsw infrastructure share price manoj vaibhav gems jewellers share price ems share price r r kabel share price concord biotech share price idbi bank share price yes bank share price infosys share price patanjali share price adani power share price tata steel share price hul share price indian oil share price spicejet share price tcs share price asian paints share price hdfc bank share price zaggle share price samhi hotels share price tata power share price reliance', 'row': 18}),\n",
       " Document(page_content='chunks: hul share price indian oil share price spicejet share price tcs share price asian paints share price hdfc bank share price zaggle share price samhi hotels share price tata power share price reliance share price adani enterprises share price itc share price icici bank share price vedanta share price jio financial services share price jsw steel share price nhpc share price paytm share price kotak mahindra share price torrent pharmaceuticals share price tech mahindra share price axis bank share price punjab national bank share price canara bank share price vodafone idea share price acc share price adani green energy share price tvs motor share price larsen\\nurl: https://www.livemint.com/news/india/uttarkashi-tunnel-collapse-silkyara-ndrf-deploys-team-rescue-mission-41-workers-top-10-updates-pushkar-singh-dhami-11700703183514.html', metadata={'source': 'hul share price indian oil share price spicejet share price tcs share price asian paints share price hdfc bank share price zaggle share price samhi hotels share price tata power share price reliance share price adani enterprises share price itc share price icici bank share price vedanta share price jio financial services share price jsw steel share price nhpc share price paytm share price kotak mahindra share price torrent pharmaceuticals share price tech mahindra share price axis bank share price punjab national bank share price canara bank share price vodafone idea share price acc share price adani green energy share price tvs motor share price larsen', 'row': 19}),\n",
       " Document(page_content='chunks: toubro share price tata consumer share price gail india share price ambuja cements share price sun pharmaceutical industries share price hero motocorp share price tata motors share price indian railway finance corporation share price suzlon energy share price zomato share price idfc first bank share price nhpc share price ireda share price gandhar oil share price fedbank financial services share price tata technologies share price flair writing share price accent microcell share price doms industries share price india shelter share price inox india share price suraj estate developers share price motisons jewellers share price muthoot microfin share price rbz jewellers share price happy forgings share price credo brands share price azad engineering share price innova captab share price latest stories it dept detects 1000 crore unaccounted cash sales in polycab google cuts jobs in google assistant software devices and services team mint bfsi summit\\nurl: https://www.livemint.com/news/india/uttarkashi-tunnel-collapse-silkyara-ndrf-deploys-team-rescue-mission-41-workers-top-10-updates-pushkar-singh-dhami-11700703183514.html', metadata={'source': 'toubro share price tata consumer share price gail india share price ambuja cements share price sun pharmaceutical industries share price hero motocorp share price tata motors share price indian railway finance corporation share price suzlon energy share price zomato share price idfc first bank share price nhpc share price ireda share price gandhar oil share price fedbank financial services share price tata technologies share price flair writing share price accent microcell share price doms industries share price india shelter share price inox india share price suraj estate developers share price motisons jewellers share price muthoot microfin share price rbz jewellers share price happy forgings share price credo brands share price azad engineering share price innova captab share price latest stories it dept detects 1000 crore unaccounted cash sales in polycab google cuts jobs in google assistant software devices and services team mint bfsi summit', 'row': 20}),\n",
       " Document(page_content='chunks: awards 2024 begins check link to watch online here lohri 2024 date significance celebrations heres all you need to know chinas solar dominance faces new rival an ultrathin film us sec approves bitcoin etfs amid cautious optimism these 12 midcap mf schemes delivered the best return in one year heritage foods bank of india among top stock picks by hdfc securities bihar orders probe into using school benches as fuel for midday meal pharma index in focus up 3\\nurl: https://www.livemint.com/news/india/uttarkashi-tunnel-collapse-silkyara-ndrf-deploys-team-rescue-mission-41-workers-top-10-updates-pushkar-singh-dhami-11700703183514.html', metadata={'source': 'awards 2024 begins check link to watch online here lohri 2024 date significance celebrations heres all you need to know chinas solar dominance faces new rival an ultrathin film us sec approves bitcoin etfs amid cautious optimism these 12 midcap mf schemes delivered the best return in one year heritage foods bank of india among top stock picks by hdfc securities bihar orders probe into using school benches as fuel for midday meal pharma index in focus up 3', 'row': 21}),\n",
       " Document(page_content='chunks: 45\\nurl: https://www.livemint.com/news/india/uttarkashi-tunnel-collapse-silkyara-ndrf-deploys-team-rescue-mission-41-workers-top-10-updates-pushkar-singh-dhami-11700703183514.html', metadata={'source': '45', 'row': 22}),\n",
       " Document(page_content='chunks: ytd pharma market growth catches up in december nifty 50 companies adani enterprises share price adani ports share price apollo hospitals share price asian paints share price axis bank share price bajaj auto share price bajaj finance share price bajaj finserve share price bpcl share price bharti airtel share price britannia share price cipla share price coal india share price divis laboratories share price dr reddys laboratories share price eicher motors share price grasim industries share price hcl technologies share price hdfc bank share price hdfc life share price hero motocorp share price hindalco industries share price hindustan unilever share price icici bank share price itc share price indusind bank share price infosys share price jsw steel share price kotak bank share price larsen tourbo share price mahindra\\nurl: https://www.livemint.com/news/india/uttarkashi-tunnel-collapse-silkyara-ndrf-deploys-team-rescue-mission-41-workers-top-10-updates-pushkar-singh-dhami-11700703183514.html', metadata={'source': 'ytd pharma market growth catches up in december nifty 50 companies adani enterprises share price adani ports share price apollo hospitals share price asian paints share price axis bank share price bajaj auto share price bajaj finance share price bajaj finserve share price bpcl share price bharti airtel share price britannia share price cipla share price coal india share price divis laboratories share price dr reddys laboratories share price eicher motors share price grasim industries share price hcl technologies share price hdfc bank share price hdfc life share price hero motocorp share price hindalco industries share price hindustan unilever share price icici bank share price itc share price indusind bank share price infosys share price jsw steel share price kotak bank share price larsen tourbo share price mahindra', 'row': 23}),\n",
       " Document(page_content='chunks: tourbo share price mahindra mahindra share price maruti suzuki share price ntpc share price nestle india share price ongc share price power grid share price reliance industries share price sbi life share price sbi share price sun pharma share price tcs share price tata motors share price tata steel share price tata consumer share price tech mahindra share price titan share price upl share price ultratech cement share price wipro share price download app download the mint app and read premium stories about us contact us terms of use privacy policy rss copyright  2023 ht digital streams ltd all right reserved\\nurl: https://www.livemint.com/news/india/uttarkashi-tunnel-collapse-silkyara-ndrf-deploys-team-rescue-mission-41-workers-top-10-updates-pushkar-singh-dhami-11700703183514.html', metadata={'source': 'tourbo share price mahindra mahindra share price maruti suzuki share price ntpc share price nestle india share price ongc share price power grid share price reliance industries share price sbi life share price sbi share price sun pharma share price tcs share price tata motors share price tata steel share price tata consumer share price tech mahindra share price titan share price upl share price ultratech cement share price wipro share price download app download the mint app and read premium stories about us contact us terms of use privacy policy rss copyright  2023 ht digital streams ltd all right reserved', 'row': 24}),\n",
       " Document(page_content='chunks: no networkserver issueinternet not availablewait for itlog in to our website to save your bookmarks itll just take a momentyes continue you are just one step away from creating your watchlistlogin now wait for itoops looks like you have exceeded the limit to bookmark the image remove some to bookmark this image your session has expired please login againyes continue congratulationsyou are now subscribed to our newsletters in case you cant find any email from our side please check the spam folder   get alerts on whatsapp set preferences my reads watchlist feedback redeem a gift card logout subscribe to continue this is a subscriber only feature subscribe now to get daily updates on whatsapp\\nurl: https://www.livemint.com/news/india/uttarkashi-tunnel-collapse-silkyara-ndrf-deploys-team-rescue-mission-41-workers-top-10-updates-pushkar-singh-dhami-11700703183514.html', metadata={'source': 'no networkserver issueinternet not availablewait for itlog in to our website to save your bookmarks itll just take a momentyes continue you are just one step away from creating your watchlistlogin now wait for itoops looks like you have exceeded the limit to bookmark the image remove some to bookmark this image your session has expired please login againyes continue congratulationsyou are now subscribed to our newsletters in case you cant find any email from our side please check the spam folder   get alerts on whatsapp set preferences my reads watchlist feedback redeem a gift card logout subscribe to continue this is a subscriber only feature subscribe now to get daily updates on whatsapp', 'row': 25}),\n",
       " Document(page_content='chunks: covid cases in kerala centre calls health meet as covid rises in kerala 10 deaths this month kochi news times of indiaeditionininussign intoicitykochimumbaidelhibengaluruhyderabadkolkatachennaiagraagartalaahmedabadajmerallahabadamaravatiamritsaraurangabadbareillybhubaneswarbhopalchandigarhcoimbatorecuttackdehradunerodefaridabadghaziabadgoagurgaonguwahatihubballiimphalindoreitanagarjaipurjammujamshedpurjodhpurkanpurkohimakolhapurkozhikodeludhianalucknowmaduraimangalurumeerutmumbai regionmysurunagpurnashiknavi mumbainoidapatnapuducherrypuneraipurrajkotranchithanesalemshillongshimlasrinagarsurattrichythiruvananthapuramudaipurvadodaravaranasivijayawadavisakhapatnamphotosweb storiescivic issuescrimepoliticsschool and collegeskerala electionsvideosphotosweathernewscity newskochi newscentre calls health meet as covid rises in kerala\\nurl: https://timesofindia.indiatimes.com/city/kochi/centre-calls-health-meet-as-covid-rises-in-kerala-10-deaths-this-month/articleshow/106106851.cms', metadata={'source': 'covid cases in kerala centre calls health meet as covid rises in kerala 10 deaths this month kochi news times of indiaeditionininussign intoicitykochimumbaidelhibengaluruhyderabadkolkatachennaiagraagartalaahmedabadajmerallahabadamaravatiamritsaraurangabadbareillybhubaneswarbhopalchandigarhcoimbatorecuttackdehradunerodefaridabadghaziabadgoagurgaonguwahatihubballiimphalindoreitanagarjaipurjammujamshedpurjodhpurkanpurkohimakolhapurkozhikodeludhianalucknowmaduraimangalurumeerutmumbai regionmysurunagpurnashiknavi mumbainoidapatnapuducherrypuneraipurrajkotranchithanesalemshillongshimlasrinagarsurattrichythiruvananthapuramudaipurvadodaravaranasivijayawadavisakhapatnamphotosweb storiescivic issuescrimepoliticsschool and collegeskerala electionsvideosphotosweathernewscity newskochi newscentre calls health meet as covid rises in kerala', 'row': 26}),\n",
       " Document(page_content='chunks: 10 deaths this monthtrendingcovid cases in indiadelhi coldwavesuchana sethayodhya ram templeshiv sena case vedictvibrant gujarat global summit 2024covid cases in indiadelhi coldwavesuchana sethayodhya ram templeshiv sena case vedictvibrant gujarat global summit 2024covid cases in indiadelhi coldwavesuchana sethayodhya ram templeshiv sena case vedictvibrant gujarat global summit 2024centre calls health meet as covid rises in kerala 10 deaths this monthdurgesh nandan jha tnn updated dec 19 2023 0933 istshareaa\\nurl: https://timesofindia.indiatimes.com/city/kochi/centre-calls-health-meet-as-covid-rises-in-kerala-10-deaths-this-month/articleshow/106106851.cms', metadata={'source': '10 deaths this monthtrendingcovid cases in indiadelhi coldwavesuchana sethayodhya ram templeshiv sena case vedictvibrant gujarat global summit 2024covid cases in indiadelhi coldwavesuchana sethayodhya ram templeshiv sena case vedictvibrant gujarat global summit 2024covid cases in indiadelhi coldwavesuchana sethayodhya ram templeshiv sena case vedictvibrant gujarat global summit 2024centre calls health meet as covid rises in kerala 10 deaths this monthdurgesh nandan jha tnn updated dec 19 2023 0933 istshareaa', 'row': 27}),\n",
       " Document(page_content='chunks: text sizesmallmediumlargefollow us image used for representational purpose only new delhikochi the union health ministry asked all states to be on alert while health minister mansukh mandaviya called a meeting of state health ministers on wednesday to review preparedness in view of a surge in respiratory illnesses in the country including covid19\\nurl: https://timesofindia.indiatimes.com/city/kochi/centre-calls-health-meet-as-covid-rises-in-kerala-10-deaths-this-month/articleshow/106106851.cms', metadata={'source': 'text sizesmallmediumlargefollow us image used for representational purpose only new delhikochi the union health ministry asked all states to be on alert while health minister mansukh mandaviya called a meeting of state health ministers on wednesday to review preparedness in view of a surge in respiratory illnesses in the country including covid19', 'row': 28}),\n",
       " Document(page_content='chunks: kerala is witnessing a rise in covid cases as well as deaths daily cases detected in the state have nearly tripled in a week while 10 deaths have been reported from december 1 to 17 as per data sent to the centre sources in the state health department saidof particular concern is jn1 a new covid subvariant recently detected in a 79yearold woman in keralaon december 16 kerala reported 302 new covid cases and four deaths the highest in the latest outbreak on december 10 kerala had reported 109 cases daily cases crossed 200 on december 12 and within four days kerala reported over 300 fresh casescovid states told to increase rtpcr teststhe health secretary in his letter to states highlighted the need for maintaining constant vigil over the covid19 situation\\nurl: https://timesofindia.indiatimes.com/city/kochi/centre-calls-health-meet-as-covid-rises-in-kerala-10-deaths-this-month/articleshow/106106851.cms', metadata={'source': 'kerala is witnessing a rise in covid cases as well as deaths daily cases detected in the state have nearly tripled in a week while 10 deaths have been reported from december 1 to 17 as per data sent to the centre sources in the state health department saidof particular concern is jn1 a new covid subvariant recently detected in a 79yearold woman in keralaon december 16 kerala reported 302 new covid cases and four deaths the highest in the latest outbreak on december 10 kerala had reported 109 cases daily cases crossed 200 on december 12 and within four days kerala reported over 300 fresh casescovid states told to increase rtpcr teststhe health secretary in his letter to states highlighted the need for maintaining constant vigil over the covid19 situation', 'row': 29}),\n",
       " Document(page_content='chunks: covid states told to increase rtpcr teststhe health secretary in his letter to states highlighted the need for maintaining constant vigil over the covid19 situation he asked them to monitor and report districtwise influenzalike illness ili severe acute respiratory illness sari cases in all health facilities on a regular basis including in the integrated health information platform ihip portal for detecting the early rising trend of cases states have also been advised to increase the number of rtpcr tests and send positive samples for genome sequencing to indian sars cov2 genomics consortium insacog laboratories to enable timely detection of new variants if any in the country jn1 was first identified in august and reports suggest it carried significant mutations that may contribute to increased transmissibility and immuneescape ability jn1 variant has also been reported in the usa china and singapore\\nurl: https://timesofindia.indiatimes.com/city/kochi/centre-calls-health-meet-as-covid-rises-in-kerala-10-deaths-this-month/articleshow/106106851.cms', metadata={'source': 'covid states told to increase rtpcr teststhe health secretary in his letter to states highlighted the need for maintaining constant vigil over the covid19 situation he asked them to monitor and report districtwise influenzalike illness ili severe acute respiratory illness sari cases in all health facilities on a regular basis including in the integrated health information platform ihip portal for detecting the early rising trend of cases states have also been advised to increase the number of rtpcr tests and send positive samples for genome sequencing to indian sars cov2 genomics consortium insacog laboratories to enable timely detection of new variants if any in the country jn1 was first identified in august and reports suggest it carried significant mutations that may contribute to increased transmissibility and immuneescape ability jn1 variant has also been reported in the usa china and singapore', 'row': 30}),\n",
       " Document(page_content='chunks: jn1 variant has also been reported in the usa china and singapore union health secretary sudhansh pant shared details about jn1 with the additional chief secretary principal secretary and secretary health of all states uts with a message to keep up the vigil against emergence of any new clusters of covid19 or other respiratory illness for timely action the information shared by the union health secretary states that the current laboratory test rtpcr is effective for jn1 detection on symptoms and severity in cases involving covid19 caused by the new subvariant the health secretary in the annexure shared by the government with the states says that it is not known whether jn1 infection produces different symptoms from other variants according to the government there is no indication of increased severity from jn1 or risk posed by the subvariant to public health in comparison to other currently circulating variants\\nurl: https://timesofindia.indiatimes.com/city/kochi/centre-calls-health-meet-as-covid-rises-in-kerala-10-deaths-this-month/articleshow/106106851.cms', metadata={'source': 'jn1 variant has also been reported in the usa china and singapore union health secretary sudhansh pant shared details about jn1 with the additional chief secretary principal secretary and secretary health of all states uts with a message to keep up the vigil against emergence of any new clusters of covid19 or other respiratory illness for timely action the information shared by the union health secretary states that the current laboratory test rtpcr is effective for jn1 detection on symptoms and severity in cases involving covid19 caused by the new subvariant the health secretary in the annexure shared by the government with the states says that it is not known whether jn1 infection produces different symptoms from other variants according to the government there is no indication of increased severity from jn1 or risk posed by the subvariant to public health in comparison to other currently circulating variants', 'row': 31}),\n",
       " Document(page_content='chunks: according to the government there is no indication of increased severity from jn1 or risk posed by the subvariant to public health in comparison to other currently circulating variants updated covid19 vaccines are expected to increase protection against jn1 as they do for other variants the government says\\nurl: https://timesofindia.indiatimes.com/city/kochi/centre-calls-health-meet-as-covid-rises-in-kerala-10-deaths-this-month/articleshow/106106851.cms', metadata={'source': 'according to the government there is no indication of increased severity from jn1 or risk posed by the subvariant to public health in comparison to other currently circulating variants updated covid19 vaccines are expected to increase protection against jn1 as they do for other variants the government says', 'row': 32}),\n",
       " Document(page_content='chunks: follow us on social media visual stories previouspopular indian dishes named after their place of originfood12 benefits of drinking fennel water every morningfoodbaby names inspired by the holy rivers of indiaindiajanuaryperfect countries to visit in asiatravel10 herbs which help hair to grow quicklyindia10 wedding sari trends for 2024indiacuteness overload ai imagines ram lalla going to schoolindiakeerthy suresh elegantly embraces cultural beauty in a blue banarasi sareeindia10 largest countries in the world\\nurl: https://timesofindia.indiatimes.com/city/kochi/centre-calls-health-meet-as-covid-rises-in-kerala-10-deaths-this-month/articleshow/106106851.cms', metadata={'source': 'follow us on social media visual stories previouspopular indian dishes named after their place of originfood12 benefits of drinking fennel water every morningfoodbaby names inspired by the holy rivers of indiaindiajanuaryperfect countries to visit in asiatravel10 herbs which help hair to grow quicklyindia10 wedding sari trends for 2024indiacuteness overload ai imagines ram lalla going to schoolindiakeerthy suresh elegantly embraces cultural beauty in a blue banarasi sareeindia10 largest countries in the world', 'row': 33}),\n",
       " Document(page_content='chunks: travel10 interesting activities to help your kids get over smartphone screensindia next123electionschhattisgarh cm newsmp cm newsrajasthan election resultsmp election result 2023chhattisgarh election resultmizoram election resulttop trendsvibrant gujarat summitred ant chutney odishasena vs sena case verdictsuchana seth ceopm modi maldives rowshiv sena vs shiv sena casetrending storiesin cityentire websitelive people support politics of good governance development says pm after poll resultstgana poll result congress set for historic winmp poll result landslide win for bjp chouhan credits pm modichhattisgarh poll result bjp wrests state from congrajasthan votes for riwaz picks bjp votes out congwhat icing says about modern datings toxic habitsgrap 3 kicks in as delhis aqi turns severesupreme court to govt will you remove opacity of electoral bonds\\nurl: https://timesofindia.indiatimes.com/city/kochi/centre-calls-health-meet-as-covid-rises-in-kerala-10-deaths-this-month/articleshow/106106851.cms', metadata={'source': 'travel10 interesting activities to help your kids get over smartphone screensindia next123electionschhattisgarh cm newsmp cm newsrajasthan election resultsmp election result 2023chhattisgarh election resultmizoram election resulttop trendsvibrant gujarat summitred ant chutney odishasena vs sena case verdictsuchana seth ceopm modi maldives rowshiv sena vs shiv sena casetrending storiesin cityentire websitelive people support politics of good governance development says pm after poll resultstgana poll result congress set for historic winmp poll result landslide win for bjp chouhan credits pm modichhattisgarh poll result bjp wrests state from congrajasthan votes for riwaz picks bjp votes out congwhat icing says about modern datings toxic habitsgrap 3 kicks in as delhis aqi turns severesupreme court to govt will you remove opacity of electoral bonds', 'row': 34}),\n",
       " Document(page_content='chunks: karnataka on high alert after zika virus found in mosquito samplepics mumngp eway deaths what causing these accidentscanada not us uses freedom of speech to justify extremism jaishankarceo ordered cough syrup may have planned kids murderyou do your job joe biden and let the press do its ownspeakers ruling puts focus on innerparty democracy expertsus court seeks proof to justify plea to extradite guptais lakshadweep ready for tourist rush\\nurl: https://timesofindia.indiatimes.com/city/kochi/centre-calls-health-meet-as-covid-rises-in-kerala-10-deaths-this-month/articleshow/106106851.cms', metadata={'source': 'karnataka on high alert after zika virus found in mosquito samplepics mumngp eway deaths what causing these accidentscanada not us uses freedom of speech to justify extremism jaishankarceo ordered cough syrup may have planned kids murderyou do your job joe biden and let the press do its ownspeakers ruling puts focus on innerparty democracy expertsus court seeks proof to justify plea to extradite guptais lakshadweep ready for tourist rush', 'row': 35}),\n",
       " Document(page_content='chunks: from lebanon to the red sea a broader conflict with iran loomswhat elon musk said on apple ceos vision pro announcementjustify minority status if council is nonmuslim in nature sc to amuus sec approves bitcoin etfs in watershed for crypto marketabout uscreate your own adterms of use and grievance redressal policy privacy policyadvertise with usrssnewsletterfeedbackepapersitemaparchivesfollow us onother times group news sitesthe economic timeshindi economic timesnavbharat timesmaharashtra timesvijaya karnatakatelugu samayamtamil samayammalayalam samayamei samayi am gujarattimes nowtimes now navbharattimespointsindiatimesbrand capitaleducation timestimes foodmiss kyrapopular categoriesheadlinessports newsbusiness newsindia newsworld newsbollywood newshealth\\nurl: https://timesofindia.indiatimes.com/city/kochi/centre-calls-health-meet-as-covid-rises-in-kerala-10-deaths-this-month/articleshow/106106851.cms', metadata={'source': 'from lebanon to the red sea a broader conflict with iran loomswhat elon musk said on apple ceos vision pro announcementjustify minority status if council is nonmuslim in nature sc to amuus sec approves bitcoin etfs in watershed for crypto marketabout uscreate your own adterms of use and grievance redressal policy privacy policyadvertise with usrssnewsletterfeedbackepapersitemaparchivesfollow us onother times group news sitesthe economic timeshindi economic timesnavbharat timesmaharashtra timesvijaya karnatakatelugu samayamtamil samayammalayalam samayamei samayi am gujarattimes nowtimes now navbharattimespointsindiatimesbrand capitaleducation timestimes foodmiss kyrapopular categoriesheadlinessports newsbusiness newsindia newsworld newsbollywood newshealth', 'row': 36}),\n",
       " Document(page_content='chunks: fitness tipsindian tv showscelebrity photoshot on the websag awards nomination listananya pandaycovid symptomsprabhasram lallaarun mashettynarayana murthybest food citiesira khanpooja hegdetop trendsvibrant gujarat summitred ant chutney odishasena vs sena case verdictsuchana seth ceopm modi maldives rowshiv sena vs shiv sena caseib acio admit card 2024vande bharat trainhoroscope todayneet pg 2024jaishankarbudget 2024delhi weather newsindia covid casesindian festivals in 2024t20 world cup scheduletamil nadu rain newsipl 2024trending topicssalaar collectiondunki collectionamericas got talenthappy lohri 2024bigg boss 17anupamaaira khananimal ott releaserashmika mandannahealthy snacksindian islandsboycott maldives campaignayodhya airport photosfennel water benefitsbaby namescountries to visit in asiaapple vision pro pricemark zuckerbergworld biggest tech showwifi 7living and entertainmentviral newsviral videosfeminaetimesgraziazoomtravel destinationsbombay timescricbuzz\\nurl: https://timesofindia.indiatimes.com/city/kochi/centre-calls-health-meet-as-covid-rises-in-kerala-10-deaths-this-month/articleshow/106106851.cms', metadata={'source': 'fitness tipsindian tv showscelebrity photoshot on the websag awards nomination listananya pandaycovid symptomsprabhasram lallaarun mashettynarayana murthybest food citiesira khanpooja hegdetop trendsvibrant gujarat summitred ant chutney odishasena vs sena case verdictsuchana seth ceopm modi maldives rowshiv sena vs shiv sena caseib acio admit card 2024vande bharat trainhoroscope todayneet pg 2024jaishankarbudget 2024delhi weather newsindia covid casesindian festivals in 2024t20 world cup scheduletamil nadu rain newsipl 2024trending topicssalaar collectiondunki collectionamericas got talenthappy lohri 2024bigg boss 17anupamaaira khananimal ott releaserashmika mandannahealthy snacksindian islandsboycott maldives campaignayodhya airport photosfennel water benefitsbaby namescountries to visit in asiaapple vision pro pricemark zuckerbergworld biggest tech showwifi 7living and entertainmentviral newsviral videosfeminaetimesgraziazoomtravel destinationsbombay timescricbuzz', 'row': 37}),\n",
       " Document(page_content='chunks: comfilmfaretvlifestylelongwalks appnewspaper subscriptionfood newstimes primewhats hotservicescouponduniamagicbrickstechgigtimesjobsbollywood newstimes mobilegadgets nowcareerscolombiacopyright  2024 bennett coleman co ltd all rights reserved for reprint rights times syndication service\\nurl: https://timesofindia.indiatimes.com/city/kochi/centre-calls-health-meet-as-covid-rises-in-kerala-10-deaths-this-month/articleshow/106106851.cms', metadata={'source': 'comfilmfaretvlifestylelongwalks appnewspaper subscriptionfood newstimes primewhats hotservicescouponduniamagicbrickstechgigtimesjobsbollywood newstimes mobilegadgets nowcareerscolombiacopyright  2024 bennett coleman co ltd all rights reserved for reprint rights times syndication service', 'row': 38})]"
      ]
     },
     "execution_count": 23,
     "metadata": {},
     "output_type": "execute_result"
    }
   ],
   "source": [
    "data"
   ]
  },
  {
   "cell_type": "code",
   "execution_count": null,
   "id": "37a67d2c",
   "metadata": {},
   "outputs": [],
   "source": [
    "import faiss\n",
    "import numpy as np\n",
    "\n",
    "# Assuming 'data' is your input data and 'embeddings' are the corresponding vectors\n",
    "\n",
    "# Flatten the data and make sure it's in float32 format\n",
    "flat_data = np.array(data).astype('float32')\n",
    "flat_embeddings = np.array(embeddings).astype('float32')\n",
    "\n",
    "# Instantiate an index\n",
    "index = faiss.IndexFlatL2(flat_embeddings.shape[1])  # L2 distance index\n",
    "\n",
    "# Add vectors to the index\n",
    "index.add(flat_embeddings)\n",
    "\n",
    "# Now, 'index' is ready for similarity searches"
   ]
  },
  {
   "cell_type": "code",
   "execution_count": 29,
   "id": "47522b50",
   "metadata": {},
   "outputs": [
    {
     "name": "stderr",
     "output_type": "stream",
     "text": [
      "2024-01-11 11:10:42.280 INFO    openai: error_code=insufficient_quota error_message='You exceeded your current quota, please check your plan and billing details. For more information on this error, read the docs: https://platform.openai.com/docs/guides/error-codes/api-errors.' error_param=None error_type=insufficient_quota message='OpenAI API error received' stream_error=False\n",
      "2024-01-11 11:10:42.281 WARNING langchain.embeddings.openai: Retrying langchain.embeddings.openai.embed_with_retry.<locals>._embed_with_retry in 4.0 seconds as it raised RateLimitError: You exceeded your current quota, please check your plan and billing details. For more information on this error, read the docs: https://platform.openai.com/docs/guides/error-codes/api-errors..\n",
      "2024-01-11 11:10:46.991 INFO    openai: error_code=insufficient_quota error_message='You exceeded your current quota, please check your plan and billing details. For more information on this error, read the docs: https://platform.openai.com/docs/guides/error-codes/api-errors.' error_param=None error_type=insufficient_quota message='OpenAI API error received' stream_error=False\n",
      "2024-01-11 11:10:46.993 WARNING langchain.embeddings.openai: Retrying langchain.embeddings.openai.embed_with_retry.<locals>._embed_with_retry in 4.0 seconds as it raised RateLimitError: You exceeded your current quota, please check your plan and billing details. For more information on this error, read the docs: https://platform.openai.com/docs/guides/error-codes/api-errors..\n",
      "2024-01-11 11:10:51.497 INFO    openai: error_code=insufficient_quota error_message='You exceeded your current quota, please check your plan and billing details. For more information on this error, read the docs: https://platform.openai.com/docs/guides/error-codes/api-errors.' error_param=None error_type=insufficient_quota message='OpenAI API error received' stream_error=False\n",
      "2024-01-11 11:10:51.499 WARNING langchain.embeddings.openai: Retrying langchain.embeddings.openai.embed_with_retry.<locals>._embed_with_retry in 4.0 seconds as it raised RateLimitError: You exceeded your current quota, please check your plan and billing details. For more information on this error, read the docs: https://platform.openai.com/docs/guides/error-codes/api-errors..\n",
      "2024-01-11 11:10:55.920 INFO    openai: error_code=insufficient_quota error_message='You exceeded your current quota, please check your plan and billing details. For more information on this error, read the docs: https://platform.openai.com/docs/guides/error-codes/api-errors.' error_param=None error_type=insufficient_quota message='OpenAI API error received' stream_error=False\n",
      "2024-01-11 11:10:55.921 WARNING langchain.embeddings.openai: Retrying langchain.embeddings.openai.embed_with_retry.<locals>._embed_with_retry in 8.0 seconds as it raised RateLimitError: You exceeded your current quota, please check your plan and billing details. For more information on this error, read the docs: https://platform.openai.com/docs/guides/error-codes/api-errors..\n",
      "2024-01-11 11:11:04.604 INFO    openai: error_code=insufficient_quota error_message='You exceeded your current quota, please check your plan and billing details. For more information on this error, read the docs: https://platform.openai.com/docs/guides/error-codes/api-errors.' error_param=None error_type=insufficient_quota message='OpenAI API error received' stream_error=False\n",
      "2024-01-11 11:11:04.606 WARNING langchain.embeddings.openai: Retrying langchain.embeddings.openai.embed_with_retry.<locals>._embed_with_retry in 10.0 seconds as it raised RateLimitError: You exceeded your current quota, please check your plan and billing details. For more information on this error, read the docs: https://platform.openai.com/docs/guides/error-codes/api-errors..\n",
      "2024-01-11 11:11:15.054 INFO    openai: error_code=insufficient_quota error_message='You exceeded your current quota, please check your plan and billing details. For more information on this error, read the docs: https://platform.openai.com/docs/guides/error-codes/api-errors.' error_param=None error_type=insufficient_quota message='OpenAI API error received' stream_error=False\n"
     ]
    },
    {
     "ename": "RateLimitError",
     "evalue": "You exceeded your current quota, please check your plan and billing details. For more information on this error, read the docs: https://platform.openai.com/docs/guides/error-codes/api-errors.",
     "output_type": "error",
     "traceback": [
      "\u001b[1;31m---------------------------------------------------------------------------\u001b[0m",
      "\u001b[1;31mRateLimitError\u001b[0m                            Traceback (most recent call last)",
      "Input \u001b[1;32mIn [29]\u001b[0m, in \u001b[0;36m<cell line: 3>\u001b[1;34m()\u001b[0m\n\u001b[0;32m      1\u001b[0m embeddings\u001b[38;5;241m=\u001b[39m OpenAIEmbeddings()\n\u001b[1;32m----> 3\u001b[0m vectors\u001b[38;5;241m=\u001b[39m\u001b[43mFAISS\u001b[49m\u001b[38;5;241;43m.\u001b[39;49m\u001b[43mfrom_documents\u001b[49m\u001b[43m(\u001b[49m\u001b[43mdata\u001b[49m\u001b[43m,\u001b[49m\u001b[43m \u001b[49m\u001b[43membeddings\u001b[49m\u001b[43m)\u001b[49m\n",
      "File \u001b[1;32m~\\AppData\\Local\\Programs\\Python\\Python310\\lib\\site-packages\\langchain\\vectorstores\\base.py:417\u001b[0m, in \u001b[0;36mVectorStore.from_documents\u001b[1;34m(cls, documents, embedding, **kwargs)\u001b[0m\n\u001b[0;32m    415\u001b[0m texts \u001b[38;5;241m=\u001b[39m [d\u001b[38;5;241m.\u001b[39mpage_content \u001b[38;5;28;01mfor\u001b[39;00m d \u001b[38;5;129;01min\u001b[39;00m documents]\n\u001b[0;32m    416\u001b[0m metadatas \u001b[38;5;241m=\u001b[39m [d\u001b[38;5;241m.\u001b[39mmetadata \u001b[38;5;28;01mfor\u001b[39;00m d \u001b[38;5;129;01min\u001b[39;00m documents]\n\u001b[1;32m--> 417\u001b[0m \u001b[38;5;28;01mreturn\u001b[39;00m \u001b[38;5;28mcls\u001b[39m\u001b[38;5;241m.\u001b[39mfrom_texts(texts, embedding, metadatas\u001b[38;5;241m=\u001b[39mmetadatas, \u001b[38;5;241m*\u001b[39m\u001b[38;5;241m*\u001b[39mkwargs)\n",
      "File \u001b[1;32m~\\AppData\\Local\\Programs\\Python\\Python310\\lib\\site-packages\\langchain\\vectorstores\\faiss.py:602\u001b[0m, in \u001b[0;36mFAISS.from_texts\u001b[1;34m(cls, texts, embedding, metadatas, ids, **kwargs)\u001b[0m\n\u001b[0;32m    575\u001b[0m \u001b[38;5;129m@classmethod\u001b[39m\n\u001b[0;32m    576\u001b[0m \u001b[38;5;28;01mdef\u001b[39;00m \u001b[38;5;21mfrom_texts\u001b[39m(\n\u001b[0;32m    577\u001b[0m     \u001b[38;5;28mcls\u001b[39m,\n\u001b[1;32m   (...)\u001b[0m\n\u001b[0;32m    582\u001b[0m     \u001b[38;5;241m*\u001b[39m\u001b[38;5;241m*\u001b[39mkwargs: Any,\n\u001b[0;32m    583\u001b[0m ) \u001b[38;5;241m-\u001b[39m\u001b[38;5;241m>\u001b[39m FAISS:\n\u001b[0;32m    584\u001b[0m     \u001b[38;5;124;03m\"\"\"Construct FAISS wrapper from raw documents.\u001b[39;00m\n\u001b[0;32m    585\u001b[0m \n\u001b[0;32m    586\u001b[0m \u001b[38;5;124;03m    This is a user friendly interface that:\u001b[39;00m\n\u001b[1;32m   (...)\u001b[0m\n\u001b[0;32m    600\u001b[0m \u001b[38;5;124;03m            faiss = FAISS.from_texts(texts, embeddings)\u001b[39;00m\n\u001b[0;32m    601\u001b[0m \u001b[38;5;124;03m    \"\"\"\u001b[39;00m\n\u001b[1;32m--> 602\u001b[0m     embeddings \u001b[38;5;241m=\u001b[39m \u001b[43membedding\u001b[49m\u001b[38;5;241;43m.\u001b[39;49m\u001b[43membed_documents\u001b[49m\u001b[43m(\u001b[49m\u001b[43mtexts\u001b[49m\u001b[43m)\u001b[49m\n\u001b[0;32m    603\u001b[0m     \u001b[38;5;28;01mreturn\u001b[39;00m \u001b[38;5;28mcls\u001b[39m\u001b[38;5;241m.\u001b[39m__from(\n\u001b[0;32m    604\u001b[0m         texts,\n\u001b[0;32m    605\u001b[0m         embeddings,\n\u001b[1;32m   (...)\u001b[0m\n\u001b[0;32m    609\u001b[0m         \u001b[38;5;241m*\u001b[39m\u001b[38;5;241m*\u001b[39mkwargs,\n\u001b[0;32m    610\u001b[0m     )\n",
      "File \u001b[1;32m~\\AppData\\Local\\Programs\\Python\\Python310\\lib\\site-packages\\langchain\\embeddings\\openai.py:483\u001b[0m, in \u001b[0;36mOpenAIEmbeddings.embed_documents\u001b[1;34m(self, texts, chunk_size)\u001b[0m\n\u001b[0;32m    471\u001b[0m \u001b[38;5;124;03m\"\"\"Call out to OpenAI's embedding endpoint for embedding search docs.\u001b[39;00m\n\u001b[0;32m    472\u001b[0m \n\u001b[0;32m    473\u001b[0m \u001b[38;5;124;03mArgs:\u001b[39;00m\n\u001b[1;32m   (...)\u001b[0m\n\u001b[0;32m    479\u001b[0m \u001b[38;5;124;03m    List of embeddings, one for each text.\u001b[39;00m\n\u001b[0;32m    480\u001b[0m \u001b[38;5;124;03m\"\"\"\u001b[39;00m\n\u001b[0;32m    481\u001b[0m \u001b[38;5;66;03m# NOTE: to keep things simple, we assume the list may contain texts longer\u001b[39;00m\n\u001b[0;32m    482\u001b[0m \u001b[38;5;66;03m#       than the maximum context and use length-safe embedding function.\u001b[39;00m\n\u001b[1;32m--> 483\u001b[0m \u001b[38;5;28;01mreturn\u001b[39;00m \u001b[38;5;28;43mself\u001b[39;49m\u001b[38;5;241;43m.\u001b[39;49m\u001b[43m_get_len_safe_embeddings\u001b[49m\u001b[43m(\u001b[49m\u001b[43mtexts\u001b[49m\u001b[43m,\u001b[49m\u001b[43m \u001b[49m\u001b[43mengine\u001b[49m\u001b[38;5;241;43m=\u001b[39;49m\u001b[38;5;28;43mself\u001b[39;49m\u001b[38;5;241;43m.\u001b[39;49m\u001b[43mdeployment\u001b[49m\u001b[43m)\u001b[49m\n",
      "File \u001b[1;32m~\\AppData\\Local\\Programs\\Python\\Python310\\lib\\site-packages\\langchain\\embeddings\\openai.py:367\u001b[0m, in \u001b[0;36mOpenAIEmbeddings._get_len_safe_embeddings\u001b[1;34m(self, texts, engine, chunk_size)\u001b[0m\n\u001b[0;32m    364\u001b[0m     _iter \u001b[38;5;241m=\u001b[39m \u001b[38;5;28mrange\u001b[39m(\u001b[38;5;241m0\u001b[39m, \u001b[38;5;28mlen\u001b[39m(tokens), _chunk_size)\n\u001b[0;32m    366\u001b[0m \u001b[38;5;28;01mfor\u001b[39;00m i \u001b[38;5;129;01min\u001b[39;00m _iter:\n\u001b[1;32m--> 367\u001b[0m     response \u001b[38;5;241m=\u001b[39m embed_with_retry(\n\u001b[0;32m    368\u001b[0m         \u001b[38;5;28mself\u001b[39m,\n\u001b[0;32m    369\u001b[0m         \u001b[38;5;28minput\u001b[39m\u001b[38;5;241m=\u001b[39mtokens[i : i \u001b[38;5;241m+\u001b[39m _chunk_size],\n\u001b[0;32m    370\u001b[0m         \u001b[38;5;241m*\u001b[39m\u001b[38;5;241m*\u001b[39m\u001b[38;5;28mself\u001b[39m\u001b[38;5;241m.\u001b[39m_invocation_params,\n\u001b[0;32m    371\u001b[0m     )\n\u001b[0;32m    372\u001b[0m     batched_embeddings\u001b[38;5;241m.\u001b[39mextend(r[\u001b[38;5;124m\"\u001b[39m\u001b[38;5;124membedding\u001b[39m\u001b[38;5;124m\"\u001b[39m] \u001b[38;5;28;01mfor\u001b[39;00m r \u001b[38;5;129;01min\u001b[39;00m response[\u001b[38;5;124m\"\u001b[39m\u001b[38;5;124mdata\u001b[39m\u001b[38;5;124m\"\u001b[39m])\n\u001b[0;32m    374\u001b[0m results: List[List[List[\u001b[38;5;28mfloat\u001b[39m]]] \u001b[38;5;241m=\u001b[39m [[] \u001b[38;5;28;01mfor\u001b[39;00m _ \u001b[38;5;129;01min\u001b[39;00m \u001b[38;5;28mrange\u001b[39m(\u001b[38;5;28mlen\u001b[39m(texts))]\n",
      "File \u001b[1;32m~\\AppData\\Local\\Programs\\Python\\Python310\\lib\\site-packages\\langchain\\embeddings\\openai.py:107\u001b[0m, in \u001b[0;36membed_with_retry\u001b[1;34m(embeddings, **kwargs)\u001b[0m\n\u001b[0;32m    104\u001b[0m     response \u001b[38;5;241m=\u001b[39m embeddings\u001b[38;5;241m.\u001b[39mclient\u001b[38;5;241m.\u001b[39mcreate(\u001b[38;5;241m*\u001b[39m\u001b[38;5;241m*\u001b[39mkwargs)\n\u001b[0;32m    105\u001b[0m     \u001b[38;5;28;01mreturn\u001b[39;00m _check_response(response, skip_empty\u001b[38;5;241m=\u001b[39membeddings\u001b[38;5;241m.\u001b[39mskip_empty)\n\u001b[1;32m--> 107\u001b[0m \u001b[38;5;28;01mreturn\u001b[39;00m _embed_with_retry(\u001b[38;5;241m*\u001b[39m\u001b[38;5;241m*\u001b[39mkwargs)\n",
      "File \u001b[1;32m~\\AppData\\Local\\Programs\\Python\\Python310\\lib\\site-packages\\tenacity\\__init__.py:289\u001b[0m, in \u001b[0;36mBaseRetrying.wraps.<locals>.wrapped_f\u001b[1;34m(*args, **kw)\u001b[0m\n\u001b[0;32m    287\u001b[0m \u001b[38;5;129m@functools\u001b[39m\u001b[38;5;241m.\u001b[39mwraps(f)\n\u001b[0;32m    288\u001b[0m \u001b[38;5;28;01mdef\u001b[39;00m \u001b[38;5;21mwrapped_f\u001b[39m(\u001b[38;5;241m*\u001b[39margs: t\u001b[38;5;241m.\u001b[39mAny, \u001b[38;5;241m*\u001b[39m\u001b[38;5;241m*\u001b[39mkw: t\u001b[38;5;241m.\u001b[39mAny) \u001b[38;5;241m-\u001b[39m\u001b[38;5;241m>\u001b[39m t\u001b[38;5;241m.\u001b[39mAny:\n\u001b[1;32m--> 289\u001b[0m     \u001b[38;5;28;01mreturn\u001b[39;00m \u001b[38;5;28mself\u001b[39m(f, \u001b[38;5;241m*\u001b[39margs, \u001b[38;5;241m*\u001b[39m\u001b[38;5;241m*\u001b[39mkw)\n",
      "File \u001b[1;32m~\\AppData\\Local\\Programs\\Python\\Python310\\lib\\site-packages\\tenacity\\__init__.py:379\u001b[0m, in \u001b[0;36mRetrying.__call__\u001b[1;34m(self, fn, *args, **kwargs)\u001b[0m\n\u001b[0;32m    377\u001b[0m retry_state \u001b[38;5;241m=\u001b[39m RetryCallState(retry_object\u001b[38;5;241m=\u001b[39m\u001b[38;5;28mself\u001b[39m, fn\u001b[38;5;241m=\u001b[39mfn, args\u001b[38;5;241m=\u001b[39margs, kwargs\u001b[38;5;241m=\u001b[39mkwargs)\n\u001b[0;32m    378\u001b[0m \u001b[38;5;28;01mwhile\u001b[39;00m \u001b[38;5;28;01mTrue\u001b[39;00m:\n\u001b[1;32m--> 379\u001b[0m     do \u001b[38;5;241m=\u001b[39m \u001b[38;5;28;43mself\u001b[39;49m\u001b[38;5;241;43m.\u001b[39;49m\u001b[43miter\u001b[49m\u001b[43m(\u001b[49m\u001b[43mretry_state\u001b[49m\u001b[38;5;241;43m=\u001b[39;49m\u001b[43mretry_state\u001b[49m\u001b[43m)\u001b[49m\n\u001b[0;32m    380\u001b[0m     \u001b[38;5;28;01mif\u001b[39;00m \u001b[38;5;28misinstance\u001b[39m(do, DoAttempt):\n\u001b[0;32m    381\u001b[0m         \u001b[38;5;28;01mtry\u001b[39;00m:\n",
      "File \u001b[1;32m~\\AppData\\Local\\Programs\\Python\\Python310\\lib\\site-packages\\tenacity\\__init__.py:325\u001b[0m, in \u001b[0;36mBaseRetrying.iter\u001b[1;34m(self, retry_state)\u001b[0m\n\u001b[0;32m    323\u001b[0m     retry_exc \u001b[38;5;241m=\u001b[39m \u001b[38;5;28mself\u001b[39m\u001b[38;5;241m.\u001b[39mretry_error_cls(fut)\n\u001b[0;32m    324\u001b[0m     \u001b[38;5;28;01mif\u001b[39;00m \u001b[38;5;28mself\u001b[39m\u001b[38;5;241m.\u001b[39mreraise:\n\u001b[1;32m--> 325\u001b[0m         \u001b[38;5;28;01mraise\u001b[39;00m \u001b[43mretry_exc\u001b[49m\u001b[38;5;241;43m.\u001b[39;49m\u001b[43mreraise\u001b[49m\u001b[43m(\u001b[49m\u001b[43m)\u001b[49m\n\u001b[0;32m    326\u001b[0m     \u001b[38;5;28;01mraise\u001b[39;00m retry_exc \u001b[38;5;28;01mfrom\u001b[39;00m \u001b[38;5;21;01mfut\u001b[39;00m\u001b[38;5;21;01m.\u001b[39;00m\u001b[38;5;21;01mexception\u001b[39;00m()\n\u001b[0;32m    328\u001b[0m \u001b[38;5;28;01mif\u001b[39;00m \u001b[38;5;28mself\u001b[39m\u001b[38;5;241m.\u001b[39mwait:\n",
      "File \u001b[1;32m~\\AppData\\Local\\Programs\\Python\\Python310\\lib\\site-packages\\tenacity\\__init__.py:158\u001b[0m, in \u001b[0;36mRetryError.reraise\u001b[1;34m(self)\u001b[0m\n\u001b[0;32m    156\u001b[0m \u001b[38;5;28;01mdef\u001b[39;00m \u001b[38;5;21mreraise\u001b[39m(\u001b[38;5;28mself\u001b[39m) \u001b[38;5;241m-\u001b[39m\u001b[38;5;241m>\u001b[39m t\u001b[38;5;241m.\u001b[39mNoReturn:\n\u001b[0;32m    157\u001b[0m     \u001b[38;5;28;01mif\u001b[39;00m \u001b[38;5;28mself\u001b[39m\u001b[38;5;241m.\u001b[39mlast_attempt\u001b[38;5;241m.\u001b[39mfailed:\n\u001b[1;32m--> 158\u001b[0m         \u001b[38;5;28;01mraise\u001b[39;00m \u001b[38;5;28;43mself\u001b[39;49m\u001b[38;5;241;43m.\u001b[39;49m\u001b[43mlast_attempt\u001b[49m\u001b[38;5;241;43m.\u001b[39;49m\u001b[43mresult\u001b[49m\u001b[43m(\u001b[49m\u001b[43m)\u001b[49m\n\u001b[0;32m    159\u001b[0m     \u001b[38;5;28;01mraise\u001b[39;00m \u001b[38;5;28mself\u001b[39m\n",
      "File \u001b[1;32m~\\AppData\\Local\\Programs\\Python\\Python310\\lib\\concurrent\\futures\\_base.py:439\u001b[0m, in \u001b[0;36mFuture.result\u001b[1;34m(self, timeout)\u001b[0m\n\u001b[0;32m    437\u001b[0m     \u001b[38;5;28;01mraise\u001b[39;00m CancelledError()\n\u001b[0;32m    438\u001b[0m \u001b[38;5;28;01melif\u001b[39;00m \u001b[38;5;28mself\u001b[39m\u001b[38;5;241m.\u001b[39m_state \u001b[38;5;241m==\u001b[39m FINISHED:\n\u001b[1;32m--> 439\u001b[0m     \u001b[38;5;28;01mreturn\u001b[39;00m \u001b[38;5;28;43mself\u001b[39;49m\u001b[38;5;241;43m.\u001b[39;49m\u001b[43m__get_result\u001b[49m\u001b[43m(\u001b[49m\u001b[43m)\u001b[49m\n\u001b[0;32m    441\u001b[0m \u001b[38;5;28mself\u001b[39m\u001b[38;5;241m.\u001b[39m_condition\u001b[38;5;241m.\u001b[39mwait(timeout)\n\u001b[0;32m    443\u001b[0m \u001b[38;5;28;01mif\u001b[39;00m \u001b[38;5;28mself\u001b[39m\u001b[38;5;241m.\u001b[39m_state \u001b[38;5;129;01min\u001b[39;00m [CANCELLED, CANCELLED_AND_NOTIFIED]:\n",
      "File \u001b[1;32m~\\AppData\\Local\\Programs\\Python\\Python310\\lib\\concurrent\\futures\\_base.py:391\u001b[0m, in \u001b[0;36mFuture.__get_result\u001b[1;34m(self)\u001b[0m\n\u001b[0;32m    389\u001b[0m \u001b[38;5;28;01mif\u001b[39;00m \u001b[38;5;28mself\u001b[39m\u001b[38;5;241m.\u001b[39m_exception:\n\u001b[0;32m    390\u001b[0m     \u001b[38;5;28;01mtry\u001b[39;00m:\n\u001b[1;32m--> 391\u001b[0m         \u001b[38;5;28;01mraise\u001b[39;00m \u001b[38;5;28mself\u001b[39m\u001b[38;5;241m.\u001b[39m_exception\n\u001b[0;32m    392\u001b[0m     \u001b[38;5;28;01mfinally\u001b[39;00m:\n\u001b[0;32m    393\u001b[0m         \u001b[38;5;66;03m# Break a reference cycle with the exception in self._exception\u001b[39;00m\n\u001b[0;32m    394\u001b[0m         \u001b[38;5;28mself\u001b[39m \u001b[38;5;241m=\u001b[39m \u001b[38;5;28;01mNone\u001b[39;00m\n",
      "File \u001b[1;32m~\\AppData\\Local\\Programs\\Python\\Python310\\lib\\site-packages\\tenacity\\__init__.py:382\u001b[0m, in \u001b[0;36mRetrying.__call__\u001b[1;34m(self, fn, *args, **kwargs)\u001b[0m\n\u001b[0;32m    380\u001b[0m \u001b[38;5;28;01mif\u001b[39;00m \u001b[38;5;28misinstance\u001b[39m(do, DoAttempt):\n\u001b[0;32m    381\u001b[0m     \u001b[38;5;28;01mtry\u001b[39;00m:\n\u001b[1;32m--> 382\u001b[0m         result \u001b[38;5;241m=\u001b[39m fn(\u001b[38;5;241m*\u001b[39margs, \u001b[38;5;241m*\u001b[39m\u001b[38;5;241m*\u001b[39mkwargs)\n\u001b[0;32m    383\u001b[0m     \u001b[38;5;28;01mexcept\u001b[39;00m \u001b[38;5;167;01mBaseException\u001b[39;00m:  \u001b[38;5;66;03m# noqa: B902\u001b[39;00m\n\u001b[0;32m    384\u001b[0m         retry_state\u001b[38;5;241m.\u001b[39mset_exception(sys\u001b[38;5;241m.\u001b[39mexc_info())  \u001b[38;5;66;03m# type: ignore[arg-type]\u001b[39;00m\n",
      "File \u001b[1;32m~\\AppData\\Local\\Programs\\Python\\Python310\\lib\\site-packages\\langchain\\embeddings\\openai.py:104\u001b[0m, in \u001b[0;36membed_with_retry.<locals>._embed_with_retry\u001b[1;34m(**kwargs)\u001b[0m\n\u001b[0;32m    102\u001b[0m \u001b[38;5;129m@retry_decorator\u001b[39m\n\u001b[0;32m    103\u001b[0m \u001b[38;5;28;01mdef\u001b[39;00m \u001b[38;5;21m_embed_with_retry\u001b[39m(\u001b[38;5;241m*\u001b[39m\u001b[38;5;241m*\u001b[39mkwargs: Any) \u001b[38;5;241m-\u001b[39m\u001b[38;5;241m>\u001b[39m Any:\n\u001b[1;32m--> 104\u001b[0m     response \u001b[38;5;241m=\u001b[39m embeddings\u001b[38;5;241m.\u001b[39mclient\u001b[38;5;241m.\u001b[39mcreate(\u001b[38;5;241m*\u001b[39m\u001b[38;5;241m*\u001b[39mkwargs)\n\u001b[0;32m    105\u001b[0m     \u001b[38;5;28;01mreturn\u001b[39;00m _check_response(response, skip_empty\u001b[38;5;241m=\u001b[39membeddings\u001b[38;5;241m.\u001b[39mskip_empty)\n",
      "File \u001b[1;32m~\\AppData\\Local\\Programs\\Python\\Python310\\lib\\site-packages\\openai\\api_resources\\embedding.py:33\u001b[0m, in \u001b[0;36mEmbedding.create\u001b[1;34m(cls, *args, **kwargs)\u001b[0m\n\u001b[0;32m     31\u001b[0m \u001b[38;5;28;01mwhile\u001b[39;00m \u001b[38;5;28;01mTrue\u001b[39;00m:\n\u001b[0;32m     32\u001b[0m     \u001b[38;5;28;01mtry\u001b[39;00m:\n\u001b[1;32m---> 33\u001b[0m         response \u001b[38;5;241m=\u001b[39m \u001b[38;5;28msuper\u001b[39m()\u001b[38;5;241m.\u001b[39mcreate(\u001b[38;5;241m*\u001b[39margs, \u001b[38;5;241m*\u001b[39m\u001b[38;5;241m*\u001b[39mkwargs)\n\u001b[0;32m     35\u001b[0m         \u001b[38;5;66;03m# If a user specifies base64, we'll just return the encoded string.\u001b[39;00m\n\u001b[0;32m     36\u001b[0m         \u001b[38;5;66;03m# This is only for the default case.\u001b[39;00m\n\u001b[0;32m     37\u001b[0m         \u001b[38;5;28;01mif\u001b[39;00m \u001b[38;5;129;01mnot\u001b[39;00m user_provided_encoding_format:\n",
      "File \u001b[1;32m~\\AppData\\Local\\Programs\\Python\\Python310\\lib\\site-packages\\openai\\api_resources\\abstract\\engine_api_resource.py:153\u001b[0m, in \u001b[0;36mEngineAPIResource.create\u001b[1;34m(cls, api_key, api_base, api_type, request_id, api_version, organization, **params)\u001b[0m\n\u001b[0;32m    127\u001b[0m \u001b[38;5;129m@classmethod\u001b[39m\n\u001b[0;32m    128\u001b[0m \u001b[38;5;28;01mdef\u001b[39;00m \u001b[38;5;21mcreate\u001b[39m(\n\u001b[0;32m    129\u001b[0m     \u001b[38;5;28mcls\u001b[39m,\n\u001b[1;32m   (...)\u001b[0m\n\u001b[0;32m    136\u001b[0m     \u001b[38;5;241m*\u001b[39m\u001b[38;5;241m*\u001b[39mparams,\n\u001b[0;32m    137\u001b[0m ):\n\u001b[0;32m    138\u001b[0m     (\n\u001b[0;32m    139\u001b[0m         deployment_id,\n\u001b[0;32m    140\u001b[0m         engine,\n\u001b[1;32m   (...)\u001b[0m\n\u001b[0;32m    150\u001b[0m         api_key, api_base, api_type, api_version, organization, \u001b[38;5;241m*\u001b[39m\u001b[38;5;241m*\u001b[39mparams\n\u001b[0;32m    151\u001b[0m     )\n\u001b[1;32m--> 153\u001b[0m     response, _, api_key \u001b[38;5;241m=\u001b[39m \u001b[43mrequestor\u001b[49m\u001b[38;5;241;43m.\u001b[39;49m\u001b[43mrequest\u001b[49m\u001b[43m(\u001b[49m\n\u001b[0;32m    154\u001b[0m \u001b[43m        \u001b[49m\u001b[38;5;124;43m\"\u001b[39;49m\u001b[38;5;124;43mpost\u001b[39;49m\u001b[38;5;124;43m\"\u001b[39;49m\u001b[43m,\u001b[49m\n\u001b[0;32m    155\u001b[0m \u001b[43m        \u001b[49m\u001b[43murl\u001b[49m\u001b[43m,\u001b[49m\n\u001b[0;32m    156\u001b[0m \u001b[43m        \u001b[49m\u001b[43mparams\u001b[49m\u001b[38;5;241;43m=\u001b[39;49m\u001b[43mparams\u001b[49m\u001b[43m,\u001b[49m\n\u001b[0;32m    157\u001b[0m \u001b[43m        \u001b[49m\u001b[43mheaders\u001b[49m\u001b[38;5;241;43m=\u001b[39;49m\u001b[43mheaders\u001b[49m\u001b[43m,\u001b[49m\n\u001b[0;32m    158\u001b[0m \u001b[43m        \u001b[49m\u001b[43mstream\u001b[49m\u001b[38;5;241;43m=\u001b[39;49m\u001b[43mstream\u001b[49m\u001b[43m,\u001b[49m\n\u001b[0;32m    159\u001b[0m \u001b[43m        \u001b[49m\u001b[43mrequest_id\u001b[49m\u001b[38;5;241;43m=\u001b[39;49m\u001b[43mrequest_id\u001b[49m\u001b[43m,\u001b[49m\n\u001b[0;32m    160\u001b[0m \u001b[43m        \u001b[49m\u001b[43mrequest_timeout\u001b[49m\u001b[38;5;241;43m=\u001b[39;49m\u001b[43mrequest_timeout\u001b[49m\u001b[43m,\u001b[49m\n\u001b[0;32m    161\u001b[0m \u001b[43m    \u001b[49m\u001b[43m)\u001b[49m\n\u001b[0;32m    163\u001b[0m     \u001b[38;5;28;01mif\u001b[39;00m stream:\n\u001b[0;32m    164\u001b[0m         \u001b[38;5;66;03m# must be an iterator\u001b[39;00m\n\u001b[0;32m    165\u001b[0m         \u001b[38;5;28;01massert\u001b[39;00m \u001b[38;5;129;01mnot\u001b[39;00m \u001b[38;5;28misinstance\u001b[39m(response, OpenAIResponse)\n",
      "File \u001b[1;32m~\\AppData\\Local\\Programs\\Python\\Python310\\lib\\site-packages\\openai\\api_requestor.py:298\u001b[0m, in \u001b[0;36mAPIRequestor.request\u001b[1;34m(self, method, url, params, headers, files, stream, request_id, request_timeout)\u001b[0m\n\u001b[0;32m    277\u001b[0m \u001b[38;5;28;01mdef\u001b[39;00m \u001b[38;5;21mrequest\u001b[39m(\n\u001b[0;32m    278\u001b[0m     \u001b[38;5;28mself\u001b[39m,\n\u001b[0;32m    279\u001b[0m     method,\n\u001b[1;32m   (...)\u001b[0m\n\u001b[0;32m    286\u001b[0m     request_timeout: Optional[Union[\u001b[38;5;28mfloat\u001b[39m, Tuple[\u001b[38;5;28mfloat\u001b[39m, \u001b[38;5;28mfloat\u001b[39m]]] \u001b[38;5;241m=\u001b[39m \u001b[38;5;28;01mNone\u001b[39;00m,\n\u001b[0;32m    287\u001b[0m ) \u001b[38;5;241m-\u001b[39m\u001b[38;5;241m>\u001b[39m Tuple[Union[OpenAIResponse, Iterator[OpenAIResponse]], \u001b[38;5;28mbool\u001b[39m, \u001b[38;5;28mstr\u001b[39m]:\n\u001b[0;32m    288\u001b[0m     result \u001b[38;5;241m=\u001b[39m \u001b[38;5;28mself\u001b[39m\u001b[38;5;241m.\u001b[39mrequest_raw(\n\u001b[0;32m    289\u001b[0m         method\u001b[38;5;241m.\u001b[39mlower(),\n\u001b[0;32m    290\u001b[0m         url,\n\u001b[1;32m   (...)\u001b[0m\n\u001b[0;32m    296\u001b[0m         request_timeout\u001b[38;5;241m=\u001b[39mrequest_timeout,\n\u001b[0;32m    297\u001b[0m     )\n\u001b[1;32m--> 298\u001b[0m     resp, got_stream \u001b[38;5;241m=\u001b[39m \u001b[38;5;28;43mself\u001b[39;49m\u001b[38;5;241;43m.\u001b[39;49m\u001b[43m_interpret_response\u001b[49m\u001b[43m(\u001b[49m\u001b[43mresult\u001b[49m\u001b[43m,\u001b[49m\u001b[43m \u001b[49m\u001b[43mstream\u001b[49m\u001b[43m)\u001b[49m\n\u001b[0;32m    299\u001b[0m     \u001b[38;5;28;01mreturn\u001b[39;00m resp, got_stream, \u001b[38;5;28mself\u001b[39m\u001b[38;5;241m.\u001b[39mapi_key\n",
      "File \u001b[1;32m~\\AppData\\Local\\Programs\\Python\\Python310\\lib\\site-packages\\openai\\api_requestor.py:700\u001b[0m, in \u001b[0;36mAPIRequestor._interpret_response\u001b[1;34m(self, result, stream)\u001b[0m\n\u001b[0;32m    692\u001b[0m     \u001b[38;5;28;01mreturn\u001b[39;00m (\n\u001b[0;32m    693\u001b[0m         \u001b[38;5;28mself\u001b[39m\u001b[38;5;241m.\u001b[39m_interpret_response_line(\n\u001b[0;32m    694\u001b[0m             line, result\u001b[38;5;241m.\u001b[39mstatus_code, result\u001b[38;5;241m.\u001b[39mheaders, stream\u001b[38;5;241m=\u001b[39m\u001b[38;5;28;01mTrue\u001b[39;00m\n\u001b[0;32m    695\u001b[0m         )\n\u001b[0;32m    696\u001b[0m         \u001b[38;5;28;01mfor\u001b[39;00m line \u001b[38;5;129;01min\u001b[39;00m parse_stream(result\u001b[38;5;241m.\u001b[39miter_lines())\n\u001b[0;32m    697\u001b[0m     ), \u001b[38;5;28;01mTrue\u001b[39;00m\n\u001b[0;32m    698\u001b[0m \u001b[38;5;28;01melse\u001b[39;00m:\n\u001b[0;32m    699\u001b[0m     \u001b[38;5;28;01mreturn\u001b[39;00m (\n\u001b[1;32m--> 700\u001b[0m         \u001b[38;5;28;43mself\u001b[39;49m\u001b[38;5;241;43m.\u001b[39;49m\u001b[43m_interpret_response_line\u001b[49m\u001b[43m(\u001b[49m\n\u001b[0;32m    701\u001b[0m \u001b[43m            \u001b[49m\u001b[43mresult\u001b[49m\u001b[38;5;241;43m.\u001b[39;49m\u001b[43mcontent\u001b[49m\u001b[38;5;241;43m.\u001b[39;49m\u001b[43mdecode\u001b[49m\u001b[43m(\u001b[49m\u001b[38;5;124;43m\"\u001b[39;49m\u001b[38;5;124;43mutf-8\u001b[39;49m\u001b[38;5;124;43m\"\u001b[39;49m\u001b[43m)\u001b[49m\u001b[43m,\u001b[49m\n\u001b[0;32m    702\u001b[0m \u001b[43m            \u001b[49m\u001b[43mresult\u001b[49m\u001b[38;5;241;43m.\u001b[39;49m\u001b[43mstatus_code\u001b[49m\u001b[43m,\u001b[49m\n\u001b[0;32m    703\u001b[0m \u001b[43m            \u001b[49m\u001b[43mresult\u001b[49m\u001b[38;5;241;43m.\u001b[39;49m\u001b[43mheaders\u001b[49m\u001b[43m,\u001b[49m\n\u001b[0;32m    704\u001b[0m \u001b[43m            \u001b[49m\u001b[43mstream\u001b[49m\u001b[38;5;241;43m=\u001b[39;49m\u001b[38;5;28;43;01mFalse\u001b[39;49;00m\u001b[43m,\u001b[49m\n\u001b[0;32m    705\u001b[0m \u001b[43m        \u001b[49m\u001b[43m)\u001b[49m,\n\u001b[0;32m    706\u001b[0m         \u001b[38;5;28;01mFalse\u001b[39;00m,\n\u001b[0;32m    707\u001b[0m     )\n",
      "File \u001b[1;32m~\\AppData\\Local\\Programs\\Python\\Python310\\lib\\site-packages\\openai\\api_requestor.py:765\u001b[0m, in \u001b[0;36mAPIRequestor._interpret_response_line\u001b[1;34m(self, rbody, rcode, rheaders, stream)\u001b[0m\n\u001b[0;32m    763\u001b[0m stream_error \u001b[38;5;241m=\u001b[39m stream \u001b[38;5;129;01mand\u001b[39;00m \u001b[38;5;124m\"\u001b[39m\u001b[38;5;124merror\u001b[39m\u001b[38;5;124m\"\u001b[39m \u001b[38;5;129;01min\u001b[39;00m resp\u001b[38;5;241m.\u001b[39mdata\n\u001b[0;32m    764\u001b[0m \u001b[38;5;28;01mif\u001b[39;00m stream_error \u001b[38;5;129;01mor\u001b[39;00m \u001b[38;5;129;01mnot\u001b[39;00m \u001b[38;5;241m200\u001b[39m \u001b[38;5;241m<\u001b[39m\u001b[38;5;241m=\u001b[39m rcode \u001b[38;5;241m<\u001b[39m \u001b[38;5;241m300\u001b[39m:\n\u001b[1;32m--> 765\u001b[0m     \u001b[38;5;28;01mraise\u001b[39;00m \u001b[38;5;28mself\u001b[39m\u001b[38;5;241m.\u001b[39mhandle_error_response(\n\u001b[0;32m    766\u001b[0m         rbody, rcode, resp\u001b[38;5;241m.\u001b[39mdata, rheaders, stream_error\u001b[38;5;241m=\u001b[39mstream_error\n\u001b[0;32m    767\u001b[0m     )\n\u001b[0;32m    768\u001b[0m \u001b[38;5;28;01mreturn\u001b[39;00m resp\n",
      "\u001b[1;31mRateLimitError\u001b[0m: You exceeded your current quota, please check your plan and billing details. For more information on this error, read the docs: https://platform.openai.com/docs/guides/error-codes/api-errors."
     ]
    }
   ],
   "source": [
    "embeddings= OpenAIEmbeddings()\n",
    "\n",
    "vectors=FAISS.from_documents(data, embeddings)"
   ]
  },
  {
   "cell_type": "code",
   "execution_count": 26,
   "id": "fc36a701",
   "metadata": {},
   "outputs": [],
   "source": [
    "import pickle"
   ]
  },
  {
   "cell_type": "code",
   "execution_count": 28,
   "id": "62f6a5c2",
   "metadata": {},
   "outputs": [
    {
     "ename": "NameError",
     "evalue": "name 'vectors' is not defined",
     "output_type": "error",
     "traceback": [
      "\u001b[1;31m---------------------------------------------------------------------------\u001b[0m",
      "\u001b[1;31mNameError\u001b[0m                                 Traceback (most recent call last)",
      "Input \u001b[1;32mIn [28]\u001b[0m, in \u001b[0;36m<cell line: 4>\u001b[1;34m()\u001b[0m\n\u001b[0;32m      3\u001b[0m     os\u001b[38;5;241m.\u001b[39mremove(csv_path)\n\u001b[0;32m      4\u001b[0m \u001b[38;5;28;01mwith\u001b[39;00m \u001b[38;5;28mopen\u001b[39m(file_path, \u001b[38;5;124m\"\u001b[39m\u001b[38;5;124mwb\u001b[39m\u001b[38;5;124m\"\u001b[39m) \u001b[38;5;28;01mas\u001b[39;00m f:\n\u001b[1;32m----> 5\u001b[0m     pickle\u001b[38;5;241m.\u001b[39mdump(\u001b[43mvectors\u001b[49m, f)\n",
      "\u001b[1;31mNameError\u001b[0m: name 'vectors' is not defined"
     ]
    }
   ],
   "source": [
    "file_path='vector_index.pkl'\n",
    "if os.path.exists(csv_path):\n",
    "    os.remove(csv_path)\n",
    "with open(file_path, \"wb\") as f:\n",
    "    pickle.dump(vectors, f)"
   ]
  },
  {
   "cell_type": "code",
   "execution_count": null,
   "id": "d07c749f",
   "metadata": {},
   "outputs": [],
   "source": []
  }
 ],
 "metadata": {
  "kernelspec": {
   "display_name": "Python 3 (ipykernel)",
   "language": "python",
   "name": "python3"
  },
  "language_info": {
   "codemirror_mode": {
    "name": "ipython",
    "version": 3
   },
   "file_extension": ".py",
   "mimetype": "text/x-python",
   "name": "python",
   "nbconvert_exporter": "python",
   "pygments_lexer": "ipython3",
   "version": "3.10.5"
  }
 },
 "nbformat": 4,
 "nbformat_minor": 5
}
