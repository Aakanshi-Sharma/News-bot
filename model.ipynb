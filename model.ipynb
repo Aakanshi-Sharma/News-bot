{
 "cells": [
  {
   "cell_type": "code",
   "execution_count": 13,
   "id": "3244da75",
   "metadata": {},
   "outputs": [],
   "source": [
    "import requests\n",
    "from bs4 import BeautifulSoup"
   ]
  },
  {
   "cell_type": "code",
   "execution_count": 21,
   "id": "0899882e",
   "metadata": {},
   "outputs": [],
   "source": [
    "urls=[\"https://www.ndtv.com/world-news/hamas-frees-2-more-hostages-amid-israels-300-strikes-in-24-hours-10-points-4508596\"\n",
    ", \"https://sports.ndtv.com/icc-cricket-world-cup-2023/hurt-babar-azams-honest-admission-as-afghanistan-stun-pakistan-in-cricket-world-cup-2023-4508701#pfrom=home-ndtv_worldcup\"]\n",
    "responses=[]\n",
    "for url in urls:\n",
    "    response=requests.get(url)\n",
    "    if response.status_code==200:\n",
    "        soup = BeautifulSoup(response.text, 'html.parser')\n",
    "        text = soup.get_text()\n",
    "        responses.append((text, response.url))\n",
    "    else:\n",
    "        print(f\"Failed to retrieve the URL. Url={url} Status_code :{response.status_code}\")"
   ]
  },
  {
   "cell_type": "code",
   "execution_count": 25,
   "id": "0fb59ad9",
   "metadata": {},
   "outputs": [
    {
     "data": {
      "text/plain": [
       "('\"Hurt\" Babar Azam\\'s Honest Admission As Afghanistan Stun Pakistan In Cricket World Cup 2023 | Cricket Newsarrow-downredditsnapchattwitterfacebookcommentsemailprintersearchbelltop-navreddit-fillsnapchat-filltwitter-fillfacebook-fillsharewhatsapp-fillbookmarkNDTVWORLD EDITIONहिंदीWORLD CUP 2023 LiveMOVIESFOODLIFESTYLEHEALTHTECHBUSINESSGAMESBIG BONUSSWASTHSHOPPING SaleDon\\'t MissFirst-class Niclas Fuellkrug Lands For Dortmund Ahead Of Bremen Reunion\"Like Tiger In Cage\": Roger Federer On Rafael Nadal\\'s Game PersonalityAnushka Sharma\\'s Four Word Reaction To Virat Kohli\\'s Ton Against PakistanBangladesh\\'s Mushfiqur Rahim To Miss India Match In Asia Cup 2023AdvertisementENG Select Languagesहिंदी | HindiWorld Cup 2023CricketFootballFormula 1TennisGolfBadmintonKabaddiNBABoxingAthleticsChessSwimmingShootingWrestlingTable tennisOthersportsLoginDark / Light mode\"Hurt\" Babar Azam\\'s Honest Admission As Afghanistan Stun Pakistan In Cricket World Cup 2023facebooktwitterWhatsAppSettings Change Font Size A  AChange Languageहिंदी | HindiFocus on StoryWorld Cup 2023 05 Oct 23 to 19 Nov 23ScoresNewsPhotosVideosFixturesPoints tableteamsplayersVenuesMore ResultsStatsLive Cricket Matches Cricket MatchesFootball MatchesAll Matches India Matches World Cup 2023Football Matches Cricket MatchesFootball MatchesAll Matches ISL World Cup 2023All Matches Cricket MatchesFootball MatchesAll Matches India Matches World Cup 2023Match 23, ICC Cricket World Cup, 2023 at Mumbai, Oct 24, 2023 notify notifySouth AfricaBangladeshTue, Oct 24, 2023 - 2:00 PM ISTMatch 24, ICC Cricket World Cup, 2023 at Delhi, Oct 25, 2023 notify notifyAustraliaNetherlandsWed, Oct 25, 2023 - 2:00 PM ISTMatch 25, ICC Cricket World Cup, 2023 at Bengaluru, Oct 26, 2023 notify notifyEnglandSri LankaThu, Oct 26, 2023 - 2:00 PM ISTMatch 22, ICC Cricket World Cup, 2023 at Chennai, Oct 23, 2023Pakistan282/7 (50.0)Afghanistan286/2 (49.0)Afghanistan beat Pakistan by 8 wicketsMatch 21, ICC Cricket World Cup, 2023 at Dharamsala, Oct 22, 2023India274/6 (48.0)New Zealand273 (50.0)India beat New Zealand by 4 wicketsMatch 20, ICC Cricket World Cup, 2023 at Mumbai, Oct 21, 2023England170 (22.0)South Africa399/7 (50.0)South Africa beat England by 229 runsSports Home World Cup 2023 News Hurt Babar Azams Honest Admission As Afghanistan Stun Pakistan In Cricket World Cup 2023Story ProgressBack to home\"Hurt\" Babar Azam\\'s Honest Admission As Afghanistan Stun Pakistan In Cricket World Cup 2023Afghanistan achieved their first-ever one-day victory over Pakistan in eight attempts as they chased down a 283-run target with an over to spare.Agence France-PresseUpdated: October 24, 2023 10:05 AM ISTRead Time:2 minfacebook twitter WhatsApp redditE-mail Babar Azam admitted to be hurt by Afghanistan\\'s victory over Pakistan© TwitterVisibly shaken Pakistan captain Babar Azam admitted \"we are hurt\" after his team was stunned in an eight-wicket defeat by Afghanistan at the World Cup on Monday which put their semi-finals hopes in peril. Afghanistan achieved their first-ever one-day victory over Pakistan in eight attempts as they chased down a 283-run target with an over to spare. Ibrahim Zadran hit a brilliant 113-ball 87 while fellow opener Rahmanullah Gurbaz made a 53-ball 65 to build a strong platform, putting on 130 for the first wicket.Rahmat Shah\\'s unbeaten 84-ball 77 and skipper Hashmatullah Shahidi\\'s 48 not out sealed victory against a sloppy Pakistan team.\"We are hurt as a team,\" said Azam whose side now have three defeats and two wins in five matches.They face a formidable South Africa at the same Chennai venue on Friday.\"We must feel the disappointment and my message to my team for the remaining matches will be to learn from this defeat,\" said Azam, whose 74 off 95 balls aided by opener Abdullah Shafique\\'s 58 guided Pakistan to 282-7 after they won the toss and batted.Advertisement\"We achieved what we set out to do when we batted but we were not up to the mark in bowling and fielding,\" said Azam whose bowlers conceded 17 boundaries in the first 16 overs.\"We failed to put them under pressure but I congratulate Afghanistan for this victory.\"Afghanistan, who played four specialist spinners on Monday, also now have two wins in five matches.\"Afghanistan\\'s spinners are of good quality so the plan was to not give them wickets until the 40th over and then charge in the last ten but we fell some 10-15 runs short,\" said Azam.AdvertisementNoor Ahmad, 18, was the pick of the Afghanistan spinners with 3-49 on his World Cup debut while the more experienced slow bowlers, Rashid Khan and Mujeeb Ur Rahman went wicketless.Despite Monday\\'s shock defeat, Azam stressed Pakistan can still qualify for the semi-finals.\"From now on we need to play our best cricket in all departments and must overcome our mistakes.\"Azam admitted that the team is suffering from the absence at the tournament of fast bowler Naseem Shah who was ruled out of the World Cup with a shoulder injury.\"Of course, Naseem is missed badly because he had been part of our scheme but overall our bowling has not clicked,\" said Azam.\"We knew there are no margin for error on these grounds and we failed to execute plans.\"Listen to the latest songs, only on JioSaavn.comHe added: \"We have been perfect in training but I think our bowlers over-tried in matches and have leaked runs. We need to focus on positives and adopt a different mind-set.\"(Except for the headline, this story has not been edited by NDTV staff and is published from a syndicated feed.)Comments Topics mentioned in this article Pakistan Cricket Team  Afghanistan  Babar Azam World Cup 2023 CricketGet the Latest World Cup 2023 Updates and check out\\xa0World Cup 2023 Schedules.Like us on Facebook or follow us on Twitter for more sports updates. You can also download the NDTV Cricket app for Android or iOS.Related ArticlesSouth Africa vs Bangladesh Live Score, World Cup 2023: Proteas Look To Avoid Another UpsetGunfire And Crackers: Celebrations In Kabul As Afghanistan Stun Pakistan In World Cup\"Don\\'t See Any Attitude From Team While...\": Babar Azam Tears Into Pakistan Players\\'Fulfilled Promise\\': Irfan Pathan Dances With Rashid Khan After Afghanistan\\'s Win vs Pakistan. WatchWatch: Mickey Arthur Can\\'t Keep His Cool, Walks Off Seeing Pakistan\\'s Poor Fielding DisplayAdvertisementAdvertisementWorld Cup 2023 Points TableTeamMWLTNRPTSNRR IND5500010+1.353 NZ541008+1.481 SA431006+2.212 AUS422004-0.193 PAK523004-0.400Full Points TableAdvertisementNow TrendingEPL 2022-23Live Cricket ScoreIndia Cricket ScheduleVirat KohliISL ScheduleAdvertisementTrending LinksEPL 2022-23Live Cricket ScoreIndia Cricket ScheduleVirat KohliISL ScheduleFollow us on:facebook twitterCricketScoresSeriesFixturesResultsNewsPhotosVideosFeaturesTeamsPlayersVenuesICC RankingFootballISL 2022-23EPL 2022-23NewsFeaturesPhotosFixturesResultsVideosTeamsPlayersMatchcentreMore SportsFormula 1 Tennis Hockey Badminton Golf Nba Kabaddi Shooting Swimming Table TennisAdvertiseAbout UsFeedbackDisclaimerInvestorComplaint RedressalCareersContact UsThis website follows the DNPA Code of Ethics © Copyright NDTV Convergence Limited 2023. All rights reserved.Select Language Languagesहिंदी | HindiDark / Light modeSearch  Featured LinksWorld Cup 2023Asian Games Medals TallyIndia vs Australia ScheduleWorld Cup Points TableFeatured Sports Cricket Football Formula 1 Tennis Hockey Golf BadmintonMore SportsKabaddiNBABoxingAthleticsChessSwimmingShootingWrestlingTable tennisOthersportsMore from NDTVNDTVBusinessHindiMoviesCricketHealthFoodTechAutoAppsTrainsArt\\n\\n\\n\\n\\n\\n\\n\\n\\n\\n\\n\\n\\n\\n\\n\\narrow-rgtarrow-nextarrow-uprefreshcloselinkcogstarbookzapcricketfootballtennisformula-1badmintonhockeygolfboxingndtv-ncheckleft-arrowright-arrow',\n",
       " 'https://sports.ndtv.com/icc-cricket-world-cup-2023/hurt-babar-azams-honest-admission-as-afghanistan-stun-pakistan-in-cricket-world-cup-2023-4508701#pfrom=home-ndtv_worldcup')"
      ]
     },
     "execution_count": 25,
     "metadata": {},
     "output_type": "execute_result"
    }
   ],
   "source": [
    "responses[1]"
   ]
  },
  {
   "cell_type": "code",
   "execution_count": null,
   "id": "105af95b",
   "metadata": {},
   "outputs": [],
   "source": []
  }
 ],
 "metadata": {
  "kernelspec": {
   "display_name": "Python 3 (ipykernel)",
   "language": "python",
   "name": "python3"
  },
  "language_info": {
   "codemirror_mode": {
    "name": "ipython",
    "version": 3
   },
   "file_extension": ".py",
   "mimetype": "text/x-python",
   "name": "python",
   "nbconvert_exporter": "python",
   "pygments_lexer": "ipython3",
   "version": "3.10.5"
  }
 },
 "nbformat": 4,
 "nbformat_minor": 5
}
