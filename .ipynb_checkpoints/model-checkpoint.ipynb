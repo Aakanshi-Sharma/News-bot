{
 "cells": [
  {
   "cell_type": "code",
   "execution_count": 13,
   "id": "4baa82d6",
   "metadata": {},
   "outputs": [],
   "source": [
    "import requests\n",
    "from bs4 import BeautifulSoup"
   ]
  },
  {
   "cell_type": "code",
   "execution_count": 19,
   "id": "337f36e5",
   "metadata": {},
   "outputs": [
    {
     "name": "stdout",
     "output_type": "stream",
     "text": [
      "Failed to retrieve the URL. Url=https://www.hindustantimes.com/world-news/hamas-fighters-chilling-confession-10k-stipend-per-hostage-wasting-bullets-on-corpse-101698105565342.html Status_code :401\n"
     ]
    }
   ],
   "source": [
    "urls=[\"https://www.ndtv.com/world-news/hamas-frees-2-more-hostages-amid-israels-300-strikes-in-24-hours-10-points-4508596\"\n",
    ", \"https://www.hindustantimes.com/cricket/michael-vaughan-aims-veiled-dig-at-mickey-arthur-for-bcci-event-remark-after-pakistans-stunning-loss-to-afghanistan-101698122056413.html\"]\n",
    "responses=[]\n",
    "for url in urls:\n",
    "    response=requests.get(url)\n",
    "    if response.status_code==200:\n",
    "        soup = BeautifulSoup(response.text, 'html.parser')\n",
    "        text = soup.get_text()\n",
    "        responses.append((text, response.url))\n",
    "    else:\n",
    "        print(f\"Failed to retrieve the URL. Url={url} Status_code :{response.status_code}\")"
   ]
  },
  {
   "cell_type": "code",
   "execution_count": 17,
   "id": "702fcbaf",
   "metadata": {},
   "outputs": [
    {
     "data": {
      "text/plain": [
       "[('Israel-Hamas War: Hamas Releases 2 More Hostages Amid Israel Big Warning: 10 Points\\nNDTVWorld EditionहिंदीWORLD CUP 2023LiveMOVIESFOODLIFESTYLEHEALTHTECHBUSINESSGamesBig BonusSWASTHSHOPPINGSaleLive TV Latest Video Opinion Diaspora India Global Asia Australia Europe UK US Study Abroad Student Reporter Hamas Releases 2 More Hostages Amid Israel\\'s Big Warning: 10 PointsSearchNewsWorld NewsHamas Releases 2 More Hostages Amid Israel\\'s Big Warning: 10 Points Hamas Releases 2 More Hostages Amid Israel\\'s Big Warning: 10 Points  Israel-Hamas War: The release comes days after two American women, Judith Tai Raanan and her daughter Natalie Shoshana Raanan, were freed. World NewsEdited by Sumana NandyUpdated: October 24, 2023 12:20 pm ISTIsrael-Hamas War: Israel said it won\\'t delay a possible ground invasion of Gaza over the hostages (File)New Delhi: \\r\\n\\t\\t\\t\\t\\t\\t\\t\\t\\t\\t\\t\\t\\t\\t\\t\\t\\t\\t\\t\\t\\t\\t\\t\\tHamas freed two more Israeli hostages, both women, on Monday, the group said. Over 5,000 people have been killed in Israel strikes on Gaza, Hamas said, since its Sabbath attack. \\t\\t\\t\\t\\t\\t\\t\\t\\t\\tHere are 10 points on this big story:The two women were freed for \"compelling humanitarian\" reasons following mediation by Qatar and Egypt, the Hamas\\' military wing said.They were taken to the Rafah border crossing between Gaza and Egypt, days after two American women, Judith Tai Raanan and her daughter Natalie Shoshana Raanan, were freed.According to several media reports, Hamas might release another 50 hostages. Red Cross representatives are allegedly on their way to Gaza to take out the hostages with dual nationalities, they claimed.Tel Aviv on Monday increased the number of hostages it has confirmed to 222 people. Israel\\'s army said it was preparing for \"unrelenting attacks\" to dismantle Hamas even as former US President Barack Obama warned that \"any Israeli military strategy that ignores human costs could ultimately backfire\".Israel won\\'t delay a possible ground invasion of Gaza over the hostages, Energy Minister Israel Katz told German tabloid newspaper Bild, adding that everything would be done to bring the hostages home. \"But that cannot hinder our actions including the ground offensive, if we decide on it,\" he was quoted as saying.Hamas has killed 1,400 people in the worst-ever attack in the nation\\'s 75-year history, Israel said.Gaza\\'s health ministry said the death count in the Strip has surged to over 5,000 with the Israel military saying on Monday that it had conducted over 300 new strikes in 24 hours. The death count includes over 2,000 children, the ministry said.The European Union is considering a call for a humanitarian pause to the Israel-Hamas war.\\xa0French President Emmanuel Macron arrived in Tel Aviv today to express his country\\'s \"full solidarity\" with Israel.\\xa030 French citizens were killed in the Hamas\\' Sabbath attack.The US has warned\\xa0that a Gaza ceasefire would benefit Hamas, reported news agency AFP.\\xa0A ceasefire would \"give Hamas the ability to rest, to refit, and to get ready to continue launching terrorist attacks against Israel\", State Department spokesman Matthew Miller told reporters.President Joe Biden said that any discussions about a Gaza ceasefire could only take place if Hamas frees all hostages seized from Israel in its October 7 attack. \"We should have those hostages released and then we can talk,\" Biden said at a White House event when asked if he would support a \"hostages-for-ceasefire\" deal, AFP reported.Post a comment Track Latest News Live on NDTV.com and get news updates from India  and around the world. Watch Live News:Follow Us:Hamas hostagesIsrael-Hamas warIsrael strike against HamasTrending Hamas Releases 2 More Hostages Amid Israel\\'s Big Warning: 10 PointsWatch: Hostage Shakes Hands With Hamas Operative, Leaves With \\'Shalom\\'\"To Those Sent Back From Pakistan...\": Afghan Star\\'s Bold Post-Win RemarkWatch: Arthur Can\\'t Keep Cool, Walks Off Seeing Pakistan\\'s Poor FieldingShifting Stance, China Now Says Israel Has \"Right To Self-Defence\"Watch: Irfan \\'Fulfils Promise\\', Dances With Rashid After Afghanistan\\'s Win\\n    \\n        \\n    \\r\\n\\t\\t\\t\\t\\t\\t\\t.\\r\\n                        Shifting Stance, China Now Says Israel Has \"Right To Self-Defence\"US Advises Israel To \"Hold Off\" On Gaza Assault Amid Hostage Crisis: ReportAdvertisementAdvertisementAdvertisementAdvertisementQuick LinksLatest NewsWorld NewsPNR StatusEducation NewsBusiness NewsSports NewsMP Chhattisgarh NewsRajasthan NewsAmazon Great Indian FestivalBest Sarees For Durga PujaInfluencersSpeakers Under 10000Trending Navratri Garba JewelleryIsrael-Hamas WarMahua MoitraDussehra 2023AdvertisementAdvertisement................................ Advertisement ................................Latest News\\n                                    Sri Lanka Approves Free Tourist Visas For Visitors From India, 6 Nations                                \\n                                    10 Health Issues That May Be Caused By Weather Change In Fall & How To Combat Them                                \\n                                    Katrina Kaif\\'s Rs 19K Raw Mango Saree Brings Sunshine To The Festivities                                \\n                                    Madhya Pradesh\\'s Bizarre Currency Exchange Plot Involves Occultist, Djinn                                \\n                                    Colleges For Working Professionals Who Want To Pursue Engineering                                About UsAdvertiseBrand AmpArchivesAppsCareersChannelsDisclaimerFeedbackInvestorsRedressalsService TermsThis website follows the DNPA Code of Ethics © COPYRIGHT NDTV CONVERGENCE LIMITED 2023. ALL RIGHTS RESERVED.livetvarrowprintemailchatlinkedinredditWhatsAppfacebooktwittermorenotificationsearchsnapchatkoo\\n',\n",
       "  'https://www.ndtv.com/world-news/hamas-frees-2-more-hostages-amid-israels-300-strikes-in-24-hours-10-points-4508596')]"
      ]
     },
     "execution_count": 17,
     "metadata": {},
     "output_type": "execute_result"
    }
   ],
   "source": [
    "responses"
   ]
  },
  {
   "cell_type": "code",
   "execution_count": null,
   "id": "2a2b36df",
   "metadata": {},
   "outputs": [],
   "source": []
  }
 ],
 "metadata": {
  "kernelspec": {
   "display_name": "Python 3 (ipykernel)",
   "language": "python",
   "name": "python3"
  },
  "language_info": {
   "codemirror_mode": {
    "name": "ipython",
    "version": 3
   },
   "file_extension": ".py",
   "mimetype": "text/x-python",
   "name": "python",
   "nbconvert_exporter": "python",
   "pygments_lexer": "ipython3",
   "version": "3.10.5"
  }
 },
 "nbformat": 4,
 "nbformat_minor": 5
}
