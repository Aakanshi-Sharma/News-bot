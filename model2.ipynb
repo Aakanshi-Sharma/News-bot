{
 "cells": [
  {
   "cell_type": "code",
   "execution_count": 1,
   "id": "ea776539",
   "metadata": {},
   "outputs": [],
   "source": [
    "import os\n",
    "import streamlit as st\n",
    "import pickle\n",
    "import time\n",
    "import langchain\n",
    "from langchain import OpenAI\n",
    "from langchain.chains import RetrievalQAWithSourcesChain\n",
    "from langchain.chains.qa_with_sources.loading import load_qa_with_sources_chain\n",
    "from langchain.text_splitter import RecursiveCharacterTextSplitter\n",
    "from langchain.document_loaders import UnstructuredURLLoader\n",
    "from langchain.embeddings import OpenAIEmbeddings\n",
    "from langchain.vectorstores import FAISS\n",
    "import requests\n",
    "from bs4 import BeautifulSoup"
   ]
  },
  {
   "cell_type": "code",
   "execution_count": 2,
   "id": "a814a82a",
   "metadata": {},
   "outputs": [],
   "source": [
    "import pandas as pd\n",
    "key= pd.read_csv(\"key.txt\")"
   ]
  },
  {
   "cell_type": "code",
   "execution_count": 3,
   "id": "7e044e3a",
   "metadata": {},
   "outputs": [],
   "source": [
    "llm= OpenAI(temperature =0.9 , max_tokens=500)"
   ]
  },
  {
   "cell_type": "code",
   "execution_count": 7,
   "id": "e3114618",
   "metadata": {},
   "outputs": [
    {
     "name": "stdout",
     "output_type": "stream",
     "text": [
      "Requirement already satisfied: python-magic-bin in c:\\users\\dell\\appdata\\local\\programs\\python\\python310\\lib\\site-packages (0.4.14)\n"
     ]
    },
    {
     "name": "stderr",
     "output_type": "stream",
     "text": [
      "WARNING: Ignoring invalid distribution -rotobuf (c:\\users\\dell\\appdata\\local\\programs\\python\\python310\\lib\\site-packages)\n",
      "WARNING: Ignoring invalid distribution -rotobuf (c:\\users\\dell\\appdata\\local\\programs\\python\\python310\\lib\\site-packages)\n",
      "WARNING: Ignoring invalid distribution -rotobuf (c:\\users\\dell\\appdata\\local\\programs\\python\\python310\\lib\\site-packages)\n",
      "WARNING: Ignoring invalid distribution -rotobuf (c:\\users\\dell\\appdata\\local\\programs\\python\\python310\\lib\\site-packages)\n",
      "WARNING: Ignoring invalid distribution -rotobuf (c:\\users\\dell\\appdata\\local\\programs\\python\\python310\\lib\\site-packages)\n",
      "WARNING: Ignoring invalid distribution -rotobuf (c:\\users\\dell\\appdata\\local\\programs\\python\\python310\\lib\\site-packages)\n",
      "\n",
      "[notice] A new release of pip available: 22.3.1 -> 23.3.1\n",
      "[notice] To update, run: python.exe -m pip install --upgrade pip\n"
     ]
    }
   ],
   "source": [
    "!pip install python-magic-bin"
   ]
  },
  {
   "cell_type": "code",
   "execution_count": 9,
   "id": "c501d4b0",
   "metadata": {},
   "outputs": [
    {
     "name": "stdout",
     "output_type": "stream",
     "text": [
      "Collecting python-libmagic\n",
      "  Using cached python_libmagic-0.4.0-py3-none-any.whl\n",
      "Collecting cffi==1.7.0\n",
      "  Using cached cffi-1.7.0.tar.gz (400 kB)\n",
      "  Preparing metadata (setup.py): started\n",
      "  Preparing metadata (setup.py): finished with status 'done'\n",
      "Requirement already satisfied: pycparser in c:\\users\\dell\\appdata\\local\\programs\\python\\python310\\lib\\site-packages (from cffi==1.7.0->python-libmagic) (2.21)\n",
      "Building wheels for collected packages: cffi\n",
      "  Building wheel for cffi (setup.py): started\n",
      "  Building wheel for cffi (setup.py): finished with status 'error'\n",
      "  Running setup.py clean for cffi\n",
      "Failed to build cffi\n",
      "Installing collected packages: cffi, python-libmagic\n",
      "  Attempting uninstall: cffi\n",
      "    Found existing installation: cffi 1.15.1\n",
      "    Uninstalling cffi-1.15.1:\n",
      "      Successfully uninstalled cffi-1.15.1\n",
      "  Running setup.py install for cffi: started\n",
      "  Running setup.py install for cffi: finished with status 'error'\n",
      "  Rolling back uninstall of cffi\n",
      "  Moving to c:\\users\\dell\\appdata\\local\\programs\\python\\python310\\lib\\site-packages\\_cffi_backend.cp310-win_amd64.pyd\n",
      "   from C:\\Users\\DELL\\AppData\\Local\\Temp\\pip-uninstall-g2bfqt9e\\_cffi_backend.cp310-win_amd64.pyd\n",
      "  Moving to c:\\users\\dell\\appdata\\local\\programs\\python\\python310\\lib\\site-packages\\cffi-1.15.1.dist-info\\\n",
      "   from C:\\Users\\DELL\\AppData\\Local\\Programs\\Python\\Python310\\Lib\\site-packages\\~ffi-1.15.1.dist-info\n",
      "  Moving to c:\\users\\dell\\appdata\\local\\programs\\python\\python310\\lib\\site-packages\\cffi\\\n",
      "   from C:\\Users\\DELL\\AppData\\Local\\Programs\\Python\\Python310\\Lib\\site-packages\\~ffi\n"
     ]
    },
    {
     "name": "stderr",
     "output_type": "stream",
     "text": [
      "WARNING: Ignoring invalid distribution -rotobuf (c:\\users\\dell\\appdata\\local\\programs\\python\\python310\\lib\\site-packages)\n",
      "WARNING: Ignoring invalid distribution -rotobuf (c:\\users\\dell\\appdata\\local\\programs\\python\\python310\\lib\\site-packages)\n",
      "  error: subprocess-exited-with-error\n",
      "  \n",
      "  python setup.py bdist_wheel did not run successfully.\n",
      "  exit code: 1\n",
      "  \n",
      "  [26 lines of output]\n",
      "  running bdist_wheel\n",
      "  running build\n",
      "  running build_py\n",
      "  creating build\n",
      "  creating build\\lib.win-amd64-3.10\n",
      "  creating build\\lib.win-amd64-3.10\\cffi\n",
      "  copying cffi\\api.py -> build\\lib.win-amd64-3.10\\cffi\n",
      "  copying cffi\\backend_ctypes.py -> build\\lib.win-amd64-3.10\\cffi\n",
      "  copying cffi\\cffi_opcode.py -> build\\lib.win-amd64-3.10\\cffi\n",
      "  copying cffi\\commontypes.py -> build\\lib.win-amd64-3.10\\cffi\n",
      "  copying cffi\\cparser.py -> build\\lib.win-amd64-3.10\\cffi\n",
      "  copying cffi\\ffiplatform.py -> build\\lib.win-amd64-3.10\\cffi\n",
      "  copying cffi\\lock.py -> build\\lib.win-amd64-3.10\\cffi\n",
      "  copying cffi\\model.py -> build\\lib.win-amd64-3.10\\cffi\n",
      "  copying cffi\\recompiler.py -> build\\lib.win-amd64-3.10\\cffi\n",
      "  copying cffi\\setuptools_ext.py -> build\\lib.win-amd64-3.10\\cffi\n",
      "  copying cffi\\vengine_cpy.py -> build\\lib.win-amd64-3.10\\cffi\n",
      "  copying cffi\\vengine_gen.py -> build\\lib.win-amd64-3.10\\cffi\n",
      "  copying cffi\\verifier.py -> build\\lib.win-amd64-3.10\\cffi\n",
      "  copying cffi\\__init__.py -> build\\lib.win-amd64-3.10\\cffi\n",
      "  copying cffi\\_cffi_include.h -> build\\lib.win-amd64-3.10\\cffi\n",
      "  copying cffi\\parse_c_type.h -> build\\lib.win-amd64-3.10\\cffi\n",
      "  copying cffi\\_embedding.h -> build\\lib.win-amd64-3.10\\cffi\n",
      "  running build_ext\n",
      "  building '_cffi_backend' extension\n",
      "  error: Microsoft Visual C++ 14.0 or greater is required. Get it with \"Microsoft C++ Build Tools\": https://visualstudio.microsoft.com/visual-cpp-build-tools/\n",
      "  [end of output]\n",
      "  \n",
      "  note: This error originates from a subprocess, and is likely not a problem with pip.\n",
      "  ERROR: Failed building wheel for cffi\n",
      "WARNING: Ignoring invalid distribution -rotobuf (c:\\users\\dell\\appdata\\local\\programs\\python\\python310\\lib\\site-packages)\n",
      "    WARNING: Ignoring invalid distribution -rotobuf (c:\\users\\dell\\appdata\\local\\programs\\python\\python310\\lib\\site-packages)\n",
      "  error: subprocess-exited-with-error\n",
      "  \n",
      "  Running setup.py install for cffi did not run successfully.\n",
      "  exit code: 1\n",
      "  \n",
      "  [26 lines of output]\n",
      "  running install\n",
      "  running build\n",
      "  running build_py\n",
      "  creating build\n",
      "  creating build\\lib.win-amd64-3.10\n",
      "  creating build\\lib.win-amd64-3.10\\cffi\n",
      "  copying cffi\\api.py -> build\\lib.win-amd64-3.10\\cffi\n",
      "  copying cffi\\backend_ctypes.py -> build\\lib.win-amd64-3.10\\cffi\n",
      "  copying cffi\\cffi_opcode.py -> build\\lib.win-amd64-3.10\\cffi\n",
      "  copying cffi\\commontypes.py -> build\\lib.win-amd64-3.10\\cffi\n",
      "  copying cffi\\cparser.py -> build\\lib.win-amd64-3.10\\cffi\n",
      "  copying cffi\\ffiplatform.py -> build\\lib.win-amd64-3.10\\cffi\n",
      "  copying cffi\\lock.py -> build\\lib.win-amd64-3.10\\cffi\n",
      "  copying cffi\\model.py -> build\\lib.win-amd64-3.10\\cffi\n",
      "  copying cffi\\recompiler.py -> build\\lib.win-amd64-3.10\\cffi\n",
      "  copying cffi\\setuptools_ext.py -> build\\lib.win-amd64-3.10\\cffi\n",
      "  copying cffi\\vengine_cpy.py -> build\\lib.win-amd64-3.10\\cffi\n",
      "  copying cffi\\vengine_gen.py -> build\\lib.win-amd64-3.10\\cffi\n",
      "  copying cffi\\verifier.py -> build\\lib.win-amd64-3.10\\cffi\n",
      "  copying cffi\\__init__.py -> build\\lib.win-amd64-3.10\\cffi\n",
      "  copying cffi\\_cffi_include.h -> build\\lib.win-amd64-3.10\\cffi\n",
      "  copying cffi\\parse_c_type.h -> build\\lib.win-amd64-3.10\\cffi\n",
      "  copying cffi\\_embedding.h -> build\\lib.win-amd64-3.10\\cffi\n",
      "  running build_ext\n",
      "  building '_cffi_backend' extension\n",
      "  error: Microsoft Visual C++ 14.0 or greater is required. Get it with \"Microsoft C++ Build Tools\": https://visualstudio.microsoft.com/visual-cpp-build-tools/\n",
      "  [end of output]\n",
      "  \n",
      "  note: This error originates from a subprocess, and is likely not a problem with pip.\n",
      "error: legacy-install-failure\n",
      "\n",
      "Encountered error while trying to install package.\n",
      "\n",
      "cffi\n",
      "\n",
      "note: This is an issue with the package mentioned above, not pip.\n",
      "hint: See above for output from the failure.\n",
      "WARNING: Ignoring invalid distribution -rotobuf (c:\\users\\dell\\appdata\\local\\programs\\python\\python310\\lib\\site-packages)\n",
      "WARNING: Ignoring invalid distribution -rotobuf (c:\\users\\dell\\appdata\\local\\programs\\python\\python310\\lib\\site-packages)\n",
      "WARNING: Ignoring invalid distribution -rotobuf (c:\\users\\dell\\appdata\\local\\programs\\python\\python310\\lib\\site-packages)\n",
      "\n",
      "[notice] A new release of pip available: 22.3.1 -> 23.3.1\n",
      "[notice] To update, run: python.exe -m pip install --upgrade pip\n"
     ]
    }
   ],
   "source": [
    "!pip install python-libmagic"
   ]
  },
  {
   "cell_type": "code",
   "execution_count": 10,
   "id": "063312bb",
   "metadata": {},
   "outputs": [
    {
     "name": "stderr",
     "output_type": "stream",
     "text": [
      "2023-11-28 00:06:21.788 WARNING unstructured: libmagic is unavailable but assists in filetype detection on file-like objects. Please consider installing libmagic for better results.\n",
      "2023-11-28 00:06:21.788 ERROR   langchain.document_loaders.url: Error fetching or processing https://www.livemint.com/news/india/uttarkashi-tunnel-collapse-silkyara-ndrf-deploys-team-rescue-mission-41-workers-top-10-updates-pushkar-singh-dhami-11700703183514.html, exception: Invalid file. The FileType.UNK file type is not supported in partition.\n",
      "2023-11-28 00:06:21.958 WARNING unstructured: libmagic is unavailable but assists in filetype detection on file-like objects. Please consider installing libmagic for better results.\n",
      "2023-11-28 00:06:21.958 ERROR   langchain.document_loaders.url: Error fetching or processing https://www.indiatvnews.com/sports/cricket/india-s-schedule-after-world-cup-2023-final-loss-india-vs-australia-t20i-series-t20-world-cup-2024-2023-11-20-903594, exception: Invalid file. The FileType.UNK file type is not supported in partition.\n"
     ]
    }
   ],
   "source": [
    "loaders= UnstructuredURLLoader(urls=[\"https://www.livemint.com/news/india/uttarkashi-tunnel-collapse-silkyara-ndrf-deploys-team-rescue-mission-41-workers-top-10-updates-pushkar-singh-dhami-11700703183514.html\",\n",
    "     \"https://www.indiatvnews.com/sports/cricket/india-s-schedule-after-world-cup-2023-final-loss-india-vs-australia-t20i-series-t20-world-cup-2024-2023-11-20-903594\"]\n",
    ")\n",
    "data=loaders.load()\n"
   ]
  },
  {
   "cell_type": "code",
   "execution_count": 11,
   "id": "6e2b0dba",
   "metadata": {},
   "outputs": [
    {
     "data": {
      "text/plain": [
       "[]"
      ]
     },
     "execution_count": 11,
     "metadata": {},
     "output_type": "execute_result"
    }
   ],
   "source": [
    "data"
   ]
  },
  {
   "cell_type": "code",
   "execution_count": 12,
   "id": "48af11d7",
   "metadata": {},
   "outputs": [],
   "source": [
    "urls=[\"https://www.livemint.com/news/india/uttarkashi-tunnel-collapse-silkyara-ndrf-deploys-team-rescue-mission-41-workers-top-10-updates-pushkar-singh-dhami-11700703183514.html\",\n",
    "     \"https://www.indiatvnews.com/sports/cricket/india-s-schedule-after-world-cup-2023-final-loss-india-vs-australia-t20i-series-t20-world-cup-2024-2023-11-20-903594\"]\n",
    "responses=[]\n",
    "\n",
    "for url in urls:\n",
    "    response=requests.get(url)\n",
    "    if response.status_code==200:\n",
    "        soup = BeautifulSoup(response.text, 'html.parser')\n",
    "        text = soup.get_text()\n",
    "        responses.append((text, response.url))\n",
    "        \n",
    "    else:\n",
    "        print(f\"Failed to retrieve the URL. Url={url} Status_code :{response.status_code}\")"
   ]
  },
  {
   "cell_type": "code",
   "execution_count": 13,
   "id": "5c9be10e",
   "metadata": {},
   "outputs": [],
   "source": [
    "import string \n",
    "punct=string.punctuation\n",
    "seps=[]\n",
    "for i in punct:\n",
    "    seps.append(i)"
   ]
  },
  {
   "cell_type": "code",
   "execution_count": 14,
   "id": "a6556e4a",
   "metadata": {},
   "outputs": [],
   "source": [
    "text_splitter=RecursiveCharacterTextSplitter(\n",
    "    separators=[\"\\n\\n\", \"\\n\", \"?\",\".\" ]+seps+[\" \"],\n",
    "    chunk_size=1000,\n",
    "    chunk_overlap=200\n",
    ")"
   ]
  },
  {
   "cell_type": "code",
   "execution_count": null,
   "id": "145e5ca0",
   "metadata": {},
   "outputs": [],
   "source": []
  }
 ],
 "metadata": {
  "kernelspec": {
   "display_name": "Python 3 (ipykernel)",
   "language": "python",
   "name": "python3"
  },
  "language_info": {
   "codemirror_mode": {
    "name": "ipython",
    "version": 3
   },
   "file_extension": ".py",
   "mimetype": "text/x-python",
   "name": "python",
   "nbconvert_exporter": "python",
   "pygments_lexer": "ipython3",
   "version": "3.10.5"
  }
 },
 "nbformat": 4,
 "nbformat_minor": 5
}
